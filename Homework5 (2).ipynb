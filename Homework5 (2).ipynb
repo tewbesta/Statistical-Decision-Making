{
 "cells": [
  {
   "cell_type": "markdown",
   "metadata": {
    "deletable": false,
    "editable": false,
    "nbgrader": {
     "grade": false,
     "locked": true,
     "solution": false
    }
   },
   "source": [
    "All questions in this homework will be graded manually. "
   ]
  },
  {
   "cell_type": "code",
   "execution_count": 16,
   "metadata": {
    "collapsed": true,
    "deletable": false,
    "editable": false,
    "nbgrader": {
     "grade": false,
     "locked": true,
     "solution": false
    }
   },
   "outputs": [],
   "source": [
    "import numpy as np\n",
    "import random\n",
    "import math\n",
    "import pandas as pd\n",
    "import matplotlib.pyplot as plt \n",
    "from scipy import stats as scs\n",
    "from sklearn.model_selection import train_test_split\n",
    "from sklearn.linear_model import Perceptron\n",
    "from sklearn.naive_bayes import MultinomialNB\n",
    "from sklearn.model_selection import KFold\n",
    "from sklearn import tree"
   ]
  },
  {
   "cell_type": "markdown",
   "metadata": {
    "deletable": false,
    "editable": false,
    "nbgrader": {
     "grade": false,
     "locked": true,
     "solution": false
    }
   },
   "source": [
    "## Q1 (1 pt)"
   ]
  },
  {
   "cell_type": "markdown",
   "metadata": {
    "deletable": false,
    "editable": false,
    "nbgrader": {
     "grade": false,
     "locked": true,
     "solution": false
    }
   },
   "source": [
    "Consider the data in the file 'heart.csv'. The column 'target' corresponds to the class label. \n",
    "Use the train_test_split() function in sklearn to randomly split the dataset into 70% training set and 30% test set, by setting test_size=0.30, shuffle=True, and  rnd_state=42 in the train_test_split() function. \n",
    "\n",
    "Fix the train and test sets obtained using this setting. You will use the same test set for calculating the accuracy in the following questions. "
   ]
  },
  {
   "cell_type": "code",
   "execution_count": 17,
   "metadata": {},
   "outputs": [
    {
     "data": {
      "text/plain": [
       "(     age  sex  cp  trestbps  chol  fbs  restecg  thalach  exang  oldpeak  \\\n",
       " 124   39    0   2        94   199    0        1      179      0      0.0   \n",
       " 72    29    1   1       130   204    0        0      202      0      0.0   \n",
       " 15    50    0   2       120   219    0        1      158      0      1.6   \n",
       " 10    54    1   0       140   239    0        1      160      0      1.2   \n",
       " 163   38    1   2       138   175    0        1      173      0      0.0   \n",
       " 155   58    0   0       130   197    0        1      131      0      0.6   \n",
       " 97    52    1   0       108   233    1        1      147      0      0.1   \n",
       " 68    44    1   1       120   220    0        1      170      0      0.0   \n",
       " 229   64    1   2       125   309    0        1      131      1      1.8   \n",
       " 37    54    1   2       150   232    0        0      165      0      1.6   \n",
       " 16    58    0   2       120   340    0        1      172      0      0.0   \n",
       " 126   47    1   0       112   204    0        1      143      0      0.1   \n",
       " 291   58    1   0       114   318    0        2      140      0      4.4   \n",
       " 273   58    1   0       100   234    0        1      156      0      0.1   \n",
       " 67    45    0   1       130   234    0        0      175      0      0.6   \n",
       " 108   50    0   1       120   244    0        1      162      0      1.1   \n",
       " 69    62    0   0       124   209    0        1      163      0      0.0   \n",
       " 31    65    1   0       120   177    0        1      140      0      0.4   \n",
       " 178   43    1   0       120   177    0        0      120      1      2.5   \n",
       " 154   39    0   2       138   220    0        1      152      0      0.0   \n",
       " 230   47    1   2       108   243    0        1      152      0      0.0   \n",
       " 295   63    1   0       140   187    0        0      144      1      4.0   \n",
       " 18    43    1   0       150   247    0        1      171      0      1.5   \n",
       " 185   44    1   0       112   290    0        0      153      0      0.0   \n",
       " 96    62    0   0       140   394    0        0      157      0      1.2   \n",
       " 183   58    1   2       112   230    0        0      165      0      2.5   \n",
       " 148   44    1   2       120   226    0        1      169      0      0.0   \n",
       " 86    68    1   2       118   277    0        1      151      0      1.0   \n",
       " 253   67    1   0       100   299    0        0      125      1      0.9   \n",
       " 289   55    0   0       128   205    0        2      130      1      2.0   \n",
       " ..   ...  ...  ..       ...   ...  ...      ...      ...    ...      ...   \n",
       " 54    63    0   2       135   252    0        0      172      0      0.0   \n",
       " 50    51    0   2       130   256    0        0      149      0      0.5   \n",
       " 174   60    1   0       130   206    0        0      132      1      2.4   \n",
       " 189   41    1   0       110   172    0        0      158      0      0.0   \n",
       " 301   57    1   0       130   131    0        1      115      1      1.2   \n",
       " 187   54    1   0       124   266    0        0      109      1      2.2   \n",
       " 169   53    1   0       140   203    1        0      155      1      3.1   \n",
       " 58    34    1   3       118   182    0        0      174      0      0.0   \n",
       " 48    53    0   2       128   216    0        0      115      0      0.0   \n",
       " 235   51    1   0       140   299    0        1      173      1      1.6   \n",
       " 252   62    0   0       138   294    1        1      106      0      1.9   \n",
       " 21    44    1   2       130   233    0        1      179      1      0.4   \n",
       " 160   56    1   1       120   240    0        1      169      0      0.0   \n",
       " 276   58    1   0       146   218    0        1      105      0      2.0   \n",
       " 191   58    1   0       128   216    0        0      131      1      2.2   \n",
       " 257   50    1   0       144   200    0        0      126      1      0.9   \n",
       " 149   42    1   2       130   180    0        1      150      0      0.0   \n",
       " 130   54    0   2       160   201    0        1      163      0      0.0   \n",
       " 151   71    0   0       112   149    0        1      125      0      1.6   \n",
       " 99    53    1   2       130   246    1        0      173      0      0.0   \n",
       " 87    46    1   1       101   197    1        1      156      0      0.0   \n",
       " 214   56    1   0       125   249    1        0      144      1      1.2   \n",
       " 121   59    1   0       138   271    0        0      182      0      0.0   \n",
       " 302   57    0   1       130   236    0        0      174      0      0.0   \n",
       " 20    59    1   0       135   234    0        1      161      0      0.5   \n",
       " 188   50    1   2       140   233    0        1      163      0      0.6   \n",
       " 71    51    1   2        94   227    0        1      154      1      0.0   \n",
       " 106   69    1   3       160   234    1        0      131      0      0.1   \n",
       " 270   46    1   0       120   249    0        0      144      0      0.8   \n",
       " 102   63    0   1       140   195    0        1      179      0      0.0   \n",
       " \n",
       "      slope  ca  thal  \n",
       " 124      2   0     2  \n",
       " 72       2   0     2  \n",
       " 15       1   0     2  \n",
       " 10       2   0     2  \n",
       " 163      2   4     2  \n",
       " 155      1   0     2  \n",
       " 97       2   3     3  \n",
       " 68       2   0     2  \n",
       " 229      1   0     3  \n",
       " 37       2   0     3  \n",
       " 16       2   0     2  \n",
       " 126      2   0     2  \n",
       " 291      0   3     1  \n",
       " 273      2   1     3  \n",
       " 67       1   0     2  \n",
       " 108      2   0     2  \n",
       " 69       2   0     2  \n",
       " 31       2   0     3  \n",
       " 178      1   0     3  \n",
       " 154      1   0     2  \n",
       " 230      2   0     2  \n",
       " 295      2   2     3  \n",
       " 18       2   0     2  \n",
       " 185      2   1     2  \n",
       " 96       1   0     2  \n",
       " 183      1   1     3  \n",
       " 148      2   0     2  \n",
       " 86       2   1     3  \n",
       " 253      1   2     2  \n",
       " 289      1   1     3  \n",
       " ..     ...  ..   ...  \n",
       " 54       2   0     2  \n",
       " 50       2   0     2  \n",
       " 174      1   2     3  \n",
       " 189      2   0     3  \n",
       " 301      1   1     3  \n",
       " 187      1   1     3  \n",
       " 169      0   0     3  \n",
       " 58       2   0     2  \n",
       " 48       2   0     0  \n",
       " 235      2   0     3  \n",
       " 252      1   3     2  \n",
       " 21       2   0     2  \n",
       " 160      0   0     2  \n",
       " 276      1   1     3  \n",
       " 191      1   3     3  \n",
       " 257      1   0     3  \n",
       " 149      2   0     2  \n",
       " 130      2   1     2  \n",
       " 151      1   0     2  \n",
       " 99       2   3     2  \n",
       " 87       2   0     3  \n",
       " 214      1   1     2  \n",
       " 121      2   0     2  \n",
       " 302      1   1     2  \n",
       " 20       1   0     3  \n",
       " 188      1   1     3  \n",
       " 71       2   1     3  \n",
       " 106      1   1     2  \n",
       " 270      2   0     3  \n",
       " 102      2   2     2  \n",
       " \n",
       " [212 rows x 13 columns],\n",
       "      age  sex  cp  trestbps  chol  fbs  restecg  thalach  exang  oldpeak  \\\n",
       " 179   57    1   0       150   276    0        0      112      1      0.6   \n",
       " 228   59    1   3       170   288    0        0      159      0      0.2   \n",
       " 111   57    1   2       150   126    1        1      173      0      0.2   \n",
       " 246   56    0   0       134   409    0        0      150      1      1.9   \n",
       " 60    71    0   2       110   265    1        0      130      0      0.0   \n",
       " 9     57    1   2       150   168    0        1      174      0      1.6   \n",
       " 119   46    0   0       138   243    0        0      152      1      0.0   \n",
       " 223   56    0   0       200   288    1        0      133      1      4.0   \n",
       " 268   54    1   0       122   286    0        0      116      1      3.2   \n",
       " 33    54    1   2       125   273    0        0      152      0      0.5   \n",
       " 5     57    1   0       140   192    0        1      148      0      0.4   \n",
       " 101   59    1   3       178   270    0        0      145      0      4.2   \n",
       " 45    52    1   1       120   325    0        1      172      0      0.2   \n",
       " 175   40    1   0       110   167    0        0      114      1      2.0   \n",
       " 118   46    0   1       105   204    0        1      172      0      0.0   \n",
       " 46    44    1   2       140   235    0        0      180      0      0.0   \n",
       " 125   34    0   1       118   210    0        1      192      0      0.7   \n",
       " 192   54    1   0       120   188    0        1      113      0      1.4   \n",
       " 285   46    1   0       140   311    0        1      120      1      1.8   \n",
       " 279   61    1   0       138   166    0        0      125      1      3.6   \n",
       " 152   64    1   3       170   227    0        0      155      0      0.6   \n",
       " 269   56    1   0       130   283    1        0      103      1      1.6   \n",
       " 272   67    1   0       120   237    0        1       71      0      1.0   \n",
       " 25    71    0   1       160   302    0        1      162      0      0.4   \n",
       " 146   44    0   2       118   242    0        1      149      0      0.3   \n",
       " 283   40    1   0       152   223    0        1      181      0      0.0   \n",
       " 254   59    1   3       160   273    0        0      125      0      0.0   \n",
       " 73    51    1   0       140   261    0        0      186      1      0.0   \n",
       " 231   57    1   0       165   289    1        0      124      0      1.0   \n",
       " 109   50    0   0       110   254    0        0      159      0      0.0   \n",
       " ..   ...  ...  ..       ...   ...  ...      ...      ...    ...      ...   \n",
       " 132   42    1   1       120   295    0        1      162      0      0.0   \n",
       " 202   58    1   0       150   270    0        0      111      1      0.8   \n",
       " 196   46    1   2       150   231    0        1      147      0      3.6   \n",
       " 75    55    0   1       135   250    0        0      161      0      1.4   \n",
       " 176   60    1   0       117   230    1        1      160      1      1.4   \n",
       " 59    57    0   0       128   303    0        0      159      0      0.0   \n",
       " 93    54    0   1       132   288    1        0      159      1      0.0   \n",
       " 6     56    0   1       140   294    0        0      153      0      1.3   \n",
       " 177   64    1   2       140   335    0        1      158      0      0.0   \n",
       " 30    41    0   1       105   198    0        1      168      0      0.0   \n",
       " 22    42    1   0       140   226    0        1      178      0      0.0   \n",
       " 258   62    0   0       150   244    0        1      154      1      1.4   \n",
       " 56    48    1   0       122   222    0        0      186      0      0.0   \n",
       " 242   64    1   0       145   212    0        0      132      0      2.0   \n",
       " 114   55    1   1       130   262    0        1      155      0      0.0   \n",
       " 287   57    1   1       154   232    0        0      164      0      0.0   \n",
       " 282   59    1   2       126   218    1        1      134      0      2.2   \n",
       " 197   67    1   0       125   254    1        1      163      0      0.2   \n",
       " 158   58    1   1       125   220    0        1      144      0      0.4   \n",
       " 164   38    1   2       138   175    0        1      173      0      0.0   \n",
       " 244   56    1   0       132   184    0        0      105      1      2.1   \n",
       " 84    42    0   0       102   265    0        0      122      0      0.6   \n",
       " 66    51    1   2       100   222    0        1      143      1      1.2   \n",
       " 113   43    1   0       110   211    0        1      161      0      0.0   \n",
       " 167   62    0   0       140   268    0        0      160      0      3.6   \n",
       " 250   51    1   0       140   298    0        1      122      1      4.2   \n",
       " 19    69    0   3       140   239    0        1      151      0      1.8   \n",
       " 143   67    0   0       106   223    0        1      142      0      0.3   \n",
       " 79    58    1   2       105   240    0        0      154      1      0.6   \n",
       " 144   76    0   2       140   197    0        2      116      0      1.1   \n",
       " \n",
       "      slope  ca  thal  \n",
       " 179      1   1     1  \n",
       " 228      1   0     3  \n",
       " 111      2   1     3  \n",
       " 246      1   2     3  \n",
       " 60       2   1     2  \n",
       " 9        2   0     2  \n",
       " 119      1   0     2  \n",
       " 223      0   2     3  \n",
       " 268      1   2     2  \n",
       " 33       0   1     2  \n",
       " 5        1   0     1  \n",
       " 101      0   0     3  \n",
       " 45       2   0     2  \n",
       " 175      1   0     3  \n",
       " 118      2   0     2  \n",
       " 46       2   0     2  \n",
       " 125      2   0     2  \n",
       " 192      1   1     3  \n",
       " 285      1   2     3  \n",
       " 279      1   1     2  \n",
       " 152      1   0     3  \n",
       " 269      0   0     3  \n",
       " 272      1   0     2  \n",
       " 25       2   2     2  \n",
       " 146      1   1     2  \n",
       " 283      2   0     3  \n",
       " 254      2   0     2  \n",
       " 73       2   0     2  \n",
       " 231      1   3     3  \n",
       " 109      2   0     2  \n",
       " ..     ...  ..   ...  \n",
       " 132      2   0     2  \n",
       " 202      2   0     3  \n",
       " 196      1   0     2  \n",
       " 75       1   0     2  \n",
       " 176      2   2     3  \n",
       " 59       2   1     2  \n",
       " 93       2   1     2  \n",
       " 6        1   0     2  \n",
       " 177      2   0     2  \n",
       " 30       2   1     2  \n",
       " 22       2   0     2  \n",
       " 258      1   0     2  \n",
       " 56       2   0     2  \n",
       " 242      1   2     1  \n",
       " 114      2   0     2  \n",
       " 287      2   1     2  \n",
       " 282      1   1     1  \n",
       " 197      1   2     3  \n",
       " 158      1   4     3  \n",
       " 164      2   4     2  \n",
       " 244      1   1     1  \n",
       " 84       1   0     2  \n",
       " 66       1   0     2  \n",
       " 113      2   0     3  \n",
       " 167      0   2     2  \n",
       " 250      1   3     3  \n",
       " 19       2   2     2  \n",
       " 143      2   2     2  \n",
       " 79       1   0     3  \n",
       " 144      1   0     2  \n",
       " \n",
       " [91 rows x 13 columns],\n",
       " 124    1\n",
       " 72     1\n",
       " 15     1\n",
       " 10     1\n",
       " 163    1\n",
       " 155    1\n",
       " 97     1\n",
       " 68     1\n",
       " 229    0\n",
       " 37     1\n",
       " 16     1\n",
       " 126    1\n",
       " 291    0\n",
       " 273    0\n",
       " 67     1\n",
       " 108    1\n",
       " 69     1\n",
       " 31     1\n",
       " 178    0\n",
       " 154    1\n",
       " 230    0\n",
       " 295    0\n",
       " 18     1\n",
       " 185    0\n",
       " 96     1\n",
       " 183    0\n",
       " 148    1\n",
       " 86     1\n",
       " 253    0\n",
       " 289    0\n",
       "       ..\n",
       " 54     1\n",
       " 50     1\n",
       " 174    0\n",
       " 189    0\n",
       " 301    0\n",
       " 187    0\n",
       " 169    0\n",
       " 58     1\n",
       " 48     1\n",
       " 235    0\n",
       " 252    0\n",
       " 21     1\n",
       " 160    1\n",
       " 276    0\n",
       " 191    0\n",
       " 257    0\n",
       " 149    1\n",
       " 130    1\n",
       " 151    1\n",
       " 99     1\n",
       " 87     1\n",
       " 214    0\n",
       " 121    1\n",
       " 302    0\n",
       " 20     1\n",
       " 188    0\n",
       " 71     1\n",
       " 106    1\n",
       " 270    0\n",
       " 102    1\n",
       " Name: target, Length: 212, dtype: int64,\n",
       " 179    0\n",
       " 228    0\n",
       " 111    1\n",
       " 246    0\n",
       " 60     1\n",
       " 9      1\n",
       " 119    1\n",
       " 223    0\n",
       " 268    0\n",
       " 33     1\n",
       " 5      1\n",
       " 101    1\n",
       " 45     1\n",
       " 175    0\n",
       " 118    1\n",
       " 46     1\n",
       " 125    1\n",
       " 192    0\n",
       " 285    0\n",
       " 279    0\n",
       " 152    1\n",
       " 269    0\n",
       " 272    0\n",
       " 25     1\n",
       " 146    1\n",
       " 283    0\n",
       " 254    0\n",
       " 73     1\n",
       " 231    0\n",
       " 109    1\n",
       "       ..\n",
       " 132    1\n",
       " 202    0\n",
       " 196    0\n",
       " 75     1\n",
       " 176    0\n",
       " 59     1\n",
       " 93     1\n",
       " 6      1\n",
       " 177    0\n",
       " 30     1\n",
       " 22     1\n",
       " 258    0\n",
       " 56     1\n",
       " 242    0\n",
       " 114    1\n",
       " 287    0\n",
       " 282    0\n",
       " 197    0\n",
       " 158    1\n",
       " 164    1\n",
       " 244    0\n",
       " 84     1\n",
       " 66     1\n",
       " 113    1\n",
       " 167    0\n",
       " 250    0\n",
       " 19     1\n",
       " 143    1\n",
       " 79     1\n",
       " 144    1\n",
       " Name: target, Length: 91, dtype: int64)"
      ]
     },
     "execution_count": 17,
     "metadata": {},
     "output_type": "execute_result"
    }
   ],
   "source": [
    "# get_train_test_split(filename) takes as input \n",
    "# the filename to read in data from, the sample size, test set size and random state.\n",
    "# Returns the train and test splits obtained from the sampled data with the provided random state. \n",
    "\n",
    "\n",
    "\n",
    "def get_train_test_split(filename, rnd_state):\n",
    "    \n",
    "    ###\n",
    "    ### YOUR CODE HERE\n",
    "    ###\n",
    "    test_proportion = 0.3\n",
    "    df=pd.read_csv(filename)\n",
    "    y=df.target\n",
    "    X=df[['age','sex','cp','trestbps','chol','fbs','restecg','thalach','exang','oldpeak','slope','ca','thal']]\n",
    "    X_train, X_test, y_train, y_test = train_test_split(X,y,test_size=test_proportion,shuffle=True,random_state=rnd_state)\n",
    "    return  X_train, X_test, y_train, y_test\n",
    "# For example,\n",
    "get_train_test_split('heart.csv',42)\n",
    "# -> (X_train, X_test, y_train, y_test)\n"
   ]
  },
  {
   "cell_type": "markdown",
   "metadata": {
    "deletable": false,
    "editable": false,
    "nbgrader": {
     "grade": false,
     "locked": true,
     "solution": false
    }
   },
   "source": [
    "Run the following cell to initialize the train and test splits. "
   ]
  },
  {
   "cell_type": "code",
   "execution_count": 18,
   "metadata": {
    "collapsed": true,
    "deletable": false,
    "editable": false,
    "nbgrader": {
     "grade": false,
     "locked": true,
     "solution": false
    }
   },
   "outputs": [],
   "source": [
    "X_train, X_test, y_train, y_test = get_train_test_split('heart.csv',42)"
   ]
  },
  {
   "cell_type": "markdown",
   "metadata": {
    "deletable": false,
    "editable": false,
    "nbgrader": {
     "grade": false,
     "locked": true,
     "solution": false
    }
   },
   "source": [
    "## Q2 (2 pts)"
   ]
  },
  {
   "cell_type": "markdown",
   "metadata": {
    "deletable": false,
    "editable": false,
    "nbgrader": {
     "grade": false,
     "locked": true,
     "solution": false
    }
   },
   "source": [
    "Now, write a method that takes the train and test datasets obtained above, and fits the specified model type using the training data. The model_type argument can be either 'NBC' (Naive Bayes Classifier), 'P' (Perceptron), 'DT' (Decision Tree). \n",
    "For NBC, use MultinomialNB() function in sklearn. \n",
    "For P, use Perceptron(tol=1e-3) in sklearn. \n",
    "For DT, use DecisionTreeClassifier() in sklearn.\n",
    "\n",
    "Using the learned model, return the accuracy on the test data. "
   ]
  },
  {
   "cell_type": "code",
   "execution_count": 19,
   "metadata": {},
   "outputs": [
    {
     "name": "stdout",
     "output_type": "stream",
     "text": [
      "0.8351648351648352\n",
      "0.7362637362637363\n",
      "0.7362637362637363\n"
     ]
    }
   ],
   "source": [
    "# get_accuracy(X_train, X_test, y_train, y_test, model_type) takes as input \n",
    "# the training and test splits: X_train, X_test, y_train, y_test, and\n",
    "# the model type ('NBC' or 'P' or 'DT')\n",
    "# Returns the accuracy on the test split by training the given model type on train splits. \n",
    "from sklearn.linear_model import Perceptron\n",
    "from sklearn.naive_bayes import GaussianNB\n",
    "def get_accuracy(X_train, X_test, y_train, y_test, model_type):\n",
    "    \n",
    "    ###\n",
    "    ### YOUR CODE HERE\n",
    "    ###\n",
    "    if(model_type==\"P\"):\n",
    "        model = Perceptron(tol=1e-3).fit(X_train, y_train)\n",
    "    if(model_type==\"NBC\"):\n",
    "        model =GaussianNB().fit(X_train, y_train) # use default parameters\n",
    "    if(model_type==\"DT\"):\n",
    "        model = tree.DecisionTreeClassifier().fit(X_train, y_train)\n",
    "   \n",
    "    return model.score(X_test,y_test)\n",
    "    \n",
    "# For example,\n",
    "print(get_accuracy(X_train, X_test, y_train, y_test, 'NBC'))\n",
    "# varies around -> 0.7912087912087912\n",
    "\n",
    "print(get_accuracy(X_train, X_test, y_train, y_test, 'P'))\n",
    "# varies around -> 0.7362637362637363\n",
    "\n",
    "print(get_accuracy(X_train, X_test, y_train, y_test, 'DT'))\n",
    "# varies around -> 0.7252747252747253"
   ]
  },
  {
   "cell_type": "markdown",
   "metadata": {
    "deletable": false,
    "editable": false,
    "nbgrader": {
     "grade": false,
     "locked": true,
     "solution": false
    }
   },
   "source": [
    "## Q3 (2 pts)"
   ]
  },
  {
   "cell_type": "markdown",
   "metadata": {
    "deletable": false,
    "editable": false,
    "nbgrader": {
     "grade": false,
     "locked": true,
     "solution": false
    }
   },
   "source": [
    "Use the train and test datasets obtained from the get_train_test_split() function in Q1. Given a list of proportions, sample (without replacement) different proportions of the training data. For each sample, fit the specified model_type. \n",
    "\n",
    "Then apply the model to the data indicated by the data_type argument and record accuracy. When data_type='train' apply the model to the sampled training data, when data_type='test' apply the model to the full test set (i.e., do not sample the test set), when data_type='both' apply the model to both the training set and the test set. \n",
    "\n",
    "Return a dictionary that maps the sample size (key) used to fit the model to the corresponding accuracy on the specified data_type (value). Note when data_type='both', store the training and test accuracies as a tuple. \n",
    "\n",
    "For generating the samples, you can use np.random.choice()."
   ]
  },
  {
   "cell_type": "code",
   "execution_count": 20,
   "metadata": {},
   "outputs": [
    {
     "data": {
      "text/plain": [
       "{21: (0.6190476190476191, 0.38461538461538464),\n",
       " 63: (0.6875, 0.5824175824175825),\n",
       " 106: (0.5943396226415094, 0.5824175824175825),\n",
       " 148: (0.5608108108108109, 0.3626373626373626),\n",
       " 190: (0.5706806282722513, 0.27472527472527475)}"
      ]
     },
     "execution_count": 20,
     "metadata": {},
     "output_type": "execute_result"
    }
   ],
   "source": [
    "# get_learning_curve(filename, rnd_state, proportions, model_type, data_type) takes as input \n",
    "# the filename to read in data from, the random state, a list of proportions, \n",
    "# the model type ('NBC' or 'P' or 'DT'), and the data type ('train' or 'test' or 'both').\n",
    "# Returns a dictionary with key as the size of the sample used to fit the model,\n",
    "# and value as the corresponding accuracy (a floating point value for data_type = 'train' or 'test', and \n",
    "# a tuple of accuracies for data_type='both') on the specified data. \n",
    "\n",
    "def get_learning_curve(filename, rnd_state, proportions, model_type, data_type):\n",
    "    ###\n",
    "    ### YOUR CODE HERE\n",
    "    ###\n",
    "    result={}\n",
    "    for i in proportions:\n",
    "       \n",
    "        X_train, X_test, y_train, y_test = get_train_test_split('heart.csv',42)\n",
    "        l=(len(X_train))\n",
    "       \n",
    "        X_train=X_train.sample(frac=i,replace=True)\n",
    "        y_train=y_train.sample(frac=i,replace=True)\n",
    "        if(model_type==\"P\"):\n",
    "                model = Perceptron(tol=1e-3).fit(X_train, y_train)\n",
    "        if(model_type==\"NBC\"):\n",
    "                model =GaussianNB().fit(X_train, y_train) # use default parameters\n",
    "        if(model_type==\"DT\"):\n",
    "                model = tree.DecisionTreeClassifier().fit(X_train, y_train)\n",
    "        if data_type=='both':      \n",
    "            result[int(i*l)]= model.score(X_train,y_train), model.score(X_test,y_test)\n",
    "        if data_type=='train':      \n",
    "            result[int(i*l)]=  model.score(X_train,y_train)\n",
    "        if data_type=='test':      \n",
    "            result[int(i*l)]= model.score(X_test,y_test)\n",
    "    return result\n",
    "# For example,\n",
    "get_learning_curve('heart.csv', 42, [0.1, 0.3, 0.5, 0.7, 0.9], 'NBC', 'both')\n",
    "# -> Dictionary\n",
    "# 21: (..., ...),\n",
    "# 63: (..., ...),\n",
    "# 106: (..., ...),\n",
    "# 148: (..., ...),\n",
    "# 190: (..., ...)}\n"
   ]
  },
  {
   "cell_type": "markdown",
   "metadata": {
    "deletable": false,
    "editable": false,
    "nbgrader": {
     "grade": false,
     "locked": true,
     "solution": false
    }
   },
   "source": [
    "## Q4 (2 pt)"
   ]
  },
  {
   "cell_type": "markdown",
   "metadata": {
    "deletable": false,
    "editable": false,
    "nbgrader": {
     "grade": false,
     "locked": true,
     "solution": false
    }
   },
   "source": [
    "Write a function that calculates the average accuracy and standard error over a given number of trials. For each trial, call get_train_test_split() as in Q1 to generate a new train/test split, then call get_learning_curve() with the specified proportions. Set the 'random_state' parameter to trial number to faciliate testing, i.e., for the first trial use random_state=0, for the second sample use random_state=1, etc.\n",
    "\n",
    "Return a dictionary with key as the size of the sample used to fit the model, and the value as a tuple whose first element is the average accuracy, and second element is the standard error. Note, when data_type='both' the value should be a tuple with the avg/stderr for the training and test data."
   ]
  },
  {
   "cell_type": "code",
   "execution_count": 21,
   "metadata": {},
   "outputs": [
    {
     "data": {
      "text/plain": [
       "{21: 0.8047619047619048,\n",
       " 63: 1.4985119047619047,\n",
       " 106: 2.1513420934411496,\n",
       " 148: 2.7858015529006095,\n",
       " 190: 3.392607835623123}"
      ]
     },
     "execution_count": 21,
     "metadata": {},
     "output_type": "execute_result"
    }
   ],
   "source": [
    "# get_average_accuracy(filename, rnd_state, model_type, proportions, num_trials, data_type) takes as input \n",
    "# the filename to read in data from, the random state, the model type ('NBC' or 'P' or 'DT'), \n",
    "# a list of proportions, the number of trials, \n",
    "# and the type of data to calculate accuracy on ('train' or 'test' or 'both').\n",
    "# Returns a dictionary with key as the size of the sample used to fit the model, and the value as a tuple with:\n",
    "# the first element as the average accuracy, and the second element as the standard error. \n",
    "# Note, when data_type='both' the value should be a tuple with the average accuracy and standard error\n",
    "# for both the training and test data.\n",
    "\n",
    "def get_average_accuracy(filename, rnd_state, model_type, proportions, num_trials, data_type):    \n",
    "    ###\n",
    "    ### YOUR CODE HERE\n",
    "    ###\n",
    "    totalTr=0\n",
    "    totalTe=0\n",
    "    temp={}\n",
    "    for i in proportions:\n",
    "         \n",
    "            for j in range(num_trials):\n",
    "                    result={}\n",
    "                    X_train, X_test, y_train, y_test = get_train_test_split('heart.csv',j)\n",
    "                    l=(len(X_train))\n",
    "                    X_train=X_train.sample(frac=i,replace=True)\n",
    "                    y_train=y_train.sample(frac=i,replace=True)\n",
    "                    \n",
    "                    if(model_type==\"P\"):\n",
    "                            model = Perceptron(tol=1e-3).fit(X_train, y_train)\n",
    "                    if(model_type==\"NBC\"):\n",
    "                            model =GaussianNB().fit(X_train, y_train) # use default parameters\n",
    "                    if(model_type==\"DT\"):\n",
    "                            model = tree.DecisionTreeClassifier().fit(X_train, y_train)\n",
    "                    if data_type=='both':      \n",
    "                        result[int(i*l)]= model.score(X_train,y_train), model.score(X_test,y_test)\n",
    "                        totalTr+=result[int(i*l)][0] \n",
    "                        totalTe+=result[int(i*l)][1] \n",
    "                    if data_type=='train':      \n",
    "                        result[int(i*l)]=  model.score(X_train,y_train)\n",
    "                        totalTr+=result[int(i*l)] \n",
    "                    if data_type=='test':      \n",
    "                        result[int(i*l)]= model.score(X_test,y_test) \n",
    "                        totalTe+=result[int(i*l)]\n",
    "            if data_type=='test':\n",
    "               temp[int(i*l)]=totalTe/num_trials\n",
    "            if data_type=='train':\n",
    "                temp[int(i*l)]=totalTr/num_trials\n",
    "            if data_type=='both':\n",
    "                temp[int(i*l)]=totalTe/num_trials,totalTr/num_trials\n",
    "   \n",
    "    return temp      \n",
    "    \n",
    "# For example,\n",
    "get_average_accuracy('heart.csv', 42,'NBC', [0.1, 0.3, 0.5, 0.7, 0.9], 10, 'train')\n",
    "# -> Dictionary\n"
   ]
  },
  {
   "cell_type": "markdown",
   "metadata": {
    "deletable": false,
    "editable": false,
    "nbgrader": {
     "grade": false,
     "locked": true,
     "solution": false
    }
   },
   "source": [
    "## Q5 (5 pts)"
   ]
  },
  {
   "cell_type": "markdown",
   "metadata": {
    "deletable": false,
    "editable": false,
    "nbgrader": {
     "grade": false,
     "locked": true,
     "solution": false
    }
   },
   "source": [
    "(a) Consider the following proportions: [0.1, 0.2, 0.4, 0.6, 0.8]. Plot the learning curve for NBC showing the average accuracy and the standard error for 10 trials as a function of training set sample size. "
   ]
  },
  {
   "cell_type": "code",
   "execution_count": 22,
   "metadata": {
    "scrolled": true
   },
   "outputs": [
    {
     "data": {
      "image/png": "[encoded data removed]",
      "text/plain": [
       "<Figure size 432x288 with 1 Axes>"
      ]
     },
     "metadata": {},
     "output_type": "display_data"
    }
   ],
   "source": [
    "###\n",
    "### YOUR CODE HERE\n",
    "###\n",
    "x=get_average_accuracy('heart.csv', 42,'NBC', [0.1, 0.2, 0.4, 0.6, 0.8], 10, 'train').keys()\n",
    "y=get_average_accuracy('heart.csv', 42,'NBC', [0.1, 0.2, 0.4, 0.6, 0.8], 10, 'train').values()\n",
    "plt.plot(x,y)\n",
    "x=get_average_accuracy('heart.csv', 42,'NBC', [0.1, 0.2, 0.4, 0.6, 0.8], 10, 'test').keys()\n",
    "y=get_average_accuracy('heart.csv', 42,'NBC', [0.1, 0.2, 0.4, 0.6, 0.8], 10, 'test').values()\n",
    "plt.plot(x,y)\n",
    "plt.show()"
   ]
  },
  {
   "cell_type": "markdown",
   "metadata": {
    "deletable": false,
    "editable": false,
    "nbgrader": {
     "grade": false,
     "locked": true,
     "solution": false
    }
   },
   "source": [
    "(b) Plot the same learning curve as Q5a, but for Perceptron."
   ]
  },
  {
   "cell_type": "code",
   "execution_count": 23,
   "metadata": {},
   "outputs": [
    {
     "data": {
      "image/png": "[encoded data removed]",
      "text/plain": [
       "<Figure size 432x288 with 1 Axes>"
      ]
     },
     "metadata": {},
     "output_type": "display_data"
    }
   ],
   "source": [
    "###\n",
    "### YOUR CODE HERE\n",
    "###\n",
    "x=get_average_accuracy('heart.csv', 42,'P', [0.1, 0.2, 0.4, 0.6, 0.8], 10, 'train').keys()\n",
    "y=get_average_accuracy('heart.csv', 42,'P', [0.1, 0.2, 0.4, 0.6, 0.8], 10, 'train').values()\n",
    "plt.plot(x,y)\n",
    "\n",
    "x=get_average_accuracy('heart.csv', 42,'P', [0.1, 0.2, 0.4, 0.6, 0.8], 10, 'test').keys()\n",
    "y=get_average_accuracy('heart.csv', 42,'P', [0.1, 0.2, 0.4, 0.6, 0.8], 10, 'test').values()\n",
    "plt.plot(x,y)\n",
    "plt.show()\n"
   ]
  },
  {
   "cell_type": "markdown",
   "metadata": {
    "deletable": false,
    "editable": false,
    "nbgrader": {
     "grade": false,
     "locked": true,
     "solution": false
    }
   },
   "source": [
    "(c) Plot the same learning curve as Q5a, but for Decision Tree Classifier."
   ]
  },
  {
   "cell_type": "code",
   "execution_count": 24,
   "metadata": {},
   "outputs": [
    {
     "name": "stdout",
     "output_type": "stream",
     "text": [
      "{169: 4.577457376651447, 42: 1.9023809523809525, 84: 2.8317927170868353, 21: 0.961904761904762, 127: 3.7262809060632116}\n"
     ]
    },
    {
     "data": {
      "image/png": "[encoded data removed]",
      "text/plain": [
       "<Figure size 432x288 with 1 Axes>"
      ]
     },
     "metadata": {},
     "output_type": "display_data"
    }
   ],
   "source": [
    "###\n",
    "### YOUR CODE HERE\n",
    "###\n",
    "print(get_average_accuracy('heart.csv', 42,'DT', [0.1, 0.2, 0.4, 0.6, 0.8], 10, 'train'))\n",
    "x=get_average_accuracy('heart.csv', 42,'DT', [0.1, 0.2, 0.4, 0.6, 0.8], 10, 'train').keys()\n",
    "y=get_average_accuracy('heart.csv', 42,'DT', [0.1, 0.2, 0.4, 0.6, 0.8], 10, 'train').values()\n",
    "plt.plot(x,y)\n",
    "\n",
    "x=get_average_accuracy('heart.csv', 42,'DT', [0.1, 0.2, 0.4, 0.6, 0.8], 10, 'test').keys()\n",
    "y=get_average_accuracy('heart.csv', 42,'DT', [0.1, 0.2, 0.4, 0.6, 0.8], 10, 'test').values()\n",
    "plt.plot(x,y)\n",
    "plt.show()"
   ]
  },
  {
   "cell_type": "markdown",
   "metadata": {
    "deletable": false,
    "editable": false,
    "nbgrader": {
     "grade": false,
     "locked": true,
     "solution": false
    }
   },
   "source": [
    "(d) Based on the learning curves obtained in (5a), (5b), and (5c), state which of three models overfits the training data. Justify your answer."
   ]
  },
  {
   "cell_type": "code",
   "execution_count": 25,
   "metadata": {},
   "outputs": [
    {
     "ename": "SyntaxError",
     "evalue": "invalid syntax (<ipython-input-25-dc214273e492>, line 1)",
     "output_type": "error",
     "traceback": [
      "\u001b[0;36m  File \u001b[0;32m\"<ipython-input-25-dc214273e492>\"\u001b[0;36m, line \u001b[0;32m1\u001b[0m\n\u001b[0;31m    Decision Tree has the highest training accuaracy with the lowest testing accuarcy. As more sample is added the disparity\u001b[0m\n\u001b[0m                ^\u001b[0m\n\u001b[0;31mSyntaxError\u001b[0m\u001b[0;31m:\u001b[0m invalid syntax\n"
     ]
    }
   ],
   "source": [
    "Decision Tree has the highest training accuaracy with the lowest testing accuarcy. As more sample is added the disparity\n",
    "in trainign and testing accuracy aslo increases. Thus, it has a higher chance of overfitting."
   ]
  },
  {
   "cell_type": "markdown",
   "metadata": {},
   "source": [
    "### YOUR ANSWER HERE: "
   ]
  },
  {
   "cell_type": "markdown",
   "metadata": {
    "deletable": false,
    "editable": false,
    "nbgrader": {
     "grade": false,
     "locked": true,
     "solution": false
    }
   },
   "source": [
    "(e) Create a single learning curve plot comparing the accuracies of the three models on the test set for training set proportions [0.1, 0.2, 0.4, 0.6, 0.8]."
   ]
  },
  {
   "cell_type": "code",
   "execution_count": null,
   "metadata": {},
   "outputs": [],
   "source": [
    "###\n",
    "### YOUR CODE HERE\n",
    "###\n",
    "\n",
    "x=get_average_accuracy('heart.csv', 42,'DT', [0.1, 0.2, 0.4, 0.6, 0.8], 10, 'test').keys()\n",
    "y=get_average_accuracy('heart.csv', 42,'DT', [0.1, 0.2, 0.4, 0.6, 0.8], 10, 'test').values()\n",
    "plt.plot(list(x),list(y))\n",
    "plt.legend(['DT'])\n",
    "x=get_average_accuracy('heart.csv', 42,'P', [0.1, 0.2, 0.4, 0.6, 0.8], 10, 'test').keys()\n",
    "y=get_average_accuracy('heart.csv', 42,'P', [0.1, 0.2, 0.4, 0.6, 0.8], 10, 'test').values()\n",
    "plt.plot(list(x),list(y))\n",
    "plt.legend(['P'])\n",
    "x=get_average_accuracy('heart.csv', 42,'NBC', [0.1, 0.2, 0.4, 0.6, 0.8], 10, 'test').keys()\n",
    "y=get_average_accuracy('heart.csv', 42,'NBC', [0.1, 0.2, 0.4, 0.6, 0.8], 10, 'test').values()\n",
    "plt.plot(list(x),list(y))\n",
    "plt.legend(['NBC'])\n",
    "plt.legend([\"DT\", \"P\", \"NBC\"], loc=1)\n",
    "plt.show()"
   ]
  },
  {
   "cell_type": "markdown",
   "metadata": {
    "deletable": false,
    "editable": false,
    "nbgrader": {
     "grade": false,
     "locked": true,
     "solution": false
    }
   },
   "source": [
    "## Q6 (2 pts)"
   ]
  },
  {
   "cell_type": "markdown",
   "metadata": {},
   "source": [
    "(a) Given the results in Q5e, choose one training set size (e.g., 50) and formulate a hypothesis about the observed performance difference between any two of the models (NBC/P/DT)."
   ]
  },
  {
   "cell_type": "code",
   "execution_count": null,
   "metadata": {},
   "outputs": [],
   "source": [
    "They all have simillar accuaracy levels along sample size. As sample size increases, accuracy increases."
   ]
  },
  {
   "cell_type": "markdown",
   "metadata": {},
   "source": [
    "### State your hypothesis here: "
   ]
  },
  {
   "cell_type": "markdown",
   "metadata": {
    "deletable": false,
    "editable": false,
    "nbgrader": {
     "grade": false,
     "locked": true,
     "solution": false
    }
   },
   "source": [
    "(b) Test your hypothesis using a paired t-test with significance level alpha = 0.05. Print out the resulting pvalue and your accept/rejct decision.\n",
    "\n",
    "Note: you need to test the hypothesis using the results from each random trial rather than the average results returned by get_average_accuracy()."
   ]
  },
  {
   "cell_type": "code",
   "execution_count": null,
   "metadata": {},
   "outputs": [],
   "source": [
    "###\n",
    "### YOUR CODE HERE\n",
    "###\n",
    "# Run this cell so that the necessary packages are imported. \n",
    "import scipy.stats as st \n",
    "np.random.seed(0) # fix the seed of the random number generator to simplify testing.\n",
    "def get_average_accuracy(filename, rnd_state, model_type, proportions, num_trials, data_type):    \n",
    "    ###\n",
    "    ### YOUR CODE HERE\n",
    "    ###\n",
    "    totalTr=0\n",
    "    totalTe=0\n",
    "    result=[]\n",
    "    for i in proportions:\n",
    "            test_proportion =i\n",
    "            for j in range(num_trials):\n",
    "                   \n",
    "                    X_train, X_test, y_train, y_test = get_train_test_split('heart.csv',j)\n",
    "                    l=(len(X_train))\n",
    "                    X_train=X_train.sample(frac=i,replace=True)\n",
    "                    y_train=y_train.sample(frac=i,replace=True)\n",
    "                    \n",
    "                    if(model_type==\"P\"):\n",
    "                            model = Perceptron(tol=1e-3).fit(X_train, y_train)\n",
    "                    if(model_type==\"NBC\"):\n",
    "                            model =GaussianNB().fit(X_train, y_train) # use default parameters\n",
    "                    if(model_type==\"DT\"):\n",
    "                            model = tree.DecisionTreeClassifier().fit(X_train, y_train)\n",
    "                    if data_type=='both':      \n",
    "                        result.append(model.score(X_train,y_train), model.score(X_test,y_test))\n",
    "                        \n",
    "                    if data_type=='train':      \n",
    "                        result.append(model.score(X_test,y_test)) \n",
    "                     \n",
    "                    if data_type=='test':      \n",
    "                        result.append(model.score(X_test,y_test)) \n",
    "    return result                    \n",
    " \n",
    "def two_sample_paired_t_test(alpha):\n",
    "    ###\n",
    "    ### YOUR CODE HERE\n",
    "    ###\n",
    "    \n",
    "    d1 = (get_average_accuracy('heart.csv', 42,'DT',\n",
    "                     [0.23], 10, 'train'))\n",
    "\n",
    "    d2 = (get_average_accuracy('heart.csv', 42,'NBC',\n",
    "                     [0.23], 10, 'train'))\n",
    "    print(d1,d2)\n",
    "    t,x = st.ttest_ind(d1, d2) \n",
    "    t,p = st.ttest_rel(d1, d2) \n",
    "    if (x>=alpha):\n",
    "        a='accept'\n",
    "    else:\n",
    "        a='reject'\n",
    "    if (p>=alpha):\n",
    "        r='accept'\n",
    "    else:\n",
    "        r='reject'\n",
    "    return p,r\n",
    "    \n",
    "# For example,\n",
    "print(two_sample_paired_t_test(0.05))"
   ]
  },
  {
   "cell_type": "markdown",
   "metadata": {
    "deletable": false,
    "editable": false,
    "nbgrader": {
     "grade": false,
     "locked": true,
     "solution": false
    }
   },
   "source": [
    "(c) Now, test the hypothesis that you made in Q6a over all training set sizes. Note: Since you consider multiple sample sizes, you need to apply Bonferroni correction for testing the hypothesis. \n",
    "\n",
    "Print out the pvalue and accept/decision for each sample size. "
   ]
  },
  {
   "cell_type": "code",
   "execution_count": null,
   "metadata": {},
   "outputs": [],
   "source": [
    "###\n",
    "### YOUR CODE HERE\n",
    "###\n",
    "# Run this cell so that the necessary packages are imported. \n",
    "import scipy.stats as st \n",
    "np.random.seed(0) # fix the seed of the random number generator to simplify testing.\n",
    "def get_average_accuracy(filename, rnd_state, model_type, proportions, num_trials, data_type):    \n",
    "    ###\n",
    "    ### YOUR CODE HERE\n",
    "    ###\n",
    "    totalTr=0\n",
    "    totalTe=0\n",
    "    result=[]\n",
    "    for i in proportions:\n",
    "            test_proportion =i\n",
    "            for j in range(num_trials):\n",
    "                   \n",
    "                    X_train, X_test, y_train, y_test = get_train_test_split('heart.csv',j)\n",
    "                    l=(len(X_train))\n",
    "                    X_train=X_train.sample(frac=i,replace=True)\n",
    "                    y_train=y_train.sample(frac=i,replace=True)\n",
    "                    \n",
    "                    if(model_type==\"P\"):\n",
    "                            model = Perceptron(tol=1e-3).fit(X_train, y_train)\n",
    "                    if(model_type==\"NBC\"):\n",
    "                            model =GaussianNB().fit(X_train, y_train) # use default parameters\n",
    "                    if(model_type==\"DT\"):\n",
    "                            model = tree.DecisionTreeClassifier().fit(X_train, y_train)\n",
    "                    if data_type=='both':      \n",
    "                        result.append(model.score(X_train,y_train), model.score(X_test,y_test))\n",
    "                        \n",
    "                    if data_type=='train':      \n",
    "                        result.append(model.score(X_test,y_test)) \n",
    "                     \n",
    "                    if data_type=='test':      \n",
    "                        result.append(model.score(X_test,y_test)) \n",
    "    return result                    \n",
    " \n",
    "def two_sample_paired_t_test(alpha):\n",
    "    ###\n",
    "    ### YOUR CODE HERE\n",
    "    ###\n",
    "    \n",
    "    d1 = (get_average_accuracy('heart.csv', 42,'DT',\n",
    "                     [1], 10, 'train'))\n",
    "\n",
    "    d2 = (get_average_accuracy('heart.csv', 42,'NBC',\n",
    "                     [1], 10, 'train'))\n",
    "    print(d1,d2)\n",
    "    t,x = st.ttest_ind(d1, d2) \n",
    "    t,p = st.ttest_rel(d1, d2) \n",
    "    if (x>=alpha):\n",
    "        a='accept'\n",
    "    else:\n",
    "        a='reject'\n",
    "    if (p>=alpha):\n",
    "        r='accept'\n",
    "    else:\n",
    "        r='reject'\n",
    "    return p,r\n",
    "    \n",
    "# For example,\n",
    "print(two_sample_paired_t_test(0.05))"
   ]
  },
  {
   "cell_type": "markdown",
   "metadata": {},
   "source": [
    "## Q7 (2 pts)"
   ]
  },
  {
   "cell_type": "markdown",
   "metadata": {
    "collapsed": true,
    "deletable": false,
    "editable": false,
    "nbgrader": {
     "grade": false,
     "locked": true,
     "solution": false
    }
   },
   "source": [
    "(a) Use the data in the file 'heart.csv', apply 10 fold cross validation and report (print) the average accuracy for each the three models (NBC, P and DT)."
   ]
  },
  {
   "cell_type": "code",
   "execution_count": null,
   "metadata": {},
   "outputs": [],
   "source": [
    "###\n",
    "### YOUR CODE HERE\n",
    "###\n",
    "# convert data frame to np array\n",
    "df=pd.read_csv('heart.csv')\n",
    "y=df.target\n",
    "X=df[['age','sex','cp','trestbps','chol','fbs','restecg','thalach','exang','oldpeak','slope','ca','thal']]\n",
    "    \n",
    "\n",
    "X1 = X.values\n",
    "y1 = y.values\n",
    "\n",
    "# apply 10-fold cross validation\n",
    "cv = KFold(n_splits=10)\n",
    "cv.get_n_splits(X1)\n",
    "scoresNB = []\n",
    "scoresP = []\n",
    "scoresDT = []\n",
    "\n",
    "for tr_idx, te_idx in cv.split(X1):\n",
    "    #print(\"Train Idx: \", tr_idx)\n",
    "    #print(\"Test Idx: \", te_idx)\n",
    "\n",
    "    X_train, y_train = X1[tr_idx], y1[tr_idx]\n",
    "    X_test, y_test = X1[te_idx], y1[te_idx]\n",
    "\n",
    "\n",
    "    # learn the NBC model\n",
    "    modelNB = GaussianNB() # use default parameters\n",
    "    modelNB.fit(X_train, y_train)    # apply the model\n",
    "    tmpScore = modelNB.score(X_test,y_test)\n",
    "    scoresNB.append(tmpScore)\n",
    "\n",
    "    # learn the Perceptron model\n",
    "    modelP = Perceptron(tol=1e-3) # use default parameters\n",
    "    modelP.fit(X_train, y_train)\n",
    "    tmpScore2 = modelP.score(X_test,y_test)\n",
    "    scoresP.append(tmpScore2)\n",
    "#scoresP\n",
    "      # learn the Perceptron model\n",
    "    modelP = tree.DecisionTreeClassifier() # use default parameters\n",
    "    modelP.fit(X_train, y_train)\n",
    "    tmpScore3 = modelP.score(X_test,y_test)\n",
    "    scoresDT.append(tmpScore3)\n",
    "print(sum(scoresDT)/len(scoresDT),sum(scoresP)/len(scoresP),sum(scoresNB)/len(scoresNB))"
   ]
  },
  {
   "cell_type": "markdown",
   "metadata": {
    "deletable": false,
    "editable": false,
    "nbgrader": {
     "grade": false,
     "locked": true,
     "solution": false
    }
   },
   "source": [
    "(b) Formulate a hypothesis about the performance difference between any two of the models, observed in Q7a."
   ]
  },
  {
   "cell_type": "code",
   "execution_count": null,
   "metadata": {
    "collapsed": true
   },
   "outputs": [],
   "source": [
    "Naive Bayes model results in better accuracy and prediction."
   ]
  },
  {
   "cell_type": "markdown",
   "metadata": {},
   "source": [
    "### State your hypothesis here: "
   ]
  },
  {
   "cell_type": "markdown",
   "metadata": {
    "deletable": false,
    "editable": false,
    "nbgrader": {
     "grade": false,
     "locked": true,
     "solution": false
    }
   },
   "source": [
    "(c) Test your hypothesis using a paired t-test with significance level alpha = 0.05. Print out the resulting pvalue and your accept/rejct decision.\n",
    "\n",
    "Note: you need to test the hypothesis using the results from each cross-validation trial rather than the average results reported in Q7a."
   ]
  },
  {
   "cell_type": "code",
   "execution_count": null,
   "metadata": {},
   "outputs": [],
   "source": [
    "###\n",
    "### YOUR CODE HERE\n",
    "###\n",
    "# apply a paired t-test to results\n",
    "t, p = st.ttest_rel(scoresNB, scoresP,nan_policy='omit')\n",
    "print('Paired pval=' + str(p))\n",
    "if(p>0.05):\n",
    "     a='accept'\n",
    "else:\n",
    "     a='reject'\n",
    "print(p,a)"
   ]
  },
  {
   "cell_type": "code",
   "execution_count": null,
   "metadata": {
    "collapsed": true
   },
   "outputs": [],
   "source": []
  },
  {
   "cell_type": "code",
   "execution_count": null,
   "metadata": {
    "collapsed": true
   },
   "outputs": [],
   "source": []
  },
  {
   "cell_type": "code",
   "execution_count": null,
   "metadata": {
    "collapsed": true
   },
   "outputs": [],
   "source": []
  }
 ],
 "metadata": {
  "kernelspec": {
   "display_name": "Python 3 (ipykernel)",
   "language": "python",
   "name": "python3"
  },
  "language_info": {
   "codemirror_mode": {
    "name": "ipython",
    "version": 3
   },
   "file_extension": ".py",
   "mimetype": "text/x-python",
   "name": "python",
   "nbconvert_exporter": "python",
   "pygments_lexer": "ipython3",
   "version": "3.8.0"
  }
 },
 "nbformat": 4,
 "nbformat_minor": 2
}
