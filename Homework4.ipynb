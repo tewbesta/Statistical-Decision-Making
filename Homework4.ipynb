{
 "cells": [
  {
   "cell_type": "code",
   "execution_count": 18,
   "metadata": {
    "collapsed": true,
    "deletable": false,
    "editable": false,
    "nbgrader": {
     "grade": false,
     "locked": true,
     "solution": false
    }
   },
   "outputs": [],
   "source": [
    "import numpy as np\n",
    "import pandas as pd\n",
    "import matplotlib.pyplot as plt \n",
    "import math\n",
    "import scipy as sp\n",
    "from scipy import stats as scs\n",
    "from scipy.stats import chi2_contingency"
   ]
  },
  {
   "cell_type": "markdown",
   "metadata": {
    "deletable": false,
    "editable": false,
    "nbgrader": {
     "grade": false,
     "locked": true,
     "solution": false
    }
   },
   "source": [
    "Please note that for the questions involving random number generators or sampling, your answer might differ a little from those provided in the examples. For such questions, you should use the values in the examples as a reference and not try to match exactly with them. "
   ]
  },
  {
   "cell_type": "markdown",
   "metadata": {
    "deletable": false,
    "editable": false,
    "nbgrader": {
     "grade": false,
     "locked": true,
     "solution": false
    }
   },
   "source": [
    "## Q1 (2 pts)"
   ]
  },
  {
   "cell_type": "markdown",
   "metadata": {
    "deletable": false,
    "editable": false,
    "nbgrader": {
     "grade": false,
     "locked": true,
     "solution": false
    }
   },
   "source": [
    "(a) Consider the data in the file 'iris_imbalanced.csv'. It contains a column 'Class', which is the class label with three discrete values (0/1/2). Create a bar plot showing the number of examples for each class. "
   ]
  },
  {
   "cell_type": "code",
   "execution_count": 19,
   "metadata": {},
   "outputs": [
    {
     "name": "stdout",
     "output_type": "stream",
     "text": [
      "145\n"
     ]
    },
    {
     "data": {
      "image/png": "[encoded data removed]",
      "text/plain": [
       "<Figure size 720x360 with 1 Axes>"
      ]
     },
     "metadata": {},
     "output_type": "display_data"
    }
   ],
   "source": [
    "###\n",
    "### YOUR CODE HERE\n",
    "###\n",
    "import matplotlib.pyplot as plt\n",
    "import pandas as pd\n",
    "df=pd.read_csv(\"iris_imbalanced.csv\")\n",
    "fig = plt.figure(figsize = (10, 5))\n",
    "# creating the bar plot\n",
    "c0=0\n",
    "c1=0\n",
    "c2=0\n",
    "n=df[df.columns[0]].count()\n",
    "print(n)\n",
    "for i in range (n):\n",
    "     if(df.iloc[i,4]==0):\n",
    "        c0+=1\n",
    "     if(df.iloc[i,4]==1):\n",
    "        c1+=1\n",
    "     if(df.iloc[i,4]==2):\n",
    "        c2+=1\n",
    "        \n",
    "plt.bar([0,1,2], [c0,c1,c2], color ='maroon',width = 0.4)\n",
    "plt.show()"
   ]
  },
  {
   "cell_type": "markdown",
   "metadata": {
    "deletable": false,
    "editable": false,
    "nbgrader": {
     "grade": false,
     "locked": true,
     "solution": false
    }
   },
   "source": [
    "(b) Write a method to analytically (i.e., using scipy.stats.norm.interval) calculate a confidence interval of the mean for the specified column."
   ]
  },
  {
   "cell_type": "code",
   "execution_count": 20,
   "metadata": {},
   "outputs": [
    {
     "name": "stdout",
     "output_type": "stream",
     "text": [
      "145\n"
     ]
    },
    {
     "data": {
      "text/plain": [
       "(2.97485548067057, 3.1161790020880513)"
      ]
     },
     "execution_count": 20,
     "metadata": {},
     "output_type": "execute_result"
    }
   ],
   "source": [
    "# calculateCI(filename, attribute, ciPercent) takes as input the filename to read in \n",
    "# data from, attribute (string) as the column, and CI percentage. Returns the \n",
    "# calculated CI as a tuple. \n",
    "#\n",
    "import statistics,math\n",
    "import scipy.stats as s \n",
    "def calculateCI(filename, attribute, ciPercent):\n",
    "    ###\n",
    "    ### YOUR CODE HEREvar\n",
    "    ###\n",
    "    df=pd.read_csv(filename)\n",
    "    n=len(df)\n",
    "    print(n)\n",
    "    return s.norm.interval(ciPercent,loc=df[attribute].mean(), scale=df[attribute].std()/math.sqrt(n))\n",
    "# For example,\n",
    "calculateCI('iris_imbalanced.csv', 'Sepal Width', 0.95)\n",
    "# -> (2.97485548067057, 3.1161790020880513)"
   ]
  },
  {
   "cell_type": "code",
   "execution_count": 21,
   "metadata": {
    "collapsed": true,
    "deletable": false,
    "editable": false,
    "nbgrader": {
     "grade": true,
     "grade_id": "Q1b:test1",
     "locked": true,
     "points": "0.25",
     "solution": false
    }
   },
   "outputs": [],
   "source": [
    "###\n",
    "### AUTOGRADER TEST - DO NOT REMOVE\n",
    "###\n"
   ]
  },
  {
   "cell_type": "code",
   "execution_count": 22,
   "metadata": {
    "collapsed": true,
    "deletable": false,
    "editable": false,
    "nbgrader": {
     "grade": true,
     "grade_id": "Q1b:test2",
     "locked": true,
     "points": "0.25",
     "solution": false
    }
   },
   "outputs": [],
   "source": [
    "###\n",
    "### AUTOGRADER TEST - DO NOT REMOVE\n",
    "###\n"
   ]
  },
  {
   "cell_type": "markdown",
   "metadata": {
    "deletable": false,
    "editable": false,
    "nbgrader": {
     "grade": false,
     "locked": true,
     "solution": false
    }
   },
   "source": [
    "(c) Write a method that uses bootstrap resampling to calculate a confidence interval of the mean for the specified column, using the specified number of trials. In other words, repeatedly sample with replacement (where the sample size id the length of column) and recalculate the mean, then compute the confidence interval from the empirical distribution of resampled means. "
   ]
  },
  {
   "cell_type": "code",
   "execution_count": 23,
   "metadata": {},
   "outputs": [
    {
     "data": {
      "text/plain": [
       "(2.8907375159376953, 3.0632624840623044)"
      ]
     },
     "execution_count": 23,
     "metadata": {},
     "output_type": "execute_result"
    }
   ],
   "source": [
    "# calculateCIBootstrap(filename, attribute, ciPercent, numTrials) takes as input \n",
    "# the filename to read in data from, attribute (string) as the column, the CI \n",
    "# percentage, and number of trials for estimation. Returns the calculated CI as a tuple. \n",
    "#\n",
    "def calculateCIBootstrap(filename, attribute, ciPercent, numTrials):\n",
    "    ###\n",
    "    ### YOUR CODE HERE\n",
    "    ###\n",
    "    dB = pd.read_csv(filename)\n",
    "    dB=dB[attribute]\n",
    "    numExamples = len(dB)\n",
    "    dBmeans = []\n",
    "    for i in range(numTrials):\n",
    "     # sample with replacement\n",
    "     tmpB = dB.sample( replace=True)\n",
    "     dBmeans.append(tmpB.mean())\n",
    "    dBmeans.sort()\n",
    "    return s.norm.interval(ciPercent,loc=statistics.mean(dBmeans), scale= scs.sem(dBmeans))\n",
    "\n",
    "# For example,\n",
    "calculateCIBootstrap('iris_imbalanced.csv', 'Sepal Width', 0.95, 100)\n",
    "# varies, but around -> (2.984189655172414, 3.1090689655172414)\n"
   ]
  },
  {
   "cell_type": "markdown",
   "metadata": {
    "deletable": false,
    "editable": false,
    "nbgrader": {
     "grade": false,
     "locked": true,
     "solution": false
    }
   },
   "source": [
    "(d) Now, repeat Q1c but instead of creating a boostrap resample with the same size as the dataset, only sample the specified number of examples. Explore the difference that sample size and number of trials makes on the estimated confidence interval."
   ]
  },
  {
   "cell_type": "code",
   "execution_count": 24,
   "metadata": {},
   "outputs": [
    {
     "data": {
      "text/plain": [
       "(3.022237223990964, 3.0551227760090356)"
      ]
     },
     "execution_count": 24,
     "metadata": {},
     "output_type": "execute_result"
    }
   ],
   "source": [
    "# calculateCIBootstrapSize(filename, attribute, ciPercent, numTrials, sampleSize) takes \n",
    "# as input the filename to read in data from, attribute (string) as the column, the CI \n",
    "# percentage, number of trials for estimation, and sample size. Returns the calculated \n",
    "# CI as a tuple. \n",
    "#\n",
    "\n",
    "def calculateCIBootstrapSize(filename, attribute, ciPercent, numTrials, sampleSize):\n",
    "\n",
    "    ###\n",
    "    ### YOUR CODE HERE\n",
    "    ###\n",
    "    dB = pd.read_csv(filename)\n",
    "    dB=dB[attribute]\n",
    "   \n",
    "    dBmeans = []\n",
    "    for i in range(numTrials):\n",
    "     # sample with replacement\n",
    "     tmpB = dB.sample(sampleSize, replace=True)\n",
    "     dBmeans.append(tmpB.mean())\n",
    "    dBmeans.sort()\n",
    "    return s.norm.interval(ciPercent,loc=statistics.mean(dBmeans), scale= scs.sem(dBmeans))\n",
    "\n",
    "    \n",
    "# For example,\n",
    "calculateCIBootstrapSize('iris_imbalanced.csv', 'Sepal Width', 0.95, 100, 25)\n",
    "# varies but around -> (2.8796, 3.2001999999999997)"
   ]
  },
  {
   "cell_type": "markdown",
   "metadata": {
    "deletable": false,
    "editable": false,
    "nbgrader": {
     "grade": false,
     "locked": true,
     "solution": false
    }
   },
   "source": [
    "## Q2 (3 pts)"
   ]
  },
  {
   "cell_type": "markdown",
   "metadata": {
    "deletable": false,
    "editable": false,
    "nbgrader": {
     "grade": false,
     "locked": true,
     "solution": false
    }
   },
   "source": [
    "(a) Consider the event of rolling a six-sided die. Randomly simulate this event 1000 times and plot a histogram of results for each number on the dice (use number of bins=6)."
   ]
  },
  {
   "cell_type": "code",
   "execution_count": 25,
   "metadata": {
    "scrolled": true
   },
   "outputs": [
    {
     "data": {
      "image/png": "[encoded data removed]",
      "text/plain": [
       "<Figure size 432x288 with 1 Axes>"
      ]
     },
     "metadata": {},
     "output_type": "display_data"
    }
   ],
   "source": [
    "import random\n",
    "num_trials = 1000\n",
    "###\n",
    "### YOUR CODE HERE\n",
    "###\n",
    "dice=[]\n",
    "for i in range(num_trials):\n",
    "    dice.append(random.randrange(1, 7, 1))\n",
    "plt.hist(dice, 6)\n",
    "plt.show()\n",
    "\n",
    "    \n"
   ]
  },
  {
   "cell_type": "markdown",
   "metadata": {
    "deletable": false,
    "editable": false,
    "nbgrader": {
     "grade": false,
     "locked": true,
     "solution": false
    }
   },
   "source": [
    "(b) Write a method to use the same random simulation and return the empirical probability of getting a value greater than or equal to the specified target value (e.g., >=5)."
   ]
  },
  {
   "cell_type": "code",
   "execution_count": 26,
   "metadata": {},
   "outputs": [
    {
     "data": {
      "text/plain": [
       "0.53"
      ]
     },
     "execution_count": 26,
     "metadata": {},
     "output_type": "execute_result"
    }
   ],
   "source": [
    "# calculateDiceRollProb(numTrials, targetValue) takes as input the number of \n",
    "# trials for estimation and the target value. \n",
    "# Returns the empirical probability of getting a value >= the specified target value. \n",
    "#\n",
    "def calculateDiceRollProb(numTrials, targetValue):\n",
    "    ###\n",
    "    ### YOUR CODE HERE\n",
    "    ###\n",
    "    dice=[]\n",
    "    count=0\n",
    "    for i in range(num_trials):\n",
    "        rand=random.randrange(1, 7, 1)\n",
    "        dice.append(rand)\n",
    "        if(rand>=targetValue):\n",
    "            count+=1\n",
    "    return count/num_trials\n",
    "\n",
    "# For example,\n",
    "calculateDiceRollProb(1000, 4)\n",
    "# varies, but around -> 0.5"
   ]
  },
  {
   "cell_type": "markdown",
   "metadata": {
    "deletable": false,
    "editable": false,
    "nbgrader": {
     "grade": false,
     "locked": true,
     "solution": false
    }
   },
   "source": [
    "(c) Now consider the event where you roll multiple dice and take the max value observed. Write a function that randomly simulate this event multiple times and returns the maximum value obtained in each trial. "
   ]
  },
  {
   "cell_type": "code",
   "execution_count": 27,
   "metadata": {},
   "outputs": [
    {
     "data": {
      "text/plain": [
       "[5, 5, 6]"
      ]
     },
     "execution_count": 27,
     "metadata": {},
     "output_type": "execute_result"
    }
   ],
   "source": [
    "# get_max_values(num_trials, num_dice) takes as input the number of trials and the \n",
    "# number of dice to be rolled simultaneously, and returns a list of maximum value \n",
    "# obtained in each trial as a pandas DataFrame.\n",
    "def get_max_values(num_trials, num_dice):\n",
    "    ###\n",
    "    ### YOUR CODE HERE\n",
    "    ###\n",
    "    dice=[]\n",
    "    temp=[]\n",
    "    count=0\n",
    "    for i in range(num_trials):\n",
    "        for i in range(num_dice):\n",
    "            rand=random.randrange(1, 7, 1)\n",
    "            temp.append(rand)\n",
    "        dice.append(max(temp))\n",
    "        \n",
    "    return (dice)\n",
    "\n",
    "get_max_values(3, 5)\n",
    "\n",
    "# Varies, expect lots of 6's and 5's, example ->  [6,5,5]\n"
   ]
  },
  {
   "cell_type": "markdown",
   "metadata": {
    "deletable": false,
    "editable": false,
    "nbgrader": {
     "grade": false,
     "locked": true,
     "solution": false
    }
   },
   "source": [
    "(d) Use the method from Q2c to simulate 1000 trials with 10 dice. Plot a histogram of resulting max values (use number of bins=6)."
   ]
  },
  {
   "cell_type": "code",
   "execution_count": 45,
   "metadata": {},
   "outputs": [
    {
     "name": "stdout",
     "output_type": "stream",
     "text": [
      "[6, 6, 6, 6, 6, 6, 6, 6, 6, 6, 6, 6, 6, 6, 6, 6, 6, 6, 6, 6, 6, 6, 6, 6, 6, 6, 6, 6, 6, 6, 6, 6, 6, 6, 6, 6, 6, 6, 6, 6, 6, 6, 6, 6, 6, 6, 6, 6, 6, 6, 6, 6, 6, 6, 6, 6, 6, 6, 6, 6, 6, 6, 6, 6, 6, 6, 6, 6, 6, 6, 6, 6, 6, 6, 6, 6, 6, 6, 6, 6, 6, 6, 6, 6, 6, 6, 6, 6, 6, 6, 6, 6, 6, 6, 6, 6, 6, 6, 6, 6, 6, 6, 6, 6, 6, 6, 6, 6, 6, 6, 6, 6, 6, 6, 6, 6, 6, 6, 6, 6, 6, 6, 6, 6, 6, 6, 6, 6, 6, 6, 6, 6, 6, 6, 6, 6, 6, 6, 6, 6, 6, 6, 6, 6, 6, 6, 6, 6, 6, 6, 6, 6, 6, 6, 6, 6, 6, 6, 6, 6, 6, 6, 6, 6, 6, 6, 6, 6, 6, 6, 6, 6, 6, 6, 6, 6, 6, 6, 6, 6, 6, 6, 6, 6, 6, 6, 6, 6, 6, 6, 6, 6, 6, 6, 6, 6, 6, 6, 6, 6, 6, 6, 6, 6, 6, 6, 6, 6, 6, 6, 6, 6, 6, 6, 6, 6, 6, 6, 6, 6, 6, 6, 6, 6, 6, 6, 6, 6, 6, 6, 6, 6, 6, 6, 6, 6, 6, 6, 6, 6, 6, 6, 6, 6, 6, 6, 6, 6, 6, 6, 6, 6, 6, 6, 6, 6, 6, 6, 6, 6, 6, 6, 6, 6, 6, 6, 6, 6, 6, 6, 6, 6, 6, 6, 6, 6, 6, 6, 6, 6, 6, 6, 6, 6, 6, 6, 6, 6, 6, 6, 6, 6, 6, 6, 6, 6, 6, 6, 6, 6, 6, 6, 6, 6, 6, 6, 6, 6, 6, 6, 6, 6, 6, 6, 6, 6, 6, 6, 6, 6, 6, 6, 6, 6, 6, 6, 6, 6, 6, 6, 6, 6, 6, 6, 6, 6, 6, 6, 6, 6, 6, 6, 6, 6, 6, 6, 6, 6, 6, 6, 6, 6, 6, 6, 6, 6, 6, 6, 6, 6, 6, 6, 6, 6, 6, 6, 6, 6, 6, 6, 6, 6, 6, 6, 6, 6, 6, 6, 6, 6, 6, 6, 6, 6, 6, 6, 6, 6, 6, 6, 6, 6, 6, 6, 6, 6, 6, 6, 6, 6, 6, 6, 6, 6, 6, 6, 6, 6, 6, 6, 6, 6, 6, 6, 6, 6, 6, 6, 6, 6, 6, 6, 6, 6, 6, 6, 6, 6, 6, 6, 6, 6, 6, 6, 6, 6, 6, 6, 6, 6, 6, 6, 6, 6, 6, 6, 6, 6, 6, 6, 6, 6, 6, 6, 6, 6, 6, 6, 6, 6, 6, 6, 6, 6, 6, 6, 6, 6, 6, 6, 6, 6, 6, 6, 6, 6, 6, 6, 6, 6, 6, 6, 6, 6, 6, 6, 6, 6, 6, 6, 6, 6, 6, 6, 6, 6, 6, 6, 6, 6, 6, 6, 6, 6, 6, 6, 6, 6, 6, 6, 6, 6, 6, 6, 6, 6, 6, 6, 6, 6, 6, 6, 6, 6, 6, 6, 6, 6, 6, 6, 6, 6, 6, 6, 6, 6, 6, 6, 6, 6, 6, 6, 6, 6, 6, 6, 6, 6, 6, 6, 6, 6, 6, 6, 6, 6, 6, 6, 6, 6, 6, 6, 6, 6, 6, 6, 6, 6, 6, 6, 6, 6, 6, 6, 6, 6, 6, 6, 6, 6, 6, 6, 6, 6, 6, 6, 6, 6, 6, 6, 6, 6, 6, 6, 6, 6, 6, 6, 6, 6, 6, 6, 6, 6, 6, 6, 6, 6, 6, 6, 6, 6, 6, 6, 6, 6, 6, 6, 6, 6, 6, 6, 6, 6, 6, 6, 6, 6, 6, 6, 6, 6, 6, 6, 6, 6, 6, 6, 6, 6, 6, 6, 6, 6, 6, 6, 6, 6, 6, 6, 6, 6, 6, 6, 6, 6, 6, 6, 6, 6, 6, 6, 6, 6, 6, 6, 6, 6, 6, 6, 6, 6, 6, 6, 6, 6, 6, 6, 6, 6, 6, 6, 6, 6, 6, 6, 6, 6, 6, 6, 6, 6, 6, 6, 6, 6, 6, 6, 6, 6, 6, 6, 6, 6, 6, 6, 6, 6, 6, 6, 6, 6, 6, 6, 6, 6, 6, 6, 6, 6, 6, 6, 6, 6, 6, 6, 6, 6, 6, 6, 6, 6, 6, 6, 6, 6, 6, 6, 6, 6, 6, 6, 6, 6, 6, 6, 6, 6, 6, 6, 6, 6, 6, 6, 6, 6, 6, 6, 6, 6, 6, 6, 6, 6, 6, 6, 6, 6, 6, 6, 6, 6, 6, 6, 6, 6, 6, 6, 6, 6, 6, 6, 6, 6, 6, 6, 6, 6, 6, 6, 6, 6, 6, 6, 6, 6, 6, 6, 6, 6, 6, 6, 6, 6, 6, 6, 6, 6, 6, 6, 6, 6, 6, 6, 6, 6, 6, 6, 6, 6, 6, 6, 6, 6, 6, 6, 6, 6, 6, 6, 6, 6, 6, 6, 6, 6, 6, 6, 6, 6, 6, 6, 6, 6, 6, 6, 6, 6, 6, 6, 6, 6, 6, 6, 6, 6, 6, 6, 6, 6, 6, 6, 6, 6, 6, 6, 6, 6, 6, 6, 6, 6, 6, 6, 6, 6, 6, 6, 6, 6, 6, 6, 6, 6, 6, 6, 6, 6, 6, 6, 6, 6, 6, 6, 6, 6, 6, 6, 6, 6, 6, 6, 6, 6, 6, 6, 6, 6, 6, 6, 6, 6, 6, 6, 6, 6, 6, 6, 6, 6, 6, 6, 6, 6, 6, 6, 6, 6, 6, 6, 6, 6, 6, 6, 6, 6, 6, 6, 6, 6, 6, 6, 6, 6, 6, 6, 6, 6, 6, 6, 6, 6, 6, 6, 6, 6, 6, 6, 6, 6, 6, 6, 6, 6, 6, 6, 6, 6, 6, 6, 6, 6, 6, 6, 6, 6, 6, 6, 6, 6, 6, 6, 6, 6, 6, 6, 6, 6, 6, 6, 6, 6, 6, 6, 6, 6, 6, 6, 6, 6]\n"
     ]
    },
    {
     "data": {
      "image/png": "[encoded data removed]",
      "text/plain": [
       "<Figure size 432x288 with 1 Axes>"
      ]
     },
     "metadata": {},
     "output_type": "display_data"
    }
   ],
   "source": [
    "num_trials = 1000\n",
    "num_dice = 10\n",
    "###\n",
    "### YOUR CODE HERE\n",
    "###\n",
    "dice=get_max_values(num_trials, num_dice)\n",
    "print(dice)\n",
    "plt.hist(dice, 6)\n",
    "plt.show()\n"
   ]
  },
  {
   "cell_type": "markdown",
   "metadata": {
    "deletable": false,
    "editable": false,
    "nbgrader": {
     "grade": false,
     "locked": true,
     "solution": false
    }
   },
   "source": [
    "(e) Write a function that uses the method from Q2c to simulate multiple trials of rolling several dice and taking the max. Calculate the empirical probability of getting a max value greater than or equal to the specified target value (e.g., >=5)."
   ]
  },
  {
   "cell_type": "code",
   "execution_count": 29,
   "metadata": {},
   "outputs": [
    {
     "data": {
      "text/plain": [
       "0.838"
      ]
     },
     "execution_count": 29,
     "metadata": {},
     "output_type": "execute_result"
    }
   ],
   "source": [
    "# calculateMaxDiceRollProb(num_trials, num_dice, target_value) takes as input the \n",
    "# number of trials, the number of dice to be rolled simultaneously, and the target \n",
    "# value. Returns the empirical probability of getting a max value >=target value.\n",
    "def calculateMaxDiceRollProb(num_trials, num_dice, target_value):\n",
    "    \n",
    "    ###\n",
    "    ### YOUR CODE HERE\n",
    "    ###\n",
    "    dice=[]\n",
    "    temp=[]\n",
    "    count=0\n",
    "    for i in range(num_trials):\n",
    "        for i in range(num_dice):\n",
    "            rand=random.randrange(1, 7, 1)\n",
    "            temp.append(rand)\n",
    "        mx=max(temp)\n",
    "        temp=[]\n",
    "       \n",
    "        dice.append(mx)\n",
    "        if(mx>=target_value):\n",
    "            count+=1\n",
    "        \n",
    "    return (count/num_trials)\n",
    "    \n",
    "# calculateMaxDiceRollProb(1000, 10, 6)\n",
    "\n",
    "# For example,\n",
    "calculateMaxDiceRollProb(1000, 10, 6)\n",
    "# varies, near -> 0.838"
   ]
  },
  {
   "cell_type": "markdown",
   "metadata": {
    "collapsed": true,
    "deletable": false,
    "editable": false,
    "nbgrader": {
     "grade": false,
     "locked": true,
     "solution": false
    }
   },
   "source": [
    "## Q3 (4 pts)"
   ]
  },
  {
   "cell_type": "markdown",
   "metadata": {
    "collapsed": true,
    "deletable": false,
    "editable": false,
    "nbgrader": {
     "grade": false,
     "locked": true,
     "solution": false
    }
   },
   "source": [
    "Consider the AB test results in the csv file 'ab_data.csv'. The data consists of 2000 users. The column 'group' indicates whether the user is assigned to the control group (A) or the treatment group (B). The column 'premium_signed_up' indicates whether the user signed up for the premium service or not with a 1 or 0, respectively. \n",
    "\n",
    "(a) Calculate the difference in means between group A and B for the 'premium_signed_up' attribute."
   ]
  },
  {
   "cell_type": "code",
   "execution_count": 40,
   "metadata": {},
   "outputs": [
    {
     "name": "stdout",
     "output_type": "stream",
     "text": [
      "0.08771215329263711\n"
     ]
    }
   ],
   "source": [
    "###\n",
    "### YOUR CODE HERE\n",
    "###\n",
    "df=pd.read_csv(\"ab_data.csv\")\n",
    "print((sum((df[df.group==\"A\"])['premium_signed_up'])/len((df[df.group==\"A\"])))-(sum((df[df.group==\"B\"])['premium_signed_up'])/len((df[df.group==\"B\"]))))\n"
   ]
  },
  {
   "cell_type": "markdown",
   "metadata": {
    "deletable": false,
    "editable": false,
    "nbgrader": {
     "grade": false,
     "locked": true,
     "solution": false
    }
   },
   "source": [
    "(b) Apply randomization testing to calculate an empirical distribution in the difference in means between the two groups. Specifically, randomly permute the assignment of group A/B for given number of trials and calculate difference in means between the two groups. Repeatedly do this to estimate a null distribution. Return the resulting difference obtained for each trial as a pandas dataframe."
   ]
  },
  {
   "cell_type": "code",
   "execution_count": 41,
   "metadata": {
    "scrolled": true
   },
   "outputs": [
    {
     "data": {
      "text/plain": [
       "[0.0037096122157695283,\n",
       " -0.009290781046126649,\n",
       " 0.015709975226750612,\n",
       " -0.00429062979155119,\n",
       " -0.017291023053447367,\n",
       " 0.0007095214630242624,\n",
       " -0.008290750795211556,\n",
       " -0.012290871798871922,\n",
       " -0.007290720544296463,\n",
       " -0.007290720544296463,\n",
       " 0.006709702968514794,\n",
       " -0.0022905692897210173,\n",
       " 0.0047096424666846146,\n",
       " 0.0047096424666846146,\n",
       " 0.002709581964854435,\n",
       " -0.010290811297041735,\n",
       " -0.006290690293381383,\n",
       " -0.012290871798871922,\n",
       " -0.005290660042466283,\n",
       " 0.0047096424666846146,\n",
       " 0.0047096424666846146,\n",
       " -0.006290690293381383,\n",
       " 0.0007095214630242624,\n",
       " 0.00870976347034498,\n",
       " -0.001290539038805924,\n",
       " 0.006709702968514794,\n",
       " 0.007709733219429894,\n",
       " 0.005709672717599701,\n",
       " -0.0022905692897210173,\n",
       " -0.0022905692897210173,\n",
       " -0.0032905995406361105,\n",
       " -0.005290660042466283,\n",
       " -0.001290539038805924,\n",
       " 0.0007095214630242624,\n",
       " -0.014290932300702101,\n",
       " -0.02029111380619264,\n",
       " 0.0007095214630242624,\n",
       " -0.017291023053447367,\n",
       " 0.0017095517139393557,\n",
       " 0.006709702968514794,\n",
       " 0.0007095214630242624,\n",
       " 0.0017095517139393557,\n",
       " -0.013290902049787001,\n",
       " 0.005709672717599701,\n",
       " 0.0037096122157695283,\n",
       " -0.005290660042466283,\n",
       " -0.006290690293381383,\n",
       " -0.01529096255161718,\n",
       " -0.0032905995406361105,\n",
       " -0.00429062979155119,\n",
       " 0.0007095214630242624,\n",
       " -0.011290841547956829,\n",
       " 0.0047096424666846146,\n",
       " -0.00029050878789084467,\n",
       " -0.008290750795211556,\n",
       " -0.00029050878789084467,\n",
       " 0.0017095517139393557,\n",
       " -0.005290660042466283,\n",
       " 0.005709672717599701,\n",
       " -0.019291083555277547,\n",
       " -0.008290750795211556,\n",
       " -0.001290539038805924,\n",
       " 0.002709581964854435,\n",
       " -0.008290750795211556,\n",
       " -0.0022905692897210173,\n",
       " 0.005709672717599701,\n",
       " 0.005709672717599701,\n",
       " -0.007290720544296463,\n",
       " -0.0032905995406361105,\n",
       " -0.009290781046126649,\n",
       " 0.0037096122157695283,\n",
       " 0.0017095517139393557,\n",
       " -0.007290720544296463,\n",
       " -0.013290902049787001,\n",
       " -0.006290690293381383,\n",
       " -0.001290539038805924,\n",
       " 0.020710126481326058,\n",
       " 0.0007095214630242624,\n",
       " 0.0047096424666846146,\n",
       " -0.001290539038805924,\n",
       " 0.0007095214630242624,\n",
       " -0.009290781046126649,\n",
       " -0.016290992802532274,\n",
       " 0.0047096424666846146,\n",
       " 0.0017095517139393557,\n",
       " -0.0032905995406361105,\n",
       " -0.016290992802532274,\n",
       " 0.0017095517139393557,\n",
       " 0.0037096122157695283,\n",
       " 0.002709581964854435,\n",
       " -0.0032905995406361105,\n",
       " 0.005709672717599701,\n",
       " 0.005709672717599701,\n",
       " -0.0022905692897210173,\n",
       " 0.0037096122157695283,\n",
       " -0.005290660042466283,\n",
       " 0.007709733219429894,\n",
       " 0.0037096122157695283,\n",
       " 0.007709733219429894,\n",
       " 0.0007095214630242624]"
      ]
     },
     "execution_count": 41,
     "metadata": {},
     "output_type": "execute_result"
    }
   ],
   "source": [
    "# calculateEmpiricalDiffMeans(num_permutation_trials) takes as input the number of permutation trials.\n",
    "# Returns the difference in means between the A and B groups obtained for each trial as a pandas dataframe. \n",
    "import numpy as np\n",
    "def calculateEmpiricalDiffMeans(num_permutation_trials): \n",
    "    ###\n",
    "    ### YOUR CODE HERE\n",
    "    ###\n",
    "    df=pd.read_csv(\"ab_data.csv\")\n",
    "    dShape = df.group.values \n",
    "    diffQs = []\n",
    "    #print(df.iloc[0:3,0])\n",
    "    for i in range(num_permutation_trials):    \n",
    "        # randomly split data into two groups  \n",
    "       \n",
    "        (random.shuffle(( df.group.values))) \n",
    "        #print(df.iloc[0:3,0])\n",
    "        #partitions = np.split(dShape,2)    \n",
    "        tD1 = pd.DataFrame(df[df.group==\"A\"])    \n",
    "        tD2 = pd.DataFrame(df[df.group==\"B\"])     \n",
    "        g1Q = tD1.iloc[:,1].mean().item()     \n",
    "        g2Q = tD2.iloc[:,1].mean().item()\n",
    "        dQ = g1Q-g2Q     \n",
    "        diffQs.append(dQ)\n",
    "    return (diffQs)\n",
    "\n",
    "# For example,\n",
    "calculateEmpiricalDiffMeans(100) # -> (100 x 1 Pandas Dataframe)"
   ]
  },
  {
   "cell_type": "markdown",
   "metadata": {
    "deletable": false,
    "editable": false,
    "nbgrader": {
     "grade": false,
     "locked": true,
     "solution": false
    }
   },
   "source": [
    "(c) Use the method from Q3b and plot the results of 100 permutation trials as a histogram."
   ]
  },
  {
   "cell_type": "code",
   "execution_count": 42,
   "metadata": {},
   "outputs": [
    {
     "data": {
      "image/png": "[encoded data removed]",
      "text/plain": [
       "<Figure size 432x288 with 1 Axes>"
      ]
     },
     "metadata": {},
     "output_type": "display_data"
    }
   ],
   "source": [
    "num_permutation_trials = 100\n",
    "###\n",
    "### YOUR CODE HERE\n",
    "###\n",
    "plt.hist(calculateEmpiricalDiffMeans(100), 6)\n",
    "plt.show()\n"
   ]
  },
  {
   "cell_type": "markdown",
   "metadata": {
    "deletable": false,
    "editable": false,
    "nbgrader": {
     "grade": false,
     "locked": true,
     "solution": false
    }
   },
   "source": [
    "(d) Use the observed difference calculated in Q3a, and the method from Q3b, to conduct a hypothesis test to determine whether the observed difference is significant. Specifically, determine the empirical probability of observing the observed difference under the null hypothesis. "
   ]
  },
  {
   "cell_type": "code",
   "execution_count": 43,
   "metadata": {},
   "outputs": [
    {
     "name": "stdout",
     "output_type": "stream",
     "text": [
      "premium_signed_up     0    1\n",
      "group                       \n",
      "A                  1773  216\n",
      "B                  1969   42\n"
     ]
    },
    {
     "data": {
      "text/plain": [
       "(3.0007971180952426e-29, 'reject')"
      ]
     },
     "execution_count": 43,
     "metadata": {},
     "output_type": "execute_result"
    }
   ],
   "source": [
    "# testSignificanceDiffMeans(numTrials, alpha) takes as input the number of trials, and the significance level alpha.\n",
    "# Returns a tuple with the first element as:\n",
    "# the empirical probability of observing the observed difference under the null hypothesis, and\n",
    "# the second element as the decision to \"accept\" or \"reject\" the hypothesis. \n",
    "import scipy.stats as st\n",
    "def testSignificanceDiffMeans(numTrials, alpha):\n",
    "    ###\n",
    "    ### YOUR CODE HERE\n",
    "    ###\n",
    "    contTab = pd.crosstab(df.group,df['premium_signed_up'])\n",
    "    print(contTab)\n",
    "    x=st.chi2_contingency(contTab)[1]\n",
    "    if(x>alpha):\n",
    "     a='accept'\n",
    "    else:\n",
    "     a='reject'\n",
    "    return x,a\n",
    "    \n",
    "# For example,\n",
    "testSignificanceDiffMeans(100, 0.1)\n",
    "# -> (0.0, 'reject')\n"
   ]
  },
  {
   "cell_type": "markdown",
   "metadata": {
    "deletable": false,
    "editable": false,
    "nbgrader": {
     "grade": false,
     "locked": true,
     "solution": false
    }
   },
   "source": [
    "## Q4 (3 pts)"
   ]
  },
  {
   "cell_type": "markdown",
   "metadata": {
    "deletable": false,
    "editable": false,
    "nbgrader": {
     "grade": false,
     "locked": true,
     "solution": false
    }
   },
   "source": [
    "(a) Consider the data in the files 'over_50.csv' and 'under_50.csv', about the number of hours of exercise per week and the probability of developing a disease, for two groups of patients, those below the age of 50 and those over the age of 50, respectively.\n",
    "\n",
    "Create two labeled scatter plots (one for each dataset) with 'Hours Exercised' on the x axis and 'probability' on the y-axis. "
   ]
  },
  {
   "cell_type": "code",
   "execution_count": 34,
   "metadata": {},
   "outputs": [
    {
     "data": {
      "image/png": "[encoded data removed]",
      "text/plain": [
       "<Figure size 432x288 with 1 Axes>"
      ]
     },
     "metadata": {},
     "output_type": "display_data"
    },
    {
     "data": {
      "image/png": "[encoded data removed]",
      "text/plain": [
       "<Figure size 432x288 with 1 Axes>"
      ]
     },
     "metadata": {},
     "output_type": "display_data"
    }
   ],
   "source": [
    "###\n",
    "### YOUR CODE HERE\n",
    "###\n",
    "df1=pd.read_csv(\"over_50.csv\")\n",
    "df2=pd.read_csv(\"under_50.csv\")\n",
    "plt.scatter(df1[\"Hours Exercised\"],df1[\"probability\"],s=100,color=\"red\")\n",
    "plt.xlabel(\"Hours Exercised\")\n",
    "plt.ylabel(\"probability\")\n",
    "plt.title(\"Scatter Plot for over 50\",fontsize=15)\n",
    "plt.show()\n",
    "plt.scatter(df2[\"Hours Exercised\"],df2[\"probability\"],s=100,color=\"red\")\n",
    "plt.xlabel(\"Hours Exercised\")\n",
    "plt.ylabel(\"probability\")\n",
    "plt.title(\"Scatter Plot for under 50\",fontsize=15)\n",
    "plt.show()"
   ]
  },
  {
   "cell_type": "markdown",
   "metadata": {
    "deletable": false,
    "editable": false,
    "nbgrader": {
     "grade": false,
     "locked": true,
     "solution": false
    }
   },
   "source": [
    "(b) Calculate the correlation between the 'Hours Exercised' and 'probability' for the two datasets. "
   ]
  },
  {
   "cell_type": "code",
   "execution_count": 35,
   "metadata": {},
   "outputs": [
    {
     "name": "stdout",
     "output_type": "stream",
     "text": [
      "-0.8574318141725066 -0.4766996516261135\n"
     ]
    }
   ],
   "source": [
    "###\n",
    "### YOUR CODE HERE\n",
    "###\n",
    "cor2=df2[\"Hours Exercised\"].corr(df2[\"probability\"])\n",
    "cor1=df1[\"Hours Exercised\"].corr(df1[\"probability\"])\n",
    "print(cor1,cor2)"
   ]
  },
  {
   "cell_type": "markdown",
   "metadata": {
    "deletable": false,
    "editable": false,
    "nbgrader": {
     "grade": false,
     "locked": true,
     "solution": false
    }
   },
   "source": [
    "(c) Now, combine the data in the two files (you can use the concat() function in pandas to concatenate two dataframes). Create a scatter plot with 'Hours Exercised' on the x axis and 'probability' on the y-axis."
   ]
  },
  {
   "cell_type": "code",
   "execution_count": 36,
   "metadata": {},
   "outputs": [
    {
     "data": {
      "image/png": "[encoded data removed]",
      "text/plain": [
       "<Figure size 432x288 with 1 Axes>"
      ]
     },
     "metadata": {},
     "output_type": "display_data"
    }
   ],
   "source": [
    "###\n",
    "### YOUR CODE HERE\n",
    "###\n",
    "df=pd.concat([df1, df2])\n",
    "plt.scatter(df[\"Hours Exercised\"],df[\"probability\"],s=100,color=\"red\")\n",
    "plt.xlabel(\"Hours Exercised\")\n",
    "plt.ylabel(\"probability\")\n",
    "plt.title(\"Scatter Plot for under and over 50\",fontsize=15)\n",
    "plt.show()"
   ]
  },
  {
   "cell_type": "markdown",
   "metadata": {
    "deletable": false,
    "editable": false,
    "nbgrader": {
     "grade": false,
     "locked": true,
     "solution": false
    }
   },
   "source": [
    "(d) Compute the correlation between the 'Hours Exercised' and 'probability' for the combined data. "
   ]
  },
  {
   "cell_type": "code",
   "execution_count": 37,
   "metadata": {},
   "outputs": [
    {
     "name": "stdout",
     "output_type": "stream",
     "text": [
      "0.32863439089294455\n"
     ]
    }
   ],
   "source": [
    "###\n",
    "### YOUR CODE HERE\n",
    "###\n",
    "cor=df[\"Hours Exercised\"].corr(df[\"probability\"])\n",
    "print(cor)"
   ]
  },
  {
   "cell_type": "markdown",
   "metadata": {
    "deletable": false,
    "editable": false,
    "nbgrader": {
     "grade": false,
     "locked": true,
     "solution": false
    }
   },
   "source": [
    "(e) Discuss how Simpson's Paradox has occured in this data by considering your results above. "
   ]
  },
  {
   "cell_type": "markdown",
   "metadata": {},
   "source": []
  },
  {
   "cell_type": "markdown",
   "metadata": {
    "collapsed": true
   },
   "source": [
    "### YOUR ANSWER HERE: \n",
    "Simpson’s Paradox occurs when trends that appear when a dataset is separated into groups reverse when the data are aggregated. When the two datasets are combined there is a postive correlation between the hours exercised and probability and negative prior to aggregation. The mean which is used when computing the correlation will change when datasets are combined which leads to a diffferent correlation than without combining.  \n",
    "  "
   ]
  },
  {
   "cell_type": "markdown",
   "metadata": {
    "deletable": false,
    "editable": false,
    "nbgrader": {
     "grade": false,
     "locked": true,
     "solution": false
    }
   },
   "source": [
    "## Q5: Ethical issues in Data Science (4 pts)\n",
    "\n",
    "Find one example of a data science application in a recent news article, where privacy and/or bias issues have been identified, and briefly write the answer for the following questions. "
   ]
  },
  {
   "cell_type": "markdown",
   "metadata": {
    "deletable": false,
    "editable": false,
    "nbgrader": {
     "grade": false,
     "locked": true,
     "solution": false
    }
   },
   "source": [
    "(a) A brief summary (1-2 sentences) of the article and a reference."
   ]
  },
  {
   "cell_type": "markdown",
   "metadata": {},
   "source": [
    "### YOUR ANSWER HERE: \n",
    "\n",
    "Target led to a prvacy concern when it led a campaign to figure out which of its customers where expecting to have a child so \n",
    "that it can feed them targetted adds and as pregnant women were prone to stick with patterns they had prior to being pregaant, \n",
    "target was profitting without the consent of the users. This blew up when target knew that a teen was pregnant prior to her dad.\n",
    "\n",
    "\n",
    "Reference\n",
    " Hill, K. (2021). How Target Figured Out A Teen Girl Was Pregnant Before Her Father Did. Retrieved 2 August 2021, from https://www.forbes.com/sites/kashmirhill/2012/02/16/how-target-figured-out-a-teen-girl-was-pregnant-before-her-father-did/?sh=672ad65e6668"
   ]
  },
  {
   "cell_type": "markdown",
   "metadata": {
    "deletable": false,
    "editable": false,
    "nbgrader": {
     "grade": false,
     "locked": true,
     "solution": false
    }
   },
   "source": [
    "(b) Identify the data analysis task in the application and describe the data that was analyzed."
   ]
  },
  {
   "cell_type": "markdown",
   "metadata": {},
   "source": [
    "### YOUR ANSWER HERE: \n",
    "\n",
    "Target assigned every customer a Guest ID number, tied to their credit card, name, or email address.\n",
    "Using that, they used an algoritm that looked at their history of buying data for \n",
    "all the ladies who had signed up for Target baby registries in the past.\n",
    "\n",
    "They wanted to cluster the pregannt women from the entire customer database and to do this they ran test, analyzing the data,\n",
    "and some useful patterns emerged. \n",
    "\n",
    "After clustering the pregant women, they started maniputlating the ads to their advantage. They started feeding ads about pregnancy items and also started mixing in irrelevant ads for\n",
    "things pregnant women would never buy, so the baby ads looked random."
   ]
  },
  {
   "cell_type": "markdown",
   "metadata": {
    "deletable": false,
    "editable": false,
    "nbgrader": {
     "grade": false,
     "locked": true,
     "solution": false
    }
   },
   "source": [
    "(c) State the privacy/fairness issues that were identified."
   ]
  },
  {
   "cell_type": "markdown",
   "metadata": {},
   "source": [
    "### YOUR ANSWER HERE: \n",
    "\n",
    "The pregnant women were at a vulnerable stage. During pregnancy, women stuck to patterns they had previous\n",
    "to being pregnant. This psychological fact was abused by target which is to say that the decisions preganant women\n",
    "were making were affected without their knowledge. They were being manipulated and information was being collected \n",
    "without their knowledge. They were being tracked and targetted. This is unethical. Users should know\n",
    "how their information is being used and aware if information is being collected about them especially if hidded psychological tendencies was being manipulated."
   ]
  },
  {
   "cell_type": "markdown",
   "metadata": {
    "deletable": false,
    "editable": false,
    "nbgrader": {
     "grade": false,
     "locked": true,
     "solution": false
    }
   },
   "source": [
    "(d) Discuss what aspect of the data/analysis is likely the root cause of the issue. (If this aspect is not discussed, just speculate yourself.)"
   ]
  },
  {
   "cell_type": "markdown",
   "metadata": {},
   "source": [
    "### YOUR ANSWER HERE: \n",
    "1) Privacy is not preserved\n",
    "2) Targetted Bias\n",
    "3) uninformed collection of information\n",
    "\n",
    "These are data about people from ubiquitious sources and privacy is not preserved. Data is also\n",
    "selected and fed to a biased set of groups for the manipuation of their decision. \n",
    "\n",
    "\n",
    "  "
   ]
  },
  {
   "cell_type": "code",
   "execution_count": null,
   "metadata": {
    "collapsed": true
   },
   "outputs": [],
   "source": []
  },
  {
   "cell_type": "code",
   "execution_count": null,
   "metadata": {
    "collapsed": true
   },
   "outputs": [],
   "source": []
  },
  {
   "cell_type": "code",
   "execution_count": null,
   "metadata": {
    "collapsed": true
   },
   "outputs": [],
   "source": []
  }
 ],
 "metadata": {
  "kernelspec": {
   "display_name": "Python 3.5",
   "language": "python",
   "name": "python35"
  },
  "language_info": {
   "codemirror_mode": {
    "name": "ipython",
    "version": 3
   },
   "file_extension": ".py",
   "mimetype": "text/x-python",
   "name": "python",
   "nbconvert_exporter": "python",
   "pygments_lexer": "ipython3",
   "version": "3.5.2"
  }
 },
 "nbformat": 4,
 "nbformat_minor": 2
}
