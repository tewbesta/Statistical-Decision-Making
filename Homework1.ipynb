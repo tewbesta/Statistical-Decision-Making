{
 "cells": [
  {
   "cell_type": "markdown",
   "metadata": {
    "deletable": false,
    "editable": false,
    "nbgrader": {
     "grade": false,
     "locked": true,
     "solution": false
    }
   },
   "source": [
    "In this assignment, the questions on plots will be graded manually, and the remaining questions will be auto-graded."
   ]
  },
  {
   "cell_type": "code",
   "execution_count": 32,
   "metadata": {
    "collapsed": true,
    "deletable": false,
    "editable": false,
    "nbgrader": {
     "grade": false,
     "locked": true,
     "solution": false
    }
   },
   "outputs": [],
   "source": [
    "# Run this cell so that the necessary packages are imported. \n",
    "\n",
    "import pandas as pd\n",
    "import matplotlib.pyplot as plt \n",
    "import numpy as np\n",
    "import math\n",
    "import scipy as sp\n",
    "from scipy import stats as scs"
   ]
  },
  {
   "cell_type": "markdown",
   "metadata": {
    "deletable": false,
    "editable": false,
    "nbgrader": {
     "grade": false,
     "locked": true,
     "solution": false
    }
   },
   "source": [
    "## Q1"
   ]
  },
  {
   "cell_type": "markdown",
   "metadata": {
    "deletable": false,
    "editable": false,
    "nbgrader": {
     "grade": false,
     "locked": true,
     "solution": false
    }
   },
   "source": [
    "(a) Compute the mean of a random sample as follows:\n",
    "    i.  Read data in from a specified comma-separated text file with header \n",
    "        and store it in data frame. \n",
    "    ii. Create a sample of the specified size by sampling without replacement.\n",
    "        Unless otherwise specified, use the sample() function in pandas with \n",
    "        the specified random state value for repeatability. \n",
    "    iii.Select the column with specified index and return the mean of the values. "
   ]
  },
  {
   "cell_type": "code",
   "execution_count": 33,
   "metadata": {},
   "outputs": [
    {
     "data": {
      "text/plain": [
       "9.3"
      ]
     },
     "execution_count": 33,
     "metadata": {},
     "output_type": "execute_result"
    }
   ],
   "source": [
    "# getMean(filename, columnIndex, sampleSize, random_state) takes as input the \n",
    "# filename to read in data from, the column index, sample size, and value of \n",
    "# random state to use in the sample() function in pandas. Returns the sample  \n",
    "# mean of values in the column with the specified columnIndex.\n",
    "\n",
    "\n",
    "def getMean(filename, columnIndex, sampleSize, random_state):\n",
    "    \n",
    "    ###\n",
    "    ### YOUR CODE HERE\n",
    "    ###\n",
    "    df=pd.read_csv(filename)\n",
    "    df1=df.sample(n=sampleSize,random_state=random_state,replace=False)\n",
    "    return df1.iloc[:,columnIndex].mean()\n",
    "    \n",
    "# For example,\n",
    "getMean('SAT_Participation_CT.csv', 5, 20, 10) # -> 9.3"
   ]
  },
  {
   "cell_type": "code",
   "execution_count": 34,
   "metadata": {
    "collapsed": true,
    "deletable": false,
    "editable": false,
    "nbgrader": {
     "grade": true,
     "grade_id": "Q1a_1",
     "locked": true,
     "points": "0.34",
     "solution": false
    }
   },
   "outputs": [],
   "source": [
    "###\n",
    "### AUTOGRADER TEST - DO NOT REMOVE\n",
    "###\n"
   ]
  },
  {
   "cell_type": "code",
   "execution_count": 35,
   "metadata": {
    "collapsed": true,
    "deletable": false,
    "editable": false,
    "nbgrader": {
     "grade": true,
     "grade_id": "Q1a_2",
     "locked": true,
     "points": "0.33",
     "solution": false
    }
   },
   "outputs": [],
   "source": [
    "###\n",
    "### AUTOGRADER TEST - DO NOT REMOVE\n",
    "###\n"
   ]
  },
  {
   "cell_type": "code",
   "execution_count": 36,
   "metadata": {
    "collapsed": true,
    "deletable": false,
    "editable": false,
    "nbgrader": {
     "grade": true,
     "grade_id": "Q1a_3",
     "locked": true,
     "points": "0.33",
     "solution": false
    }
   },
   "outputs": [],
   "source": [
    "###\n",
    "### AUTOGRADER TEST - DO NOT REMOVE\n",
    "###\n"
   ]
  },
  {
   "cell_type": "markdown",
   "metadata": {
    "deletable": false,
    "editable": false,
    "nbgrader": {
     "grade": false,
     "locked": true,
     "solution": false
    }
   },
   "source": [
    "(b) Compute the average mean of a random sample as follows:\n",
    "    i.  Repeat Q1a for each of the specified number of trials.\n",
    "    ii. Set the 'random_state' parameter to trial number to faciliate testing, \n",
    "        i.e., for the first trial use random_state=0, for the second sample use \n",
    "        random_state=1, etc.\n",
    "    iii.Return the average value of the mean (over the trials) and the standard \n",
    "        error. \n"
   ]
  },
  {
   "cell_type": "code",
   "execution_count": 37,
   "metadata": {},
   "outputs": [
    {
     "data": {
      "text/plain": [
       "(7.3950000000000005, 1.7400582685007355)"
      ]
     },
     "execution_count": 37,
     "metadata": {},
     "output_type": "execute_result"
    }
   ],
   "source": [
    "# getAverageMean(filename, columnIndex, sampleSize, num_trials) takes as input \n",
    "# the filename to read in data from, the column index, sample size, and the \n",
    "# number of trials. Returns a tuple with: the first element recording the average \n",
    "# sample mean in the column with the specified columnIndex, and the second  \n",
    "# element recording the standard error (for the specified number of trials).\n",
    "from statistics import mean\n",
    "def getAverageMean(filename, columnIndex, sampleSize, num_trials):\n",
    "    ###\n",
    "    ### YOUR CODE HERE\n",
    "    ###\n",
    "    df=pd.read_csv(filename)\n",
    "    Mean=0\n",
    "    std=[]\n",
    "    av=[]\n",
    "    for i in range(num_trials):\n",
    "        df1=df.sample(n=sampleSize,random_state=i,replace=False)\n",
    "        Mean=df1.iloc[:,columnIndex].mean()\n",
    "        av.append(Mean);\n",
    "        std.append(df1.iloc[:,columnIndex].std())\n",
    "    AV=pd.DataFrame(av)\n",
    "    stder=AV.std()\n",
    "    return sum(av)/num_trials,stder[0]/math.sqrt(10)\n",
    "    \n",
    "# For example,\n",
    "getAverageMean('SAT_Participation_CT.csv', 5, 20, 10) #-> (7.3950000000000005, 1.7400582685007357)"
   ]
  },
  {
   "cell_type": "code",
   "execution_count": 38,
   "metadata": {
    "collapsed": true,
    "deletable": false,
    "editable": false,
    "nbgrader": {
     "grade": true,
     "grade_id": "Q1b_1",
     "locked": true,
     "points": "0.34",
     "solution": false
    }
   },
   "outputs": [],
   "source": [
    "###\n",
    "### AUTOGRADER TEST - DO NOT REMOVE\n",
    "###\n"
   ]
  },
  {
   "cell_type": "code",
   "execution_count": 39,
   "metadata": {
    "collapsed": true,
    "deletable": false,
    "editable": false,
    "nbgrader": {
     "grade": true,
     "grade_id": "Q1b_2",
     "locked": true,
     "points": "0.33",
     "solution": false
    }
   },
   "outputs": [],
   "source": [
    "###\n",
    "### AUTOGRADER TEST - DO NOT REMOVE\n",
    "###\n"
   ]
  },
  {
   "cell_type": "code",
   "execution_count": 40,
   "metadata": {
    "collapsed": true,
    "deletable": false,
    "editable": false,
    "nbgrader": {
     "grade": true,
     "grade_id": "Q1b_3",
     "locked": true,
     "points": "0.33",
     "solution": false
    }
   },
   "outputs": [],
   "source": [
    "###\n",
    "### AUTOGRADER TEST - DO NOT REMOVE\n",
    "###\n"
   ]
  },
  {
   "cell_type": "markdown",
   "metadata": {
    "deletable": false,
    "editable": false,
    "nbgrader": {
     "grade": false,
     "locked": true,
     "solution": false
    }
   },
   "source": [
    "## Q2 (2 pts)"
   ]
  },
  {
   "cell_type": "markdown",
   "metadata": {
    "deletable": false,
    "editable": false,
    "nbgrader": {
     "grade": false,
     "locked": true,
     "solution": false
    }
   },
   "source": [
    "(a) Plot the sample mean as a function of sample size:\n",
    "    i.  Consider the file 'SAT_Participation_CT.csv'. \n",
    "    ii. Using the function from Q1b, with number of trials = 10, calculate the \n",
    "        average mean and standard error for the values in the fifth column. Use \n",
    "        the following sample sizes: [10, 25, 50, 75, 100, 150, 185]. \n",
    "    iii.Create a line plot with the sample size on x axis and avg mean value on \n",
    "        the y axis. Add standard error bars to each point using the errorbar() \n",
    "        function in python."
   ]
  },
  {
   "cell_type": "markdown",
   "metadata": {
    "deletable": false,
    "editable": false,
    "nbgrader": {
     "grade": false,
     "locked": true,
     "solution": false
    }
   },
   "source": [
    "(b) Repeat Q2a but use 50 trials. Note the difference in the error bars."
   ]
  },
  {
   "cell_type": "code",
   "execution_count": 41,
   "metadata": {},
   "outputs": [
    {
     "name": "stdout",
     "output_type": "stream",
     "text": [
      "[6.660000000000001, 7.359999999999999, 7.2440000000000015, 7.151999999999999, 6.739999999999999, 6.68, 5.848108108108108]\n",
      "[2.010594163149015, 1.803236596296288, 0.9141835458788106, 0.7864788225194655, 0.517199725014965, 0.200626180239596, 0.038293693312189514]\n"
     ]
    },
    {
     "data": {
      "image/png": "[encoded data removed]",
      "text/plain": [
       "<Figure size 432x288 with 1 Axes>"
      ]
     },
     "metadata": {},
     "output_type": "display_data"
    }
   ],
   "source": [
    "import matplotlib.pyplot as plt\n",
    "sample_sizes = [10, 25, 50, 75, 100, 150, 185]\n",
    "num_trials = 10\n",
    "col_index = 5\n",
    "avgMean=[]\n",
    "stdError=[]\n",
    "for i in range(len(sample_sizes)):\n",
    "    Mean=((getAverageMean('SAT_Participation_CT.csv', 5, sample_sizes[i], num_trials))[0])\n",
    "    std=((getAverageMean('SAT_Participation_CT.csv', 5, sample_sizes[i], num_trials))[1])\n",
    "    avgMean.append(Mean)\n",
    "    stdError.append(std)\n",
    "print(avgMean)\n",
    "print(stdError)\n",
    "plt.errorbar(sample_sizes,avgMean,yerr=stdError)\n",
    "plt.show()\n",
    "\n",
    "###\n",
    "### YOUR CODE HERE\n",
    "###"
   ]
  },
  {
   "cell_type": "markdown",
   "metadata": {
    "deletable": false,
    "editable": false,
    "nbgrader": {
     "grade": false,
     "locked": true,
     "solution": false
    }
   },
   "source": [
    "## Q3"
   ]
  },
  {
   "cell_type": "markdown",
   "metadata": {
    "deletable": false,
    "editable": false,
    "nbgrader": {
     "grade": false,
     "locked": true,
     "solution": false
    }
   },
   "source": [
    "(a) Compute the standard deviation of a random sample as follows:\n",
    "    i.  Read data in from a specified comma-separated text file with header \n",
    "        and store it in data frame. \n",
    "    ii. Create a sample of the specified size by sampling without replacement.\n",
    "        Unless otherwise specified, use the sample() function in pandas with \n",
    "        the specified random state value for repeatability. \n",
    "    iii.Select the column with specified index and return the standard \n",
    "        deviation of the values. \n",
    " "
   ]
  },
  {
   "cell_type": "code",
   "execution_count": 42,
   "metadata": {},
   "outputs": [
    {
     "data": {
      "text/plain": [
       "50.82431614012245"
      ]
     },
     "execution_count": 42,
     "metadata": {},
     "output_type": "execute_result"
    }
   ],
   "source": [
    "# getStddev(filename, columnIndex, sampleSize, random_state) takes as input \n",
    "# the filename to read in data from, the column index, sample size, and the \n",
    "# value of random state to use in the sample() function in pandas. Returns the\n",
    "# standard deviation of the sampled values (sampled without replacement) in the \n",
    "# column with the specified columnIndex.\n",
    "\n",
    "# For example,\n",
    "# getStddev('SAT_Participation_CT.csv', 5, 10, 10) -> 50.82431614012245\n",
    "\n",
    "def getStddev(filename, columnIndex, sampleSize, random_state):\n",
    "    ###\n",
    "    ### YOUR CODE HERE\n",
    "    ###\n",
    "    df=pd.read_csv(filename)\n",
    "    df1=df.sample(n=sampleSize,random_state=random_state,replace=False)\n",
    "    return df1.iloc[:,columnIndex].std()\n",
    "getStddev('SAT_Participation_CT.csv', 5, 10, 10)"
   ]
  },
  {
   "cell_type": "code",
   "execution_count": 43,
   "metadata": {
    "collapsed": true,
    "deletable": false,
    "editable": false,
    "nbgrader": {
     "grade": true,
     "grade_id": "Q3a_1",
     "locked": true,
     "points": "0.34",
     "solution": false
    }
   },
   "outputs": [],
   "source": [
    "###\n",
    "### AUTOGRADER TEST - DO NOT REMOVE\n",
    "###\n"
   ]
  },
  {
   "cell_type": "code",
   "execution_count": 44,
   "metadata": {
    "collapsed": true,
    "deletable": false,
    "editable": false,
    "nbgrader": {
     "grade": true,
     "grade_id": "Q3a_2",
     "locked": true,
     "points": "0.33",
     "solution": false
    }
   },
   "outputs": [],
   "source": [
    "###\n",
    "### AUTOGRADER TEST - DO NOT REMOVE\n",
    "###\n"
   ]
  },
  {
   "cell_type": "code",
   "execution_count": 45,
   "metadata": {
    "collapsed": true,
    "deletable": false,
    "editable": false,
    "nbgrader": {
     "grade": true,
     "grade_id": "Q3a_3",
     "locked": true,
     "points": "0.33",
     "solution": false
    }
   },
   "outputs": [],
   "source": [
    "###\n",
    "### AUTOGRADER TEST - DO NOT REMOVE\n",
    "###\n"
   ]
  },
  {
   "cell_type": "markdown",
   "metadata": {
    "deletable": false,
    "editable": false,
    "nbgrader": {
     "grade": false,
     "locked": true,
     "solution": false
    }
   },
   "source": [
    "(b) Compute the p-th percentile of the standard deviation over random samples as follows:\n",
    "    i.  Repeat Q3a for each of the specified number of trials.\n",
    "    ii. Set the 'random_state' parameter to trial number to faciliate testing, \n",
    "        i.e., for the first trial use random_state=0, for the second sample use \n",
    "        random_state=1, etc.\n",
    "    iii.Return the p-th percentile (0 < p < 100) of the standard deviations (over the \n",
    "        trials). You can use the percentile() function in numpy.\n"
   ]
  },
  {
   "cell_type": "code",
   "execution_count": 46,
   "metadata": {},
   "outputs": [
    {
     "name": "stdout",
     "output_type": "stream",
     "text": [
      "18.10028776099324\n",
      "37.91051782186642\n"
     ]
    }
   ],
   "source": [
    "# getPercentileStddev(filename, columnIndex, sampleSize, num_trials, p) takes \n",
    "# as input the filename to read in data from, the column index, sample size, \n",
    "# number of trials, and percentile p (0 < p < 100). Returns the p-th percentile\n",
    "# of the standard deviations obtained over the different trials.\n",
    "#\n",
    "\n",
    "def getPercentileStddev(filename, columnIndex, sampleSize, num_trials, p):\n",
    "    \n",
    "    ###\n",
    "    ### YOUR CODE HERE\n",
    "    ###\n",
    "    std=[]\n",
    "    for i in range(num_trials):        \n",
    "        std.append(getStddev(filename, columnIndex, sampleSize, i))\n",
    "    return (np.percentile(std,p))\n",
    "       \n",
    "# For example,\n",
    "print(getPercentileStddev('SAT_Participation_CT.csv', 5, 20, 10, 25))\n",
    "# -> 18.10028776099324\n",
    "\n",
    "print(getPercentileStddev('SAT_Participation_CT.csv', 5, 20, 10, 75))\n",
    "# -> 37.91051782186642"
   ]
  },
  {
   "cell_type": "code",
   "execution_count": 47,
   "metadata": {
    "collapsed": true,
    "deletable": false,
    "editable": false,
    "nbgrader": {
     "grade": true,
     "grade_id": "Q3b_1",
     "locked": true,
     "points": "0.5",
     "solution": false
    }
   },
   "outputs": [],
   "source": [
    "###\n",
    "### AUTOGRADER TEST - DO NOT REMOVE\n",
    "###\n"
   ]
  },
  {
   "cell_type": "code",
   "execution_count": 48,
   "metadata": {
    "collapsed": true,
    "deletable": false,
    "editable": false,
    "nbgrader": {
     "grade": true,
     "grade_id": "Q3b_2",
     "locked": true,
     "points": "0.5",
     "solution": false
    }
   },
   "outputs": [],
   "source": [
    "###\n",
    "### AUTOGRADER TEST - DO NOT REMOVE\n",
    "###\n"
   ]
  },
  {
   "cell_type": "markdown",
   "metadata": {
    "deletable": false,
    "editable": false,
    "nbgrader": {
     "grade": false,
     "locked": true,
     "solution": false
    }
   },
   "source": [
    "## Q4 (2 pts)"
   ]
  },
  {
   "cell_type": "markdown",
   "metadata": {
    "deletable": false,
    "editable": false,
    "nbgrader": {
     "grade": false,
     "locked": true,
     "solution": false
    }
   },
   "source": [
    "(a) Plot the standard deviation percentile as a function of sample size:\n",
    "    i.  Consider the file 'SAT_Participation_CT.csv'. \n",
    "    ii. Using the function from Q3b, with number of trials = 10, calculate the \n",
    "        25th percentile of the standard deviation for the values sampled from the \n",
    "        fifth column. Use sample sizes: [10, 25, 50, 75, 100, 150, 185]. \n",
    "    iii.Create a line plot with the sample size on x axis and 25th percentile of the\n",
    "        standard deviation on the y axis. \n"
   ]
  },
  {
   "cell_type": "code",
   "execution_count": 49,
   "metadata": {},
   "outputs": [
    {
     "name": "stdout",
     "output_type": "stream",
     "text": [
      "[12.374860484311942, 20.94189787217818, 23.197614828368806, 23.866998530529806, 25.774394829204283, 26.3503802457858, 25.434258052559066]\n"
     ]
    },
    {
     "data": {
      "image/png": "[encoded data removed]",
      "text/plain": [
       "<Figure size 432x288 with 1 Axes>"
      ]
     },
     "metadata": {},
     "output_type": "display_data"
    }
   ],
   "source": [
    "sample_sizes = [10, 25, 50, 75, 100, 150, 185]\n",
    "num_trials = 10\n",
    "col_index = 5\n",
    "p = 25\n",
    "perstd=[]\n",
    "for i in sample_sizes:\n",
    "    perstd.append(getPercentileStddev('SAT_Participation_CT.csv', 5, i, num_trials, p))\n",
    "print(perstd)\n",
    "plt.plot(sample_sizes,perstd)\n",
    "plt.show()\n",
    "###\n",
    "### YOUR CODE HERE\n",
    "###\n"
   ]
  },
  {
   "cell_type": "markdown",
   "metadata": {
    "deletable": false,
    "editable": false,
    "nbgrader": {
     "grade": false,
     "locked": true,
     "solution": false
    }
   },
   "source": [
    "(b) Repeat Q4a but use 50 trials. Note the difference."
   ]
  },
  {
   "cell_type": "code",
   "execution_count": 50,
   "metadata": {},
   "outputs": [
    {
     "name": "stdout",
     "output_type": "stream",
     "text": [
      "[16.779223556187695, 17.993546810102018, 21.63584563531508, 23.167859909157823, 24.56692528871836, 25.27836106851944, 25.43591425783764]\n"
     ]
    },
    {
     "data": {
      "image/png": "[encoded data removed]",
      "text/plain": [
       "<Figure size 432x288 with 1 Axes>"
      ]
     },
     "metadata": {},
     "output_type": "display_data"
    }
   ],
   "source": [
    "###\n",
    "### YOUR CODE HERE\n",
    "###\n",
    "sample_sizes = [10, 25, 50, 75, 100, 150, 185]\n",
    "num_trials = 50\n",
    "col_index = 5\n",
    "p = 25\n",
    "perstd=[]\n",
    "for i in sample_sizes:\n",
    "    perstd.append(getPercentileStddev('SAT_Participation_CT.csv', 5, i, num_trials, p))\n",
    "print(perstd)\n",
    "plt.plot(sample_sizes,perstd)\n",
    "plt.show()"
   ]
  },
  {
   "cell_type": "markdown",
   "metadata": {
    "deletable": false,
    "editable": false,
    "nbgrader": {
     "grade": false,
     "locked": true,
     "solution": false
    }
   },
   "source": [
    "(c) Repeat Q4a (using 10 trials) but estimate the 75th percentile of standard deviation."
   ]
  },
  {
   "cell_type": "code",
   "execution_count": 51,
   "metadata": {},
   "outputs": [
    {
     "name": "stdout",
     "output_type": "stream",
     "text": [
      "[31.499533889226182, 38.03800035297361, 31.413110944025888, 30.339451338737586, 29.069376945065684, 27.096653062269475, 25.499616317285557]\n"
     ]
    },
    {
     "data": {
      "image/png": "[encoded data removed]",
      "text/plain": [
       "<Figure size 432x288 with 1 Axes>"
      ]
     },
     "metadata": {},
     "output_type": "display_data"
    }
   ],
   "source": [
    "###\n",
    "### YOUR CODE HERE\n",
    "###\n",
    "sample_sizes = [10, 25, 50, 75, 100, 150, 185]\n",
    "num_trials = 10\n",
    "col_index = 5\n",
    "p = 75\n",
    "perstd=[]\n",
    "for i in sample_sizes:\n",
    "    perstd.append(getPercentileStddev('SAT_Participation_CT.csv', 5, i, num_trials, p))\n",
    "print(perstd)\n",
    "plt.plot(sample_sizes,perstd)\n",
    "plt.show()"
   ]
  },
  {
   "cell_type": "markdown",
   "metadata": {
    "deletable": false,
    "editable": false,
    "nbgrader": {
     "grade": false,
     "locked": true,
     "solution": false
    }
   },
   "source": [
    "(d) Repeat Q4c but use 100 trials. Note the difference."
   ]
  },
  {
   "cell_type": "code",
   "execution_count": 52,
   "metadata": {},
   "outputs": [
    {
     "name": "stdout",
     "output_type": "stream",
     "text": [
      "[42.085098972861594, 41.284864054517605, 33.52701621568091, 33.154158083085115, 30.087876346301062, 27.188398137598885, 25.503217464813716]\n"
     ]
    },
    {
     "data": {
      "image/png": "[encoded data removed]",
      "text/plain": [
       "<Figure size 432x288 with 1 Axes>"
      ]
     },
     "metadata": {},
     "output_type": "display_data"
    }
   ],
   "source": [
    "###\n",
    "### YOUR CODE HERE\n",
    "###\n",
    "sample_sizes = [10, 25, 50, 75, 100, 150, 185]\n",
    "num_trials = 10\n",
    "col_index = 5\n",
    "p = 100\n",
    "perstd=[]\n",
    "for i in sample_sizes:\n",
    "    perstd.append(getPercentileStddev('SAT_Participation_CT.csv', 5, i, num_trials, p))\n",
    "print(perstd)\n",
    "plt.plot(sample_sizes,perstd)\n",
    "plt.show()"
   ]
  },
  {
   "cell_type": "markdown",
   "metadata": {
    "deletable": false,
    "editable": false,
    "nbgrader": {
     "grade": false,
     "locked": true,
     "solution": false
    }
   },
   "source": [
    "## Q5: Transform attribute values"
   ]
  },
  {
   "cell_type": "markdown",
   "metadata": {
    "deletable": false,
    "editable": false,
    "nbgrader": {
     "grade": false,
     "locked": true,
     "solution": false
    }
   },
   "source": [
    "i. Read data in from a specified comma-separated text file with header, store in data frame. \n",
    "ii. Transform the values of the column with specified column index, by subtracting the column mean and dividing by the column standard deviation. \n",
    "iii. Return the transformed values as a Pandas Series."
   ]
  },
  {
   "cell_type": "code",
   "execution_count": 53,
   "metadata": {},
   "outputs": [
    {
     "data": {
      "text/plain": [
       "0     -0.703558\n",
       "1     -0.388243\n",
       "2     -0.151756\n",
       "3     -0.427657\n",
       "4      0.242388\n",
       "5      4.262661\n",
       "6      0.281803\n",
       "7      0.124145\n",
       "8      0.400046\n",
       "9     -0.703558\n",
       "10    -1.294775\n",
       "11    -0.427657\n",
       "12    -0.624729\n",
       "13    -0.388243\n",
       "14    -0.585315\n",
       "15    -0.664144\n",
       "16     0.597118\n",
       "17    -0.348828\n",
       "18     0.202974\n",
       "19    -0.269999\n",
       "20    -0.033513\n",
       "21    -0.072927\n",
       "22    -1.097703\n",
       "23     0.281803\n",
       "24    -0.545900\n",
       "25    -0.821802\n",
       "26    -0.309414\n",
       "27    -0.348828\n",
       "28     0.084731\n",
       "29     0.281803\n",
       "         ...   \n",
       "157    0.400046\n",
       "158    0.321217\n",
       "159    3.001399\n",
       "160    2.489011\n",
       "161    1.070091\n",
       "162   -0.112342\n",
       "163    0.045316\n",
       "164   -1.176531\n",
       "165    0.124145\n",
       "166    0.124145\n",
       "167   -0.585315\n",
       "168   -0.151756\n",
       "169   -1.058288\n",
       "170   -0.072927\n",
       "171   -2.556037\n",
       "172   -0.388243\n",
       "173   -0.545900\n",
       "174   -0.900630\n",
       "175    2.055452\n",
       "176    2.252525\n",
       "177    0.754776\n",
       "178    0.675947\n",
       "179    0.321217\n",
       "180   -0.427657\n",
       "181   -1.215946\n",
       "182   -0.348828\n",
       "183   -0.348828\n",
       "184   -0.664144\n",
       "185   -0.624729\n",
       "186    0.005902\n",
       "Name: Test-takers: Change, Length: 187, dtype: float64"
      ]
     },
     "execution_count": 53,
     "metadata": {},
     "output_type": "execute_result"
    }
   ],
   "source": [
    "# standardize(filename, columnIndex) takes as input the filename to read in data \n",
    "# from, and the column index specifying which values to transform. Returns the \n",
    "# standardized column values as a Pandas Series object (column from DataFrame).\n",
    "#\n",
    "\n",
    "def standardize(filename, columnIndex):\n",
    "    \n",
    "    ###\n",
    "    ### YOUR CODE HERE\n",
    "    ###\n",
    "    df=pd.read_csv(filename).iloc[:,columnIndex]\n",
    "    mean=df.mean()\n",
    "    df=(df-mean)/df.std()\n",
    "    return df\n",
    "\n",
    "# For example,\n",
    "standardize('SAT_Participation_CT.csv', 5) # -> standardized_col\n",
    "# 0     -0.703558\n",
    "# 1     -0.388243\n",
    "# 2     -0.151756\n",
    "# ...\n",
    "# 185   -0.624729\n",
    "# 186    0.005902\n"
   ]
  },
  {
   "cell_type": "code",
   "execution_count": 54,
   "metadata": {
    "collapsed": true,
    "deletable": false,
    "editable": false,
    "nbgrader": {
     "grade": true,
     "grade_id": "Q5",
     "locked": true,
     "points": "2",
     "solution": false
    }
   },
   "outputs": [],
   "source": [
    "###\n",
    "### AUTOGRADER TEST - DO NOT REMOVE\n",
    "###\n"
   ]
  },
  {
   "cell_type": "markdown",
   "metadata": {
    "deletable": false,
    "editable": false,
    "nbgrader": {
     "grade": false,
     "locked": true,
     "solution": false
    }
   },
   "source": [
    "## Q6 (2 pts)"
   ]
  },
  {
   "cell_type": "markdown",
   "metadata": {
    "deletable": false,
    "editable": false,
    "nbgrader": {
     "grade": false,
     "locked": true,
     "solution": false
    }
   },
   "source": [
    "(a) Create a density plot for values in a specified column:\n",
    "    i.  Consider the file 'SAT_Participation_CT.csv'. \n",
    "    ii. Plot the density of (all) the values in the fifth column. "
   ]
  },
  {
   "cell_type": "code",
   "execution_count": 55,
   "metadata": {},
   "outputs": [
    {
     "data": {
      "image/png": "[encoded data removed]",
      "text/plain": [
       "<Figure size 432x288 with 1 Axes>"
      ]
     },
     "metadata": {},
     "output_type": "display_data"
    }
   ],
   "source": [
    "###\n",
    "### YOUR CODE HERE\n",
    "###\n",
    "df=pd.read_csv( 'SAT_Participation_CT.csv').iloc[:,5]\n",
    "df.plot(kind=\"density\")\n",
    "plt.show()"
   ]
  },
  {
   "cell_type": "markdown",
   "metadata": {
    "deletable": false,
    "editable": false,
    "nbgrader": {
     "grade": false,
     "locked": true,
     "solution": false
    }
   },
   "source": [
    "(b) Repeat Q5a but standardize the values in the fifth column before plotting the density. Note the difference in location and/or scale. "
   ]
  },
  {
   "cell_type": "code",
   "execution_count": 56,
   "metadata": {},
   "outputs": [
    {
     "data": {
      "image/png": "[encoded data removed]",
      "text/plain": [
       "<Figure size 432x288 with 1 Axes>"
      ]
     },
     "metadata": {},
     "output_type": "display_data"
    }
   ],
   "source": [
    "###\n",
    "### YOUR CODE HERE\n",
    "###\n",
    "df=pd.read_csv('SAT_Participation_CT.csv').iloc[:,5]\n",
    "mean=df.mean()\n",
    "df=(df-mean)/df.std()\n",
    "df.plot(kind=\"density\")\n",
    "plt.show()    "
   ]
  },
  {
   "cell_type": "markdown",
   "metadata": {
    "deletable": false,
    "editable": false,
    "nbgrader": {
     "grade": false,
     "locked": true,
     "solution": false
    }
   },
   "source": [
    "## Q7: Confidence intervals"
   ]
  },
  {
   "cell_type": "markdown",
   "metadata": {
    "deletable": false,
    "editable": false,
    "nbgrader": {
     "grade": false,
     "locked": true,
     "solution": false
    }
   },
   "source": [
    "i. Consider the file 'bush-gore-results-fl.csv'. \n",
    "ii. Randomly sample 30 counties (i.e., rows) without replacement using the specified sample size, and set random_state = 10.\n",
    "iii. For each of the specified candidates (i.e., column names), calculate the mean number of votes obtained by the candidate.\n",
    "iv. For each of the candidates, calcuate a confidence interval, with the specified percentage, for the estimated mean. \n",
    "v. Return a list of CIs in order for the specified candidates.\n"
   ]
  },
  {
   "cell_type": "code",
   "execution_count": 57,
   "metadata": {},
   "outputs": [
    {
     "data": {
      "text/plain": [
       "[(103.68845461817914, 330.51154538182084),\n",
       " (2.5018998784506374, 9.964766788216028),\n",
       " (4.860537116980019, 67.20612954968664)]"
      ]
     },
     "execution_count": 57,
     "metadata": {},
     "output_type": "execute_result"
    }
   ],
   "source": [
    "# getCIs(filename, candidates, sampleSize, ciPercent) takes as input the filename \n",
    "# to read in data from, a list of candidates, sample size, and CI percentage. \n",
    "# Returns a list of calculated CIs in the order of the specified candidates.\n",
    "#\n",
    "randomState = 10\n",
    "def getCIs(filename, candidates, sampleSize, ciPercent):\n",
    "    ###\n",
    "    ### YOUR CODE HERE\n",
    "    ###\n",
    "    df=pd.read_csv(filename).sample(n=sampleSize,random_state=randomState,replace=False)\n",
    "    Mean=[]\n",
    "    ci=[]\n",
    "    for i in candidates:\n",
    "        mean=df.loc[:,i].mean()\n",
    "        Mean.append(mean)\n",
    "        stdErrEst = df.loc[:,i].std() / np.sqrt(sampleSize)\n",
    "        ci.append(sp.stats.norm.interval(ciPercent, loc = mean, scale = stdErrEst))\n",
    "    return ci\n",
    "# For example,\n",
    "getCIs('bush-gore-results-fl.csv', ['brow', 'harr', 'hage'], 30, 0.95)\n",
    "# -> \n",
    "# [(103.68845461817915, 330.51154538182084),\n",
    "# (2.501899878450637, 9.96476678821603),\n",
    "# (4.860537116980019, 67.20612954968664)]\n"
   ]
  },
  {
   "cell_type": "code",
   "execution_count": 58,
   "metadata": {
    "collapsed": true,
    "deletable": false,
    "editable": false,
    "nbgrader": {
     "grade": true,
     "grade_id": "Q7_1",
     "locked": true,
     "points": "1",
     "solution": false
    }
   },
   "outputs": [],
   "source": [
    "###\n",
    "### AUTOGRADER TEST - DO NOT REMOVE\n",
    "###\n"
   ]
  },
  {
   "cell_type": "code",
   "execution_count": 59,
   "metadata": {
    "collapsed": true,
    "deletable": false,
    "editable": false,
    "nbgrader": {
     "grade": true,
     "grade_id": "Q7_2",
     "locked": true,
     "points": "1",
     "solution": false
    }
   },
   "outputs": [],
   "source": [
    "###\n",
    "### AUTOGRADER TEST - DO NOT REMOVE\n",
    "###\n"
   ]
  },
  {
   "cell_type": "markdown",
   "metadata": {
    "deletable": false,
    "editable": false,
    "nbgrader": {
     "grade": false,
     "locked": true,
     "solution": false
    }
   },
   "source": [
    "## Q8 (2 pts)"
   ]
  },
  {
   "cell_type": "markdown",
   "metadata": {
    "deletable": false,
    "editable": false,
    "nbgrader": {
     "grade": false,
     "locked": true,
     "solution": false
    }
   },
   "source": [
    "(a) Create a bar plot for the vote means of the specified candidates and show the CIs using errorbars:\n",
    "    i.  Consider the file 'bush-gore-results-fl.csv'.\n",
    "    ii. Consider the candidates: ['brow', 'harr', 'hage', 'buch', 'mcre', 'phil', 'moor']. \n",
    "    iii.Sample 30 counties and calculate vote means and 95% confidence intervals. \n",
    "    iv. Plot the results as a bar plot with error bars to show the CIs. "
   ]
  },
  {
   "cell_type": "code",
   "execution_count": 60,
   "metadata": {},
   "outputs": [
    {
     "data": {
      "image/png": "[encoded data removed]",
      "text/plain": [
       "<Figure size 432x288 with 1 Axes>"
      ]
     },
     "metadata": {},
     "output_type": "display_data"
    }
   ],
   "source": [
    "filename = 'bush-gore-results-fl.csv'\n",
    "candidates = ['brow', 'harr', 'hage', 'buch', 'mcre', 'phil', 'moor']\n",
    "sampleSize = 30\n",
    "ciPercent = 0.95\n",
    "randomState = 10\n",
    "###\n",
    "### YOUR CODE HERE\n",
    "###\n",
    "stdEr=[]\n",
    "for i in candidates:\n",
    "    stdEr.append(((pd.read_csv(filename).loc[:,i]).sem()))\n",
    "max=[x[1] for x in (getCIs(filename, candidates, sampleSize, ciPercent))]\n",
    "min=[x[0] for x in (getCIs(filename, candidates, sampleSize, ciPercent))]\n",
    "x=(np.array(max)-np.array(min))/2\n",
    "\n",
    "x=pd.DataFrame(x)\n",
    "x.plot.bar(yerr=stdEr)\n",
    "plt.show()"
   ]
  },
  {
   "cell_type": "markdown",
   "metadata": {
    "deletable": false,
    "editable": false,
    "nbgrader": {
     "grade": false,
     "locked": true,
     "solution": false
    }
   },
   "source": [
    "(b) Repeat Q8a for the following candidates: ['bush', 'gore', 'nade']"
   ]
  },
  {
   "cell_type": "code",
   "execution_count": 61,
   "metadata": {},
   "outputs": [
    {
     "data": {
      "image/png": "[encoded data removed]",
      "text/plain": [
       "<Figure size 432x288 with 1 Axes>"
      ]
     },
     "metadata": {},
     "output_type": "display_data"
    }
   ],
   "source": [
    "candidates = ['bush', 'gore', 'nade']\n",
    "\n",
    "filename = 'bush-gore-results-fl.csv'\n",
    "sampleSize = 30\n",
    "ciPercent = 0.95\n",
    "randomState = 10\n",
    "###\n",
    "### YOUR CODE HERE\n",
    "###\n",
    "stdEr=[]\n",
    "for i in candidates:\n",
    "    stdEr.append(((pd.read_csv(filename).loc[:,i]).sem()))\n",
    "max=[x[1] for x in (getCIs(filename, candidates, sampleSize, ciPercent))]\n",
    "min=[x[0] for x in (getCIs(filename, candidates, sampleSize, ciPercent))]\n",
    "x=(np.array(max)-np.array(min))/2\n",
    "x=pd.DataFrame(x)\n",
    "x.plot.bar(yerr=stdEr)\n",
    "plt.show()"
   ]
  },
  {
   "cell_type": "code",
   "execution_count": null,
   "metadata": {
    "collapsed": true
   },
   "outputs": [],
   "source": []
  },
  {
   "cell_type": "code",
   "execution_count": null,
   "metadata": {
    "collapsed": true
   },
   "outputs": [],
   "source": []
  }
 ],
 "metadata": {
  "kernelspec": {
   "display_name": "Python 3.5",
   "language": "python",
   "name": "python35"
  },
  "language_info": {
   "codemirror_mode": {
    "name": "ipython",
    "version": 3
   },
   "file_extension": ".py",
   "mimetype": "text/x-python",
   "name": "python",
   "nbconvert_exporter": "python",
   "pygments_lexer": "ipython3",
   "version": "3.5.2"
  }
 },
 "nbformat": 4,
 "nbformat_minor": 2
}
