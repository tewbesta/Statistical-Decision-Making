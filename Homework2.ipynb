{
 "cells": [
  {
   "cell_type": "code",
   "execution_count": 1,
   "metadata": {
    "collapsed": true,
    "deletable": false,
    "editable": false,
    "nbgrader": {
     "grade": false,
     "locked": true,
     "solution": false
    }
   },
   "outputs": [],
   "source": [
    "# Run this cell so that the necessary packages are imported. \n",
    "\n",
    "from scipy import stats\n",
    "import pandas as pd\n",
    "import numpy as np\n",
    "import matplotlib.pyplot as plt\n",
    "import scipy.stats as st \n",
    "np.random.seed(0) # fix the seed of the random number generator to simplify testing."
   ]
  },
  {
   "cell_type": "markdown",
   "metadata": {
    "deletable": false,
    "editable": false,
    "nbgrader": {
     "grade": false,
     "locked": true,
     "solution": false
    }
   },
   "source": [
    "For the questions in which you are asked to state the hypothesis or provide some description, please use the space provided in those cells to write your answers as comments, that is, by starting each line with a '#'. "
   ]
  },
  {
   "cell_type": "markdown",
   "metadata": {
    "deletable": false,
    "editable": false,
    "nbgrader": {
     "grade": false,
     "locked": true,
     "solution": false
    }
   },
   "source": [
    "# Hypothesis Testing\n",
    "\n",
    "For this homework, use the stats module in the python scipy library."
   ]
  },
  {
   "cell_type": "markdown",
   "metadata": {
    "deletable": false,
    "editable": false,
    "nbgrader": {
     "grade": false,
     "locked": true,
     "solution": false
    }
   },
   "source": [
    "## Q1: One sample two-sided t-test"
   ]
  },
  {
   "cell_type": "markdown",
   "metadata": {
    "deletable": false,
    "editable": false,
    "nbgrader": {
     "grade": false,
     "locked": true,
     "solution": false
    }
   },
   "source": [
    "Read in data from the file \"brain_size_features_demo.csv\". The file contains a header row.\n",
    "\n",
    "Consider the following hypothesis about the attribute \"VIQ\":\n",
    "H0: mean(VIQ)  = 107\n",
    "H1: mean(VIQ) != 107\n",
    "\n",
    "Write a method that performs a TWO-sided t-test to test the above hypothesis, using the specified alpha as the significance threshold. Return the p-value and the resulting decision (i.e., accept/reject)."
   ]
  },
  {
   "cell_type": "code",
   "execution_count": 2,
   "metadata": {
    "nbgrader": {
     "grade": false,
     "grade_id": "Q1",
     "locked": false,
     "points": "",
     "solution": false
    }
   },
   "outputs": [
    {
     "data": {
      "text/plain": [
       "(0.1761817022684744, 'accept')"
      ]
     },
     "execution_count": 2,
     "metadata": {},
     "output_type": "execute_result"
    }
   ],
   "source": [
    "# one_sample_two_sided_t_test(filename) takes as input a csv file to read the data from, \n",
    "# and returns a tuple with:\n",
    "# (1) the first element as the p value returned from the t-test, and \n",
    "# (2) the second element as a string which returns one of two values: \"accept\" or \"reject\", \n",
    "# indicating whether the hypothesis, using the specified alpha, is accepted or rejected.\n",
    "\n",
    "attributeName = 'VIQ'\n",
    "\n",
    "def one_sample_two_sided_t_test(filename, alpha):\n",
    "    \n",
    "    ###\n",
    "    ### YOUR CODE HERE\n",
    "    ###\n",
    "    \n",
    "    data = pd.read_csv(filename)\n",
    "    x= st.ttest_1samp(data.VIQ, 107, nan_policy='omit')[1]\n",
    "    if (x>alpha):\n",
    "        a='accept'\n",
    "    else:\n",
    "        a='reject'\n",
    "    return x,a\n",
    "        \n",
    "# For example,\n",
    "one_sample_two_sided_t_test('brain_size_features_demo.csv', 0.10) # -> (0.1761817022684744, 'accept')\n"
   ]
  },
  {
   "cell_type": "code",
   "execution_count": 3,
   "metadata": {
    "collapsed": true,
    "deletable": false,
    "editable": false,
    "nbgrader": {
     "grade": true,
     "grade_id": "Q1:test1",
     "locked": true,
     "points": "1",
     "solution": false
    }
   },
   "outputs": [],
   "source": [
    "###\n",
    "### AUTOGRADER TEST - DO NOT REMOVE\n",
    "###\n"
   ]
  },
  {
   "cell_type": "code",
   "execution_count": 4,
   "metadata": {
    "collapsed": true,
    "deletable": false,
    "editable": false,
    "nbgrader": {
     "grade": true,
     "grade_id": "Q1:test2",
     "locked": true,
     "points": "1",
     "solution": false
    }
   },
   "outputs": [],
   "source": [
    "###\n",
    "### AUTOGRADER TEST - DO NOT REMOVE\n",
    "###\n"
   ]
  },
  {
   "cell_type": "markdown",
   "metadata": {
    "deletable": false,
    "editable": false,
    "nbgrader": {
     "grade": false,
     "locked": true,
     "solution": false
    }
   },
   "source": [
    "## Q2: One sample one-sided t-test"
   ]
  },
  {
   "cell_type": "markdown",
   "metadata": {
    "deletable": false,
    "editable": false,
    "nbgrader": {
     "grade": false,
     "locked": true,
     "solution": false
    }
   },
   "source": [
    "Read in data from the file \"brain_size_features_demo.csv\". The file contains a header row.\n",
    "\n",
    "Consider the following hypothesis about the attribute \"VIQ\":\n",
    "H0: mean(VIQ) <= 107\n",
    "H1: mean(VIQ) > 107\n",
    "\n",
    "Write a method that performs a ONE-sided t-test to test the above hypothesis, using the specified alpha as the significance threshold. Return the p-value and the resulting decision (i.e., accept/reject)."
   ]
  },
  {
   "cell_type": "code",
   "execution_count": 5,
   "metadata": {},
   "outputs": [
    {
     "data": {
      "text/plain": [
       "(0.0880908511342372, 'reject')"
      ]
     },
     "execution_count": 5,
     "metadata": {},
     "output_type": "execute_result"
    }
   ],
   "source": [
    "# one_sample_one_sided_t_test(filename) takes as input a csv file to read the data from, \n",
    "# and returns a tuple with:\n",
    "# (1) the first element as the p value returned from the t-test, and \n",
    "# (2) the second element as a string which returns one of two values: \"accept\" or \"reject\", \n",
    "# indicating whether the hypothesis, using the specified alpha, is accepted or rejected.\n",
    "\n",
    "\n",
    "attributeName = 'VIQ'\n",
    "\n",
    "def one_sample_one_sided_t_test(filename, alpha):\n",
    "\n",
    "    ###\n",
    "    ### YOUR CODE HERE\n",
    "    ###\n",
    "    data = pd.read_csv(filename)\n",
    "    x= (st.ttest_1samp(data.VIQ, 107, nan_policy='omit')[1])/2\n",
    "    if (x>alpha):\n",
    "        a='accept'\n",
    "    else:\n",
    "        a='reject'\n",
    "    return x,a\n",
    "# For example,\n",
    "one_sample_one_sided_t_test('brain_size_features_demo.csv', 0.10) # -> (0.0880908511342372, 'reject')\n"
   ]
  },
  {
   "cell_type": "code",
   "execution_count": 6,
   "metadata": {
    "collapsed": true,
    "deletable": false,
    "editable": false,
    "nbgrader": {
     "grade": true,
     "grade_id": "Q2:test1",
     "locked": true,
     "points": "1",
     "solution": false
    }
   },
   "outputs": [],
   "source": [
    "###\n",
    "### AUTOGRADER TEST - DO NOT REMOVE\n",
    "###\n"
   ]
  },
  {
   "cell_type": "code",
   "execution_count": 7,
   "metadata": {
    "collapsed": true,
    "deletable": false,
    "editable": false,
    "nbgrader": {
     "grade": true,
     "grade_id": "Q2:test2",
     "locked": true,
     "points": "1",
     "solution": false
    }
   },
   "outputs": [],
   "source": [
    "###\n",
    "### AUTOGRADER TEST - DO NOT REMOVE\n",
    "###\n"
   ]
  },
  {
   "cell_type": "markdown",
   "metadata": {
    "deletable": false,
    "editable": false,
    "nbgrader": {
     "grade": false,
     "locked": true,
     "solution": false
    }
   },
   "source": [
    "## Q3: Two sample unpaired t-test"
   ]
  },
  {
   "cell_type": "markdown",
   "metadata": {
    "deletable": false,
    "editable": false,
    "nbgrader": {
     "grade": false,
     "locked": true,
     "solution": false
    }
   },
   "source": [
    "Read in data from the file \"brain_size_features_demo.csv\". The file contains a header row.\n",
    "\n",
    "Consider the following hypothesis about the attribute \"VIQ\":\n",
    "H0: mean(Female.VIQ)  = mean(Male.VIQ)\n",
    "H1: mean(Female.VIQ) != mean(Male.VIQ)\n",
    "\n",
    "Write a method that performs a TWO-sample UNPAIRED t-test to test the above hypothesis (that VIQ varies with the value of 'Gender'), using the specified alpha as the significance threshold. Return the p-value and the resulting decision (i.e., accept/reject)."
   ]
  },
  {
   "cell_type": "code",
   "execution_count": 8,
   "metadata": {},
   "outputs": [
    {
     "data": {
      "text/plain": [
       "(0.4550660394858371, 'accept')"
      ]
     },
     "execution_count": 8,
     "metadata": {},
     "output_type": "execute_result"
    }
   ],
   "source": [
    "# two_sample_unpaired_t_test(filename) takes as input a csv file to read the data from, \n",
    "# and returns a tuple with:\n",
    "# (1) the first element as the p value returned from the t-test, and \n",
    "# (2) the second element as a string which returns one of two values: \"accept\" or \"reject\", \n",
    "# indicating whether the hypothesis, using the specified alpha, is accepted or rejected.\n",
    "\n",
    "attributeName = 'VIQ'\n",
    "\n",
    "def two_sample_unpaired_t_test(filename, alpha):\n",
    "    ###\n",
    "    ### YOUR CODE HERE\n",
    "    ###\n",
    "    data = pd.read_csv(filename)\n",
    "    d1=data.loc[data['Gender']=='Female',attributeName]\n",
    "    d2=data.loc[data['Gender']=='Male',attributeName]\n",
    "    t,x = st.ttest_ind(d1, d2) \n",
    "    if (x>alpha):\n",
    "        a='accept'\n",
    "    else:\n",
    "        a='reject'\n",
    "    return x,a\n",
    "    return t,p\n",
    "    \n",
    "# For example,\n",
    "two_sample_unpaired_t_test('brain_size_features_demo.csv', 0.10) # -> (0.4550660394858371, 'accept')\n"
   ]
  },
  {
   "cell_type": "code",
   "execution_count": 9,
   "metadata": {
    "collapsed": true,
    "deletable": false,
    "editable": false,
    "nbgrader": {
     "grade": true,
     "grade_id": "Q3:test1",
     "locked": true,
     "points": "1",
     "solution": false
    }
   },
   "outputs": [],
   "source": [
    "###\n",
    "### AUTOGRADER TEST - DO NOT REMOVE\n",
    "###\n"
   ]
  },
  {
   "cell_type": "code",
   "execution_count": 10,
   "metadata": {
    "collapsed": true,
    "deletable": false,
    "editable": false,
    "nbgrader": {
     "grade": true,
     "grade_id": "Q3:test2",
     "locked": true,
     "points": "1",
     "solution": false
    }
   },
   "outputs": [],
   "source": [
    "###\n",
    "### AUTOGRADER TEST - DO NOT REMOVE\n",
    "###\n"
   ]
  },
  {
   "cell_type": "markdown",
   "metadata": {
    "deletable": false,
    "editable": false,
    "nbgrader": {
     "grade": false,
     "locked": true,
     "solution": false
    }
   },
   "source": [
    "## Q4: Two sample paired t-test"
   ]
  },
  {
   "cell_type": "markdown",
   "metadata": {
    "deletable": false,
    "editable": false,
    "nbgrader": {
     "grade": false,
     "locked": true,
     "solution": false
    }
   },
   "source": [
    "Read in data from the file \"brain_size_features_demo.csv\". The file contains a header row.\n",
    "\n",
    "Consider the following hypothesis about the attributes \"FSIQ\" and \"PIQ\":\n",
    "H0: mean(FSIQ)  = mean(PIQ)\n",
    "H1: mean(FSIQ) != mean(PIQ)\n",
    "\n",
    "Write a method that performs a TWO-sample PAIRED t-test to test the above hypothesis, using the specified alpha as the significance threshold. The method should also calculate the results of an UNPAIRED t-test for comparison. Return the p-value and the resulting decision (i.e., accept/reject) of both tests."
   ]
  },
  {
   "cell_type": "code",
   "execution_count": 11,
   "metadata": {},
   "outputs": [
    {
     "data": {
      "text/plain": [
       "(0.11694971066066272, 'accept', 0.6792987985615055, 'accept')"
      ]
     },
     "execution_count": 11,
     "metadata": {},
     "output_type": "execute_result"
    }
   ],
   "source": [
    "# two_sample_paired_t_test(filename) takes as input a csv file to read the data from, \n",
    "# and returns a tuple with:\n",
    "# (1) the first element as the p value returned from the PAIRED t-test, and \n",
    "# (2) the second element as a string which returns one of two values: \"accept\" or \"reject\", \n",
    "# indicating whether the hypothesis, using the specified alpha, is accepted or rejected.\n",
    "# (3) the third element as the p value returned from the UNPAIRED t-test, and \n",
    "# (4) the fourth element as a string which returns one of two values: \"accept\" or \"reject\", \n",
    "# indicating whether the hypothesis, using the specified alpha, is accepted or rejected.\n",
    "attribute1 = 'FSIQ'\n",
    "attribute2 = 'PIQ'\n",
    "def two_sample_paired_t_test(filename, alpha):\n",
    "    ###\n",
    "    ### YOUR CODE HERE\n",
    "    ###\n",
    "    data = pd.read_csv(filename)\n",
    "    d1=data[attribute1]\n",
    "    d2=data[attribute2]\n",
    "    t,x = st.ttest_ind(d1, d2) \n",
    "    t,p = st.ttest_rel(d1, d2) \n",
    "    if (x>=alpha):\n",
    "        a='accept'\n",
    "    else:\n",
    "        a='reject'\n",
    "    if (p>=alpha):\n",
    "        r='accept'\n",
    "    else:\n",
    "        r='reject'\n",
    "    return p,r,x,a\n",
    "    \n",
    "# For example,\n",
    "two_sample_paired_t_test('brain_size_features_demo.csv', 0.10)\n",
    "# -> (0.11694971066066272, 'accept', 0.6792987985615055, 'accept')"
   ]
  },
  {
   "cell_type": "code",
   "execution_count": 12,
   "metadata": {
    "collapsed": true,
    "deletable": false,
    "editable": false,
    "nbgrader": {
     "grade": true,
     "grade_id": "Q4:test1",
     "locked": true,
     "points": "1",
     "solution": false
    }
   },
   "outputs": [],
   "source": [
    "###\n",
    "### AUTOGRADER TEST - DO NOT REMOVE\n",
    "###\n"
   ]
  },
  {
   "cell_type": "code",
   "execution_count": 13,
   "metadata": {
    "collapsed": true,
    "deletable": false,
    "editable": false,
    "nbgrader": {
     "grade": true,
     "grade_id": "Q4:test2",
     "locked": true,
     "points": "1",
     "solution": false
    }
   },
   "outputs": [],
   "source": [
    "###\n",
    "### AUTOGRADER TEST - DO NOT REMOVE\n",
    "###\n"
   ]
  },
  {
   "cell_type": "markdown",
   "metadata": {
    "deletable": false,
    "editable": false,
    "nbgrader": {
     "grade": false,
     "locked": true,
     "solution": false
    }
   },
   "source": [
    "## Q5: Data visualization (1pt)"
   ]
  },
  {
   "cell_type": "markdown",
   "metadata": {
    "deletable": false,
    "editable": false,
    "nbgrader": {
     "grade": false,
     "locked": true,
     "solution": false
    }
   },
   "source": [
    "Read data in from the file \"iris.csv\". The file has a header row. The first four columns are continous features for sepal/petal length/width. The fifth column is the class label indicating the type of iris.\n",
    "\n",
    "Plot a boxplot to show the distribution of the second variable (sepal width) for each value of the fifth variable (class). "
   ]
  },
  {
   "cell_type": "code",
   "execution_count": 14,
   "metadata": {},
   "outputs": [
    {
     "data": {
      "image/png": "[encoded data removed]",
      "text/plain": [
       "<Figure size 432x288 with 1 Axes>"
      ]
     },
     "metadata": {},
     "output_type": "display_data"
    }
   ],
   "source": [
    "###\n",
    "### YOUR CODE HERE\n",
    "###\n",
    "data = pd.read_csv( \"iris.csv\")\n",
    "boxplot =data.boxplot(column='Sepal Width',by='Class')\n",
    "b=boxplot.get_figure()\n",
    "b.suptitle('Boxplot grouped by class', fontsize=9)\n",
    "plt.show(boxplot)"
   ]
  },
  {
   "cell_type": "markdown",
   "metadata": {
    "deletable": false,
    "editable": false,
    "nbgrader": {
     "grade": false,
     "locked": true,
     "solution": false
    }
   },
   "source": [
    "## Q6: Formulate hypotheses (1pt)"
   ]
  },
  {
   "cell_type": "markdown",
   "metadata": {
    "deletable": false,
    "editable": false,
    "nbgrader": {
     "grade": false,
     "locked": true,
     "solution": false
    }
   },
   "source": [
    "Based on inspecting the box plot visually, formulate two hypotheses about how sepal width differs across the class values. State one hypothesis for class 1 vs 3 (Iris-setsosa vs. Iris-virginica) and one hypothesis for class 2 vs 3 (Iris-versicolor vs. Iris-virginica)."
   ]
  },
  {
   "cell_type": "code",
   "execution_count": 15,
   "metadata": {},
   "outputs": [
    {
     "ename": "SyntaxError",
     "evalue": "invalid syntax (<ipython-input-15-afec50a9b664>, line 6)",
     "output_type": "error",
     "traceback": [
      "\u001b[0;36m  File \u001b[0;32m\"<ipython-input-15-afec50a9b664>\"\u001b[0;36m, line \u001b[0;32m6\u001b[0m\n\u001b[0;31m    The min and max for class 3, Iris-setosa is around 2.0 and 3.4 and roughly 2.7.\u001b[0m\n\u001b[0m          ^\u001b[0m\n\u001b[0;31mSyntaxError\u001b[0m\u001b[0;31m:\u001b[0m invalid syntax\n"
     ]
    }
   ],
   "source": [
    "# State H0 and H1 for mean(Iris-setosa) vs. mean (Iris-virginica)\n",
    "\n",
    "###\n",
    "### YOUR CODE HERE\n",
    "###\n",
    "The min and max for class 3, Iris-setosa is around 2.0 and 3.4 and roughly 2.7. \n",
    "For class 3, Iris-virginica, the min and max is 2.5 and 3.6 with outlier of 2.2 an 3.7. \n",
    "It's mean is roughly 3.\n",
    "\n",
    "We can say that if the sepal width is below 2.5, it is Iris-versicolor or class 3 if \n",
    "it is above 3.4 to 3.8.\n",
    "Other than that,the best option is to decide based on the interquartile range as class 2 overlaps most of the region \n",
    "of class 3 if we consider min and max. Taking the IQR of class 2 from 2.5-3.0, if the sepal width falls\n",
    "within this range, it is class3 and if it is between 2.8-3.2, from class 3 IQR, it is class 3.\n",
    "\n",
    "Hence the hypotheis would be that there is a relationship between sepal width and flower type.\n",
    "The null hypothesis would be there is no relationship between the sepal width and \n",
    "flower type.\n"
   ]
  },
  {
   "cell_type": "code",
   "execution_count": 16,
   "metadata": {},
   "outputs": [
    {
     "ename": "SyntaxError",
     "evalue": "invalid syntax (<ipython-input-16-f3856d475de4>, line 6)",
     "output_type": "error",
     "traceback": [
      "\u001b[0;36m  File \u001b[0;32m\"<ipython-input-16-f3856d475de4>\"\u001b[0;36m, line \u001b[0;32m6\u001b[0m\n\u001b[0;31m    The min and max for class 2, Iris-versicolor is around 2.3 and 4.4 and roughly 3.35.\u001b[0m\n\u001b[0m          ^\u001b[0m\n\u001b[0;31mSyntaxError\u001b[0m\u001b[0;31m:\u001b[0m invalid syntax\n"
     ]
    }
   ],
   "source": [
    "# State H0 and H1 for mean(Iris-versicolor) vs. mean (Iris-virginica)\n",
    "\n",
    "###\n",
    "### YOUR CODE HERE\n",
    "###\n",
    "The min and max for class 2, Iris-versicolor is around 2.3 and 4.4 and roughly 3.35. \n",
    "For class 3, Iris-virginica, the min and max is 2.5 and 3.6 with outlier of 2.2 an 3.7. \n",
    "It's mean is roughly 3.\n",
    "We can say that if the sepal width is above 3.6, it is Iris-setosa. Other than that, \n",
    "the best option is to decide based on the interquartile range as class 1 overlaps most of the region \n",
    "of class 3 if we consider min and max. Taking the IQR of class 1 from 3.1-3.7, if the sepal width falls\n",
    "within this range, it is class1 and if it is between 2.8-3.2, from class 3 IQR, it is class 3.\n",
    "\n",
    "Hence the hypotheis would be that there is a relationship between sepal width and flowe type.\n",
    "The null hypothesis would be there is no relationship between the sepal width and \n",
    "flower type."
   ]
  },
  {
   "cell_type": "markdown",
   "metadata": {
    "deletable": false,
    "editable": false,
    "nbgrader": {
     "grade": false,
     "locked": true,
     "solution": false
    }
   },
   "source": [
    "## Q7: Test hypotheses (2pts)"
   ]
  },
  {
   "cell_type": "markdown",
   "metadata": {
    "deletable": false,
    "editable": false,
    "nbgrader": {
     "grade": false,
     "locked": true,
     "solution": false
    }
   },
   "source": [
    "(a) Perform a t-test to test your hypothesis above for class 1 vs 3 (Iris-setsosa vs. Iris-virginica) with alpha=0.05. Output (Print) the p-value and the resulting decision (i.e., accept/reject) of the test as a tuple, similar to the questions earlier."
   ]
  },
  {
   "cell_type": "code",
   "execution_count": 17,
   "metadata": {},
   "outputs": [
    {
     "name": "stdout",
     "output_type": "stream",
     "text": [
      "8.916634067006443e-09 reject\n"
     ]
    }
   ],
   "source": [
    "###\n",
    "### YOUR CODE HERE\n",
    "###\n",
    "alpha=0.05\n",
    "data = pd.read_csv( \"iris.csv\")\n",
    "d1=data.loc[data['Class']=='Iris-setosa','Sepal Width']\n",
    "d2=data.loc[data['Class']=='Iris-virginica', 'Sepal Width']\n",
    "t,x = st.ttest_ind(d1,d2) \n",
    "if (x>alpha):\n",
    "        a='accept'\n",
    "else:\n",
    "        a='reject'\n",
    "print(x,a)"
   ]
  },
  {
   "cell_type": "markdown",
   "metadata": {},
   "source": [
    "(b) Perform a t-test to test your hypothesis above for class 2 vs 3 (Iris-versicolor vs. Iris-virginica) with alpha=0.05. Output (Print) the p-value and the resulting decision (i.e., accept/reject) of the test as a tuple, similar to the questions earlier."
   ]
  },
  {
   "cell_type": "code",
   "execution_count": 18,
   "metadata": {},
   "outputs": [
    {
     "name": "stdout",
     "output_type": "stream",
     "text": [
      "0.0018191004238894803 reject\n"
     ]
    }
   ],
   "source": [
    "###\n",
    "### YOUR CODE HERE\n",
    "###\n",
    "alpha=0.05\n",
    "data = pd.read_csv( \"iris.csv\")\n",
    "d1=data.loc[data['Class']=='Iris-versicolor','Sepal Width']\n",
    "d2=data.loc[data['Class']=='Iris-virginica', 'Sepal Width']\n",
    "t,x = st.ttest_ind(d1,d2) \n",
    "if (x>=alpha):\n",
    "        a='accept'\n",
    "else:\n",
    "        a='reject'\n",
    "print(x,a)"
   ]
  },
  {
   "cell_type": "markdown",
   "metadata": {
    "deletable": false,
    "editable": false,
    "nbgrader": {
     "grade": false,
     "locked": true,
     "solution": false
    }
   },
   "source": [
    "## Q8: Impact of sample size (2pts)"
   ]
  },
  {
   "cell_type": "markdown",
   "metadata": {
    "deletable": false,
    "editable": false,
    "nbgrader": {
     "grade": false,
     "locked": true,
     "solution": false
    }
   },
   "source": [
    "(a) Construct a stratified sample of the iris data, where you randomly sample 10 examples from each class (30 examples total). Repeat Q5 (box plot)."
   ]
  },
  {
   "cell_type": "code",
   "execution_count": 19,
   "metadata": {},
   "outputs": [
    {
     "name": "stdout",
     "output_type": "stream",
     "text": [
      "30\n"
     ]
    },
    {
     "data": {
      "image/png": "[encoded data removed]",
      "text/plain": [
       "<Figure size 432x288 with 1 Axes>"
      ]
     },
     "metadata": {},
     "output_type": "display_data"
    }
   ],
   "source": [
    "###\n",
    "### YOUR CODE HERE\n",
    "###\n",
    "data = pd.read_csv( \"iris.csv\")\n",
    "d1=data.loc[data['Class']=='Iris-versicolor']\n",
    "d2=data.loc[data['Class']=='Iris-virginica']\n",
    "d3=data.loc[data['Class']=='Iris-setosa']\n",
    "d1=d1.sample(random_state=np.random.seed(0),n=10) \n",
    "d2=d2.sample(random_state=np.random.seed(0),n=10) \n",
    "d3=d3.sample(random_state=np.random.seed(0),n=10) \n",
    "df=pd.DataFrame(data=pd.concat([d1,d2,d3]),columns=data.columns)\n",
    "print(len(df))\n",
    "boxplot1 =df.boxplot(column='Sepal Width',by='Class')\n",
    "plt.show(boxplot1)\n"
   ]
  },
  {
   "cell_type": "markdown",
   "metadata": {
    "deletable": false,
    "editable": false,
    "nbgrader": {
     "grade": false,
     "locked": true,
     "solution": false
    }
   },
   "source": [
    "(b) Repeat Q7a on the sampled data.   "
   ]
  },
  {
   "cell_type": "code",
   "execution_count": 20,
   "metadata": {
    "scrolled": true
   },
   "outputs": [
    {
     "name": "stdout",
     "output_type": "stream",
     "text": [
      "0.11224954713068405 accept\n"
     ]
    }
   ],
   "source": [
    "###\n",
    "### YOUR CODE HERE\n",
    "###\n",
    "alpha=0.05\n",
    "data = pd.read_csv( \"iris.csv\")\n",
    "d2=data.loc[data['Class']=='Iris-virginica']\n",
    "d3=data.loc[data['Class']=='Iris-setosa']\n",
    "d2=d2.sample(random_state=np.random.seed(0),n=10) \n",
    "d3=d3.sample(random_state=np.random.seed(0),n=10) \n",
    "#print(d3,d2)\n",
    "t,x = st.ttest_ind(d3['Sepal Width'],d2['Sepal Width']) \n",
    "if (x>alpha):\n",
    "        a='accept'\n",
    "else:\n",
    "        a='reject'\n",
    "print(x,a)"
   ]
  },
  {
   "cell_type": "markdown",
   "metadata": {
    "deletable": false,
    "editable": false,
    "nbgrader": {
     "grade": false,
     "locked": true,
     "solution": false
    }
   },
   "source": [
    "(c) Repeat Q7b on the sampled data.   "
   ]
  },
  {
   "cell_type": "code",
   "execution_count": 21,
   "metadata": {},
   "outputs": [
    {
     "name": "stdout",
     "output_type": "stream",
     "text": [
      "0.08573967627500022 accept\n"
     ]
    }
   ],
   "source": [
    "###\n",
    "### YOUR CODE HERE\n",
    "###\n",
    "alpha=0.05\n",
    "data = pd.read_csv( \"iris.csv\")\n",
    "d1=data.loc[data['Class']=='Iris-versicolor']\n",
    "d2=data.loc[data['Class']=='Iris-virginica']\n",
    "d1=d1.sample(random_state=np.random.seed(0),n=10) \n",
    "d2=d2.sample(random_state=np.random.seed(0),n=10) \n",
    "t,x = st.ttest_ind(d1['Sepal Width'],d2['Sepal Width']) \n",
    "if (x>alpha):\n",
    "        a='accept'\n",
    "else:\n",
    "        a='reject'\n",
    "print(x,a)"
   ]
  },
  {
   "cell_type": "markdown",
   "metadata": {
    "deletable": false,
    "editable": false,
    "nbgrader": {
     "grade": false,
     "locked": true,
     "solution": false
    }
   },
   "source": [
    "## Q9: Chi-Square test of independence"
   ]
  },
  {
   "cell_type": "markdown",
   "metadata": {
    "deletable": false,
    "editable": false,
    "nbgrader": {
     "grade": false,
     "locked": true,
     "solution": false
    }
   },
   "source": [
    "Consider the data in the file 'titanic.csv', that contains information about Titanic passengers such as Pclass, Name, Sex, Age, Siblings/Spouses Aboard, Parents/Children Aboard, Fare. There is also an attribute 'Survived' that records whether the person survived or not.\n",
    "\n",
    "Consider the following hypothesis about an arbitrary passenger attribute X:\n",
    "H0: There is NO association between feature X and 'Survived'\n",
    "H1: There is an association between feature X and 'Survived'\n",
    "\n",
    "Write a method that performs a chi-square test to test the above hypothesis, using the specified column as attribute X, and the specified alpha as the significance threshold. Return the p-value and the resulting decision (i.e., accept/reject)."
   ]
  },
  {
   "cell_type": "code",
   "execution_count": 22,
   "metadata": {
    "scrolled": true
   },
   "outputs": [
    {
     "name": "stdout",
     "output_type": "stream",
     "text": [
      "Survived   0   1\n",
      "Age             \n",
      "0.42       0   1\n",
      "0.67       0   1\n",
      "0.75       0   2\n",
      "0.83       0   1\n",
      "0.92       0   1\n",
      "1.00       2   5\n",
      "2.00       4   4\n",
      "3.00       2   4\n",
      "4.00       2   7\n",
      "5.00       2   3\n",
      "6.00       1   2\n",
      "7.00       2   1\n",
      "8.00       3   2\n",
      "9.00       6   2\n",
      "10.00      2   0\n",
      "11.00      2   1\n",
      "12.00      1   1\n",
      "13.00      0   2\n",
      "14.00      3   1\n",
      "15.00      1   3\n",
      "16.00     10   7\n",
      "17.00      9   4\n",
      "18.00     21  11\n",
      "19.00     19  10\n",
      "20.00     14   4\n",
      "20.50      1   0\n",
      "21.00     22   4\n",
      "22.00     20  14\n",
      "23.00     16   4\n",
      "23.50      1   0\n",
      "...       ..  ..\n",
      "44.00      6   3\n",
      "45.00      7   6\n",
      "45.50      2   0\n",
      "46.00      3   1\n",
      "47.00      7   2\n",
      "48.00      3   8\n",
      "49.00      4   3\n",
      "50.00      5   5\n",
      "51.00      5   2\n",
      "52.00      3   3\n",
      "53.00      0   1\n",
      "54.00      5   3\n",
      "55.00      2   0\n",
      "55.50      1   0\n",
      "56.00      2   2\n",
      "57.00      3   0\n",
      "58.00      2   2\n",
      "59.00      1   0\n",
      "60.00      3   2\n",
      "61.00      3   0\n",
      "62.00      3   2\n",
      "63.00      0   2\n",
      "64.00      2   0\n",
      "65.00      2   0\n",
      "66.00      1   0\n",
      "69.00      1   0\n",
      "70.00      2   0\n",
      "71.00      1   0\n",
      "74.00      1   0\n",
      "80.00      0   1\n",
      "\n",
      "[87 rows x 2 columns]\n"
     ]
    },
    {
     "data": {
      "text/plain": [
       "(0.16338612253228635, 'accept')"
      ]
     },
     "execution_count": 22,
     "metadata": {},
     "output_type": "execute_result"
    }
   ],
   "source": [
    "# chi_square_test_ind(filename) takes as input a csv file to read the data from, \n",
    "# and the column X as col_X to test its association with the feature 'Survived', \n",
    "# and returns a tuple with:\n",
    "# (1) the first element as the p value returned from the chi-square, and \n",
    "# (2) the second element as a string which returns one of two values: \"accept\" or \"reject\", \n",
    "# indicating whether the hypothesis, using the specified alpha, is accepted or rejected.\n",
    "def chi_square_test_ind(filename, col_X, alpha):\n",
    "    ###\n",
    "    ### YOUR CODE HERE\n",
    "    ###\n",
    "    df=pd.read_csv(filename)\n",
    "    contTab = pd.crosstab(df[col_X],df.Survived)\n",
    "    print(contTab)\n",
    "    x=st.chi2_contingency(contTab)[1]\n",
    "    if(x>alpha):\n",
    "     a='accept'\n",
    "    else:\n",
    "     a='reject'\n",
    "    return x,a\n",
    "\n",
    "# For example,\n",
    "chi_square_test_ind('titanic_demo.csv', 'Age', 0.05) # -> (0.16338612253228635, 'accept')"
   ]
  },
  {
   "cell_type": "code",
   "execution_count": 23,
   "metadata": {
    "collapsed": true,
    "deletable": false,
    "editable": false,
    "nbgrader": {
     "grade": true,
     "grade_id": "Q9:test_1",
     "locked": true,
     "points": "1",
     "solution": false
    }
   },
   "outputs": [],
   "source": [
    "###\n",
    "### AUTOGRADER TEST - DO NOT REMOVE\n",
    "###\n"
   ]
  },
  {
   "cell_type": "code",
   "execution_count": 24,
   "metadata": {
    "collapsed": true,
    "deletable": false,
    "editable": false,
    "nbgrader": {
     "grade": true,
     "grade_id": "Q9:test_2",
     "locked": true,
     "points": "1",
     "solution": false
    }
   },
   "outputs": [],
   "source": [
    "###\n",
    "### AUTOGRADER TEST - DO NOT REMOVE\n",
    "###\n"
   ]
  },
  {
   "cell_type": "code",
   "execution_count": null,
   "metadata": {
    "collapsed": true
   },
   "outputs": [],
   "source": []
  },
  {
   "cell_type": "code",
   "execution_count": null,
   "metadata": {
    "collapsed": true
   },
   "outputs": [],
   "source": []
  },
  {
   "cell_type": "code",
   "execution_count": null,
   "metadata": {
    "collapsed": true
   },
   "outputs": [],
   "source": []
  }
 ],
 "metadata": {
  "kernelspec": {
   "display_name": "Python 3.5",
   "language": "python",
   "name": "python35"
  },
  "language_info": {
   "codemirror_mode": {
    "name": "ipython",
    "version": 3
   },
   "file_extension": ".py",
   "mimetype": "text/x-python",
   "name": "python",
   "nbconvert_exporter": "python",
   "pygments_lexer": "ipython3",
   "version": "3.5.2"
  }
 },
 "nbformat": 4,
 "nbformat_minor": 2
}
