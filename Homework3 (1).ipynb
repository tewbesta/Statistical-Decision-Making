{
 "cells": [
  {
   "cell_type": "code",
   "execution_count": 82,
   "metadata": {
    "collapsed": true,
    "deletable": false,
    "editable": false,
    "nbgrader": {
     "grade": false,
     "locked": true,
     "solution": false
    }
   },
   "outputs": [],
   "source": [
    "import pandas as pd\n",
    "import scipy.stats as scs\n",
    "import numpy as np\n",
    "from scipy.stats import chi2_contingency"
   ]
  },
  {
   "cell_type": "markdown",
   "metadata": {
    "deletable": false,
    "editable": false,
    "nbgrader": {
     "grade": false,
     "locked": true,
     "solution": false
    }
   },
   "source": [
    "## Q1: Probability of error"
   ]
  },
  {
   "cell_type": "markdown",
   "metadata": {},
   "source": [
    "Write a method to calculate the probability that you make at least one error in a set of m hypothesis tests, given the specified alpha threshold, ie. the probability of at least one false positive."
   ]
  },
  {
   "cell_type": "code",
   "execution_count": 83,
   "metadata": {},
   "outputs": [
    {
     "data": {
      "text/plain": [
       "0.2709999999999999"
      ]
     },
     "execution_count": 83,
     "metadata": {},
     "output_type": "execute_result"
    }
   ],
   "source": [
    "\n",
    "# ## Q1: Probability of error\n",
    "\n",
    "# Write a method to calculate the probability that you make at least one error in a set of m hypothesis tests, given the specified alpha threshold, ie. the probability of at least one false positive.\n",
    "\n",
    "# In[4]:\n",
    "\n",
    "\n",
    "# atleastone_error_rate(m,alpha) takes as input m (the number of independent hypothesis \n",
    "# tests conducted), and alpha, the significance threshold and returns the probablilty \n",
    "# of making at least one error in the m tests\n",
    "\n",
    "\n",
    "def atleastone_error_rate(m,alpha):\n",
    "    ###\n",
    "    ### YOUR CODE HERE\n",
    "    ###\n",
    "    e=(1-alpha)**m\n",
    "    return 1-e\n",
    "\n",
    "# For example,\n",
    "atleastone_error_rate(3,0.10) # -> 0.2709999999999999\n"
   ]
  },
  {
   "cell_type": "code",
   "execution_count": 84,
   "metadata": {
    "collapsed": true,
    "deletable": false,
    "editable": false,
    "nbgrader": {
     "grade": true,
     "grade_id": "Q1:test1",
     "locked": true,
     "points": "0.33",
     "solution": false
    }
   },
   "outputs": [],
   "source": [
    "###\n",
    "### AUTOGRADER TEST - DO NOT REMOVE\n",
    "###\n"
   ]
  },
  {
   "cell_type": "code",
   "execution_count": 85,
   "metadata": {
    "collapsed": true,
    "deletable": false,
    "editable": false,
    "nbgrader": {
     "grade": true,
     "grade_id": "Q1:test2",
     "locked": true,
     "points": "0.33",
     "solution": false
    }
   },
   "outputs": [],
   "source": [
    "###\n",
    "### AUTOGRADER TEST - DO NOT REMOVE\n",
    "###\n"
   ]
  },
  {
   "cell_type": "code",
   "execution_count": 86,
   "metadata": {
    "collapsed": true,
    "deletable": false,
    "editable": false,
    "nbgrader": {
     "grade": true,
     "grade_id": "Q1:test3",
     "locked": true,
     "points": "0.34",
     "solution": false
    }
   },
   "outputs": [],
   "source": [
    "###\n",
    "### AUTOGRADER TEST - DO NOT REMOVE\n",
    "###\n"
   ]
  },
  {
   "cell_type": "markdown",
   "metadata": {
    "deletable": false,
    "editable": false,
    "nbgrader": {
     "grade": false,
     "locked": true,
     "solution": false
    }
   },
   "source": [
    "## Q2: A/B Testing"
   ]
  },
  {
   "cell_type": "markdown",
   "metadata": {
    "deletable": false,
    "editable": false,
    "nbgrader": {
     "grade": false,
     "locked": true,
     "solution": false
    }
   },
   "source": [
    "Consider the AB test results in the csv file 'ab_data_demo.csv'. The data consists of 2000 users. The column 'group' indicates whether the user is assigned to the control group (A) or the treatment group (B). The column 'premium_signed_up' indicates whether the user signed up for the premium service or not with a 1 or 0, respectively. \n",
    "\n",
    "We want to test whether changes made to the signup process (treatment B) for a premium account significantly increased the sign up rate. "
   ]
  },
  {
   "cell_type": "markdown",
   "metadata": {
    "deletable": false,
    "editable": false,
    "nbgrader": {
     "grade": false,
     "locked": true,
     "solution": false
    }
   },
   "source": [
    "(a) Write a method to calculate the signup rate for both the control (A) and treatment (B) groups and return as a tuple.  "
   ]
  },
  {
   "cell_type": "code",
   "execution_count": 87,
   "metadata": {},
   "outputs": [
    {
     "data": {
      "text/plain": [
       "(0.08891108891108891, 0.021021021021021023)"
      ]
     },
     "execution_count": 87,
     "metadata": {},
     "output_type": "execute_result"
    }
   ],
   "source": [
    "# get_signup_rate(filename) takes as input a csv file to read the data from, \n",
    "# and returns a tuple with:\n",
    "# the calculated signup rate (1=sign up) for each of the two groups A and B.\n",
    "\n",
    "def get_signup_rate(filename):\n",
    "    \n",
    "    ###\n",
    "    ### YOUR CODE HERE\n",
    "    ###\n",
    "    df=pd.read_csv(filename)\n",
    "    \n",
    "    return (sum((df[df.group==\"A\"])['premium_signed_up'])/len((df[df.group==\"A\"]))),(sum((df[df.group==\"B\"])['premium_signed_up'])/len((df[df.group==\"B\"])))\n",
    "# For example,\n",
    "get_signup_rate('ab_data_demo.csv') # -> (0.08891108891108891, 0.021021021021021023)\n"
   ]
  },
  {
   "cell_type": "code",
   "execution_count": 88,
   "metadata": {
    "collapsed": true,
    "deletable": false,
    "editable": false,
    "nbgrader": {
     "grade": true,
     "grade_id": "Q2a",
     "locked": true,
     "points": "1",
     "solution": false
    }
   },
   "outputs": [],
   "source": [
    "###\n",
    "### AUTOGRADER TEST - DO NOT REMOVE\n",
    "###\n"
   ]
  },
  {
   "cell_type": "markdown",
   "metadata": {
    "deletable": false,
    "editable": false,
    "nbgrader": {
     "grade": false,
     "locked": true,
     "solution": false
    }
   },
   "source": [
    "(b) Write a method to test the hypothesis that the treatment (B) significantly increased the signup rate compared to the control (A). First, compute the contigency table with rows corresponding to groups A and B, and columns indicating sign-up (1) or not (0). Then, use a chi-square test with the specified alpha, and return the pvalue and associated decision (accept/reject).  "
   ]
  },
  {
   "cell_type": "code",
   "execution_count": 89,
   "metadata": {},
   "outputs": [
    {
     "name": "stdout",
     "output_type": "stream",
     "text": [
      "premium_signed_up    0   1\n",
      "group                     \n",
      "A                  912  89\n",
      "B                  978  21\n"
     ]
    },
    {
     "data": {
      "text/plain": [
       "(5.356126765709662e-11, 'reject')"
      ]
     },
     "execution_count": 89,
     "metadata": {},
     "output_type": "execute_result"
    }
   ],
   "source": [
    "# test_hypothesis(filename, alpha) takes as input a csv file to read the data from, \n",
    "# and returns a tuple with:\n",
    "# (1) the first element as the p value returned from the chi-square test, and \n",
    "# (2) the second element as a string which returns one of two values: \"accept\" or \"reject\", \n",
    "# indicating whether the hypothesis, using the specified alpha, is accepted or rejected.\n",
    "\n",
    "# For example,\n",
    "# test_hypothesis('ab_data_demo.csv', 0.05) -> (5.356126765709662e-11, 'reject')\n",
    "def test_hypothesis(filename, alpha):\n",
    "    \n",
    "    ###\n",
    "    ### YOUR CODE HERE\n",
    "    ###\n",
    "    df=pd.read_csv(filename)\n",
    "    \n",
    "    df=pd.crosstab(df.group,df.premium_signed_up)\n",
    "    print(df)\n",
    "    p=scs.chi2_contingency(df)[1]\n",
    "    if(p<=alpha):\n",
    "      a=\"reject\"\n",
    "    else:\n",
    "       a=\"accept\"\n",
    "    return p,a\n",
    "test_hypothesis('ab_data_demo.csv', 0.05)\n"
   ]
  },
  {
   "cell_type": "code",
   "execution_count": 90,
   "metadata": {
    "collapsed": true,
    "deletable": false,
    "editable": false,
    "nbgrader": {
     "grade": true,
     "grade_id": "Q2b",
     "locked": true,
     "points": "1",
     "solution": false
    }
   },
   "outputs": [],
   "source": [
    "###\n",
    "### AUTOGRADER TEST - DO NOT REMOVE\n",
    "###\n"
   ]
  },
  {
   "cell_type": "markdown",
   "metadata": {
    "deletable": false,
    "editable": false,
    "nbgrader": {
     "grade": false,
     "locked": true,
     "solution": false
    }
   },
   "source": [
    "## Q3: Bonferroni correction"
   ]
  },
  {
   "cell_type": "markdown",
   "metadata": {
    "deletable": false,
    "editable": false,
    "nbgrader": {
     "grade": false,
     "locked": true,
     "solution": false
    }
   },
   "source": [
    "Write a method to calculate the adjusted alpha threshold to use when applying a Bonferroni correction to a set of m hypothesis tests, given the specified alpha threshold."
   ]
  },
  {
   "cell_type": "code",
   "execution_count": 91,
   "metadata": {},
   "outputs": [
    {
     "data": {
      "text/plain": [
       "0.03333333333333333"
      ]
     },
     "execution_count": 91,
     "metadata": {},
     "output_type": "execute_result"
    }
   ],
   "source": [
    "# bonferroni_alpha(m,alpha) takes as input m (the number of independent hypothesis \n",
    "# tests conducted), and alpha, the significance threshold and returns the adjusted \n",
    "# alpha threshold to use when applying a Bonferroni correction\n",
    "def bonferroni_alpha(m,alpha):\n",
    "    \n",
    "    ###\n",
    "    ### YOUR CODE HERE\n",
    "    ###\n",
    "    alpha=alpha/m\n",
    "    return alpha\n",
    "\n",
    "# For example,\n",
    "bonferroni_alpha(3,0.10) # -> 0.03333333333333333\n"
   ]
  },
  {
   "cell_type": "code",
   "execution_count": 92,
   "metadata": {
    "collapsed": true,
    "deletable": false,
    "editable": false,
    "nbgrader": {
     "grade": true,
     "grade_id": "Q3:test1",
     "locked": true,
     "points": "0.5",
     "solution": false
    }
   },
   "outputs": [],
   "source": [
    "###\n",
    "### AUTOGRADER TEST - DO NOT REMOVE\n",
    "###\n"
   ]
  },
  {
   "cell_type": "code",
   "execution_count": 93,
   "metadata": {
    "collapsed": true,
    "deletable": false,
    "editable": false,
    "nbgrader": {
     "grade": true,
     "grade_id": "Q3:test2",
     "locked": true,
     "points": "0.5",
     "solution": false
    }
   },
   "outputs": [],
   "source": [
    "###\n",
    "### AUTOGRADER TEST - DO NOT REMOVE\n",
    "###\n"
   ]
  },
  {
   "cell_type": "markdown",
   "metadata": {
    "deletable": false,
    "editable": false,
    "nbgrader": {
     "grade": false,
     "locked": true,
     "solution": false
    }
   },
   "source": [
    "## Q4: False Discovery Rate (FDR)"
   ]
  },
  {
   "cell_type": "markdown",
   "metadata": {
    "deletable": false,
    "editable": false,
    "nbgrader": {
     "grade": false,
     "locked": true,
     "solution": false
    }
   },
   "source": [
    "(a) Write a method to calculate the False Discovery Rate (FDR) from a given vector of p-values and specified alpha threshold. "
   ]
  },
  {
   "cell_type": "code",
   "execution_count": 94,
   "metadata": {},
   "outputs": [
    {
     "data": {
      "text/plain": [
       "0.35714285714285715"
      ]
     },
     "execution_count": 94,
     "metadata": {},
     "output_type": "execute_result"
    }
   ],
   "source": [
    "# calculate_FDR(p_values, alpha) takes as input a vector of p vaiues and specified \n",
    "# alpha, and returns the False Discovery Rate (FDR) as a floating point number. \n",
    "\n",
    "def calculate_FDR(p_values, alpha):\n",
    "    \n",
    "    ###\n",
    "    ### YOUR CODE HERE\n",
    "    ###\n",
    "    m=len(p_values)\n",
    "    count=0\n",
    "    for i in p_values:\n",
    "        if(i<alpha):\n",
    "            count+=1\n",
    "    return((m*alpha)/count)\n",
    "   \n",
    "\n",
    "# For example,\n",
    "p_values = [0.001, 0.008, 0.039, 0.041, 0.042, 0.06, 0.074, 0.205, 0.212, 0.216, 0.222, 0.251, 0.269, 0.275, 0.34,\n",
    "           0.341, 0.384, 0.569, 0.594, 0.696, 0.762, 0.94, 0.942, 0.975, 0.986]\n",
    "calculate_FDR(p_values, 0.10) # -> 0.35714285714285715\n"
   ]
  },
  {
   "cell_type": "code",
   "execution_count": 95,
   "metadata": {
    "collapsed": true,
    "deletable": false,
    "editable": false,
    "nbgrader": {
     "grade": true,
     "grade_id": "Q4a:test1",
     "locked": true,
     "points": "0.5",
     "solution": false
    }
   },
   "outputs": [],
   "source": [
    "###\n",
    "### AUTOGRADER TEST - DO NOT REMOVE\n",
    "###\n"
   ]
  },
  {
   "cell_type": "code",
   "execution_count": 96,
   "metadata": {
    "collapsed": true,
    "deletable": false,
    "editable": false,
    "nbgrader": {
     "grade": true,
     "grade_id": "Q4a:test2",
     "locked": true,
     "points": "0.5",
     "solution": false
    }
   },
   "outputs": [],
   "source": [
    "###\n",
    "### AUTOGRADER TEST - DO NOT REMOVE\n",
    "###\n"
   ]
  },
  {
   "cell_type": "markdown",
   "metadata": {},
   "source": [
    "(b) Write a method to calculate the adjusted alpha threshold to use to achieve the specified False Discovery Rate (FDR) with a given vector of p-values. "
   ]
  },
  {
   "cell_type": "code",
   "execution_count": 97,
   "metadata": {},
   "outputs": [
    {
     "data": {
      "text/plain": [
       "0.06"
      ]
     },
     "execution_count": 97,
     "metadata": {},
     "output_type": "execute_result"
    }
   ],
   "source": [
    "# calculate_alpha_for_FDR(p_values, fdr) takes as input a vector of p vaiues and specified \n",
    "# False Discovery Rate, and returns the adjusted alpha that will achieve the target FDR. \n",
    "\n",
    "\n",
    "def calculate_alpha_for_FDR(p_values, fdr):\n",
    "    ###\n",
    "    ### YOUR CODE HERE\n",
    "    ###\n",
    "    m=len(p_values)\n",
    "    numFeatures = m\n",
    "    targetFDR = fdr\n",
    "    pvals=p_values\n",
    "    pvals.sort(reverse=True)\n",
    "    numP = len(pvals)\n",
    "    fdrs = []\n",
    "    targetIdx = -1\n",
    "    for i in range(numP):\n",
    "        numSig = numP - (i)\n",
    "        currAlpha = pvals[i]\n",
    "        fdr = (numFeatures * currAlpha) / numSig\n",
    "        fdrs.append(fdr)\n",
    "        if fdr <= targetFDR and targetIdx < 0:\n",
    "            targetIdx = i\n",
    "    return pvals[targetIdx]\n",
    "# For example,\n",
    "p_values = [0.001, 0.008, 0.039, 0.041, 0.042, 0.06, 0.074, 0.205, 0.212, 0.216, 0.222, 0.251, 0.269, 0.275, 0.34,\n",
    "           0.341, 0.384, 0.569, 0.594, 0.696, 0.762, 0.94, 0.942, 0.975, 0.986]\n",
    "calculate_alpha_for_FDR(p_values, 0.25) # -> 0.06\n"
   ]
  },
  {
   "cell_type": "code",
   "execution_count": 98,
   "metadata": {
    "collapsed": true,
    "deletable": false,
    "editable": false,
    "nbgrader": {
     "grade": true,
     "grade_id": "Q4b:test1",
     "locked": true,
     "points": "0.5",
     "solution": false
    }
   },
   "outputs": [],
   "source": [
    "###\n",
    "### AUTOGRADER TEST - DO NOT REMOVE\n",
    "###\n"
   ]
  },
  {
   "cell_type": "code",
   "execution_count": 99,
   "metadata": {
    "collapsed": true,
    "deletable": false,
    "editable": false,
    "nbgrader": {
     "grade": true,
     "grade_id": "Q4b:test2",
     "locked": true,
     "points": "0.5",
     "solution": false
    }
   },
   "outputs": [],
   "source": [
    "###\n",
    "### AUTOGRADER TEST - DO NOT REMOVE\n",
    "###\n"
   ]
  },
  {
   "cell_type": "markdown",
   "metadata": {
    "deletable": false,
    "editable": false,
    "nbgrader": {
     "grade": false,
     "locked": true,
     "solution": false
    }
   },
   "source": [
    "## Q5: Multiple hypothesis tests"
   ]
  },
  {
   "cell_type": "markdown",
   "metadata": {
    "deletable": false,
    "editable": false,
    "nbgrader": {
     "grade": false,
     "locked": true,
     "solution": false
    }
   },
   "source": [
    "Consider the file 'doc_term_demo.csv'. Each column corresponds to a word and each row corresponds to a portition of the Wikepedia document describing a university. There is a header row specifying the words, and the first column records the document name. The value in the cell (i,j) specifies the number of times word j is used in document i. "
   ]
  },
  {
   "cell_type": "markdown",
   "metadata": {},
   "source": [
    "(a) Write a method to read in the data and test the hypothesis that the counts for a specified pair of words differs significantly different across a specified pair of schools. \n",
    "\n",
    "For example, for the pair of schools 'purdue.txt','cornell.txt' and the pair of words 'research' and 'university', construct a contingency table with rows corresponding to the schools and columns corresponding to the words, with the cells recording the words counts in each school documnent. Then use a chi-square test to assess whether there's a signifcant difference in the observed counts. "
   ]
  },
  {
   "cell_type": "code",
   "execution_count": 100,
   "metadata": {},
   "outputs": [
    {
     "name": "stdout",
     "output_type": "stream",
     "text": [
      "4 0\n"
     ]
    },
    {
     "data": {
      "text/plain": [
       "(0.4970314541039976, 'accept')"
      ]
     },
     "execution_count": 100,
     "metadata": {},
     "output_type": "execute_result"
    }
   ],
   "source": [
    "filename = 'doc_term_demo.csv'\n",
    "import numpy as np\n",
    "def doc_term_hypothesis(filename,word1,word2,school1,school2,alpha):\n",
    "    ###\n",
    "    ### YOUR CODE HERE\n",
    "    ###\n",
    "    df=pd.read_csv(filename)\n",
    "    w1=df.columns.get_loc(word1)\n",
    "    w2=df.columns.get_loc(word2)\n",
    "    w1i=df.index[df.iloc[:,0]==school1].values[0]\n",
    " \n",
    "    w2i=df.index[df.iloc[:,0]==school2].values[0]\n",
    "    print(w1i,w2i)\n",
    "    x=(df.iloc[w1i,w1])\n",
    "    y=(df.iloc[w1i,w2])\n",
    "    xx=(df.iloc[w2i,w1])\n",
    "    yy=(df.iloc[w2i,w2])\n",
    "    df1=pd.DataFrame([[x,y],[xx,yy]],columns=[word1,word2],index=[school1,school2])\n",
    "    #m=pd.crosstab(index=[df.iloc[4,0],df.iloc[0,0]],columns=[[df.iloc[w1i,w1],df.iloc[w1i,w2]],[df.iloc[w2i,w1],df.iloc[w2i,w2]]])\n",
    "    x=scs.chi2_contingency(df1)[1]\n",
    "    if(x>alpha):\n",
    "     a='accept'\n",
    "    else:\n",
    "     a='reject'\n",
    "    return x,a\n",
    "# For example,\n",
    "doc_term_hypothesis('doc_term_demo.csv','university','research','purdue.txt','cornell.txt',0.1)\n",
    "# -> (0.4970314541039976, 'accept')\n"
   ]
  },
  {
   "cell_type": "code",
   "execution_count": 101,
   "metadata": {
    "collapsed": true,
    "deletable": false,
    "editable": false,
    "nbgrader": {
     "grade": true,
     "grade_id": "Q5a:test1",
     "locked": true,
     "points": "1",
     "solution": false
    }
   },
   "outputs": [],
   "source": [
    "###\n",
    "### AUTOGRADER TEST - DO NOT REMOVE\n",
    "###\n"
   ]
  },
  {
   "cell_type": "code",
   "execution_count": 102,
   "metadata": {
    "collapsed": true,
    "deletable": false,
    "editable": false,
    "nbgrader": {
     "grade": true,
     "grade_id": "Q5a:test2",
     "locked": true,
     "points": "1",
     "solution": false
    }
   },
   "outputs": [],
   "source": [
    "###\n",
    "### AUTOGRADER TEST - DO NOT REMOVE\n",
    "###\n"
   ]
  },
  {
   "cell_type": "markdown",
   "metadata": {
    "deletable": false,
    "editable": false,
    "nbgrader": {
     "grade": false,
     "locked": true,
     "solution": false
    }
   },
   "source": [
    "(b) Write a method to read in the data and test multiple hypothesese for a specified pair of schools. Consider all possible pairs of words, and test the hypothesis that the words counts differ significantly across the two schools, using the specified alpha threshold.\n",
    "\n",
    "Note: only conduct tests on words that have non-zero values for both schools. I.e., every row and column in the contingency table should sum to >0.\n",
    "\n",
    "Return a tuple with (i) the total number of tests conducted, and (ii) the number of significant tests."
   ]
  },
  {
   "cell_type": "code",
   "execution_count": 103,
   "metadata": {},
   "outputs": [
    {
     "data": {
      "text/plain": [
       "(62, 41)"
      ]
     },
     "execution_count": 103,
     "metadata": {},
     "output_type": "execute_result"
    }
   ],
   "source": [
    "filename = 'doc_term_demo.csv'\n",
    "def school_term_hypotheses(filename,school1,school2,alpha):\n",
    "    ###\n",
    "    ### YOUR CODE HERE\n",
    "    ###\n",
    "    df=pd.read_csv(filename)\n",
    "    w1i=df.index[df.iloc[:,0]==school1].values[0]\n",
    "    w2i=df.index[df.iloc[:,0]==school2].values[0]\n",
    "    df=df.iloc[[w1i,w2i]]\n",
    "    df=df.loc[:,(df != 0).any(axis=0)]\n",
    "    count=0\n",
    "    tot=0\n",
    "    for i in range(1,len(df.columns)):\n",
    "        for j in range(i+1,len(df.columns)):\n",
    "            x=(df.iloc[0,i])\n",
    "            y=(df.iloc[0,j])\n",
    "            xx=(df.iloc[1,i])\n",
    "            yy=(df.iloc[1,j])\n",
    "            #print(x,y,xx,yy)\n",
    "            df1=pd.DataFrame([[x,y],[xx,yy]],index=[school1,school2])\n",
    "            if((x==0 and y==0 or xx==0 and yy==0)==False):\n",
    "                tot+=1\n",
    "            else:\n",
    "                df1 = df1[(df1.T != 0).any()]\n",
    "            x=scs.chi2_contingency(df1)[1]\n",
    "            if(x<alpha):\n",
    "             count+=1\n",
    "            else:\n",
    "             a='accept'\n",
    "            #m=pd.crosstab(index=[df.iloc[4,0],df.iloc[0,0]],columns=[[df.iloc[w1i,w1],df.iloc[w1i,w2]],[df.iloc[w2i,w1],df.iloc[w2i,w2]]])  \n",
    "    return tot,count\n",
    "# For example,\n",
    "school_term_hypotheses('doc_term_demo.csv','purdue.txt','uiuc.txt',0.05)\n",
    "# -> (62, 41)\n"
   ]
  },
  {
   "cell_type": "code",
   "execution_count": 104,
   "metadata": {
    "collapsed": true,
    "deletable": false,
    "editable": false,
    "nbgrader": {
     "grade": true,
     "grade_id": "Q5b:test1",
     "locked": true,
     "points": "1",
     "solution": false
    }
   },
   "outputs": [],
   "source": [
    "###\n",
    "### AUTOGRADER TEST - DO NOT REMOVE\n",
    "###\n"
   ]
  },
  {
   "cell_type": "code",
   "execution_count": 105,
   "metadata": {
    "collapsed": true,
    "deletable": false,
    "editable": false,
    "nbgrader": {
     "grade": true,
     "grade_id": "Q5b:test2",
     "locked": true,
     "points": "1",
     "solution": false
    }
   },
   "outputs": [],
   "source": [
    "###\n",
    "### AUTOGRADER TEST - DO NOT REMOVE\n",
    "###\n"
   ]
  },
  {
   "cell_type": "markdown",
   "metadata": {},
   "source": [
    "(c) Repeat Q5b, but use a Bonferroni correction when assessing significance.\n",
    "\n",
    "Return a tuple with (i) the adjusted alpha threshold after applying the Bonferroni correction, and (ii) the number of significant tests."
   ]
  },
  {
   "cell_type": "code",
   "execution_count": 106,
   "metadata": {},
   "outputs": [
    {
     "data": {
      "text/plain": [
       "(0.0008064516129032258, 23)"
      ]
     },
     "execution_count": 106,
     "metadata": {},
     "output_type": "execute_result"
    }
   ],
   "source": [
    "\n",
    "filename = 'doc_term_demo.csv'\n",
    "\n",
    "def school_term_hypotheses_BC(filename,school1,school2,alpha):\n",
    "    tot=school_term_hypotheses(filename,school1,school2,alpha)[0]\n",
    "    alpha=alpha/tot\n",
    "    ###\n",
    "    ### YOUR CODE HERE\n",
    "    ###\n",
    "    df=pd.read_csv(filename)\n",
    "    w1i=df.index[df.iloc[:,0]==school1].values[0]\n",
    "    w2i=df.index[df.iloc[:,0]==school2].values[0]\n",
    "    df=df.iloc[[w1i,w2i]]\n",
    "    df=df.loc[:,(df != 0).any(axis=0)]\n",
    "    #print((len(df.columns)))\n",
    "    count=0\n",
    "    tot=0\n",
    "    for i in range(1,len(df.columns)):\n",
    "        for j in range(i+1,len(df.columns)):\n",
    "            x=(df.iloc[0,i])\n",
    "            y=(df.iloc[0,j])\n",
    "            xx=(df.iloc[1,i])\n",
    "            yy=(df.iloc[1,j])\n",
    "            #print(x,y,xx,yy)\n",
    "            \n",
    "            df1=pd.DataFrame([[x,y],[xx,yy]],index=[school1,school2])\n",
    "             \n",
    "            if((x==0 and y==0 or xx==0 and yy==0)==False):\n",
    "                tot+=1\n",
    "            else:\n",
    "                df1 = df1[(df1.T != 0).any()]\n",
    "            x=scs.chi2_contingency(df1)[1]\n",
    "            if(x<=alpha):\n",
    "             count+=1\n",
    "    \n",
    "    return alpha,count\n",
    "\n",
    "# For example,\n",
    "school_term_hypotheses_BC('doc_term_demo.csv','purdue.txt','uiuc.txt',0.05)\n",
    "# -> (0.0008064516129032258, 23)\n"
   ]
  },
  {
   "cell_type": "code",
   "execution_count": 107,
   "metadata": {
    "collapsed": true,
    "deletable": false,
    "editable": false,
    "nbgrader": {
     "grade": true,
     "grade_id": "Q5c:test1",
     "locked": true,
     "points": "1",
     "solution": false
    }
   },
   "outputs": [],
   "source": [
    "###\n",
    "### AUTOGRADER TEST - DO NOT REMOVE\n",
    "###\n"
   ]
  },
  {
   "cell_type": "code",
   "execution_count": 108,
   "metadata": {
    "collapsed": true,
    "deletable": false,
    "editable": false,
    "nbgrader": {
     "grade": true,
     "grade_id": "Q5c:test2",
     "locked": true,
     "points": "1",
     "solution": false
    }
   },
   "outputs": [],
   "source": [
    "###\n",
    "### AUTOGRADER TEST - DO NOT REMOVE\n",
    "###\n"
   ]
  },
  {
   "cell_type": "markdown",
   "metadata": {},
   "source": [
    "(d) Repeat Q5b to test multiple hypotheses, but take as input a specified FDR rate and return the corresponding adjusted alpha threshold.\n",
    "\n",
    "Return a tuple with (i) the adjusted alpha threshold for the target FDR rate, and (ii) the number of significant tests."
   ]
  },
  {
   "cell_type": "code",
   "execution_count": 112,
   "metadata": {},
   "outputs": [
    {
     "data": {
      "text/plain": [
       "(0.011798507503906602, 39)"
      ]
     },
     "execution_count": 112,
     "metadata": {},
     "output_type": "execute_result"
    }
   ],
   "source": [
    "filename = 'doc_term_demo.csv'\n",
    "def school_term_hypotheses_FDR(filename,school1,school2,targetFDR):\n",
    "    pvalues=[]\n",
    "    \n",
    "    #count=school_term_hypotheses(filename,school1,school2,alpha)[1]\n",
    "    df=pd.read_csv(filename)\n",
    "    w1i=df.index[df.iloc[:,0]==school1].values[0]\n",
    "    w2i=df.index[df.iloc[:,0]==school2].values[0]\n",
    "    df=df.iloc[[w1i,w2i]]\n",
    "    df=df.loc[:,(df != 0).any(axis=0)]\n",
    "    count=0\n",
    "    for i in range(1,len(df.columns)):\n",
    "        for j in range(i+1,len(df.columns)):\n",
    "            x=(df.iloc[0,i])\n",
    "            y=(df.iloc[0,j])\n",
    "            xx=(df.iloc[1,i])\n",
    "            yy=(df.iloc[1,j])\n",
    "            #print(x,y,xx,yy)\n",
    "            df1=pd.DataFrame([[x,y],[xx,yy]],index=[school1,school2])\n",
    "          \n",
    "            df1 = df1[(df1.T != 0).any()]\n",
    "            x=scs.chi2_contingency(df1)[1]\n",
    "            pvalues.append(x)\n",
    "            #m=pd.crosstab(index=[df.iloc[4,0],df.iloc[0,0]],columns=[[df.iloc[w1i,w1],df.iloc[w1i,w2]],[df.iloc[w2i,w1],df.iloc[w2i,w2]]])  \n",
    "    alpha= calculate_alpha_for_FDR(pvalues, targetFDR)\n",
    "    count=school_term_hypotheses(filename,school1,school2,alpha)[1]\n",
    "\n",
    "    return alpha,count\n",
    "# For example,\n",
    "school_term_hypotheses_FDR('doc_term_demo.csv','purdue.txt','uiuc.txt',0.1)\n",
    "# -> (0.011798507503906602, 39)\n",
    "\n"
   ]
  },
  {
   "cell_type": "code",
   "execution_count": 113,
   "metadata": {
    "collapsed": true,
    "deletable": false,
    "editable": false,
    "nbgrader": {
     "grade": true,
     "grade_id": "Q5d:test1",
     "locked": true,
     "points": "1",
     "solution": false
    }
   },
   "outputs": [],
   "source": [
    "###\n",
    "### AUTOGRADER TEST - DO NOT REMOVE\n",
    "###\n"
   ]
  },
  {
   "cell_type": "code",
   "execution_count": 114,
   "metadata": {
    "collapsed": true,
    "deletable": false,
    "editable": false,
    "nbgrader": {
     "grade": true,
     "grade_id": "Q5d:test2",
     "locked": true,
     "points": "1",
     "solution": false
    }
   },
   "outputs": [],
   "source": [
    "###\n",
    "### AUTOGRADER TEST - DO NOT REMOVE\n",
    "###\n"
   ]
  },
  {
   "cell_type": "code",
   "execution_count": null,
   "metadata": {
    "collapsed": true
   },
   "outputs": [],
   "source": []
  }
 ],
 "metadata": {
  "kernelspec": {
   "display_name": "Python 3.5",
   "language": "python",
   "name": "python35"
  },
  "language_info": {
   "codemirror_mode": {
    "name": "ipython",
    "version": 3
   },
   "file_extension": ".py",
   "mimetype": "text/x-python",
   "name": "python",
   "nbconvert_exporter": "python",
   "pygments_lexer": "ipython3",
   "version": "3.5.2"
  }
 },
 "nbformat": 4,
 "nbformat_minor": 2
}
